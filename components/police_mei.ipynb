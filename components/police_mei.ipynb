{
 "cells": [
  {
   "cell_type": "code",
   "execution_count": null,
   "metadata": {},
   "outputs": [],
   "source": [
    "# import re\n",
    "# booleans = []\n",
    "# for result in df.Race:\n",
    "#     if not re.search('Unknown race', result):\n",
    "#         booleans.append(True)\n",
    "#     else:\n",
    "#         booleans.append(False)\n",
    "# filtered=pd.Series(booleans)\n",
    "# df=df[filtered]"
   ]
  },
  {
   "cell_type": "code",
   "execution_count": 11,
   "metadata": {},
   "outputs": [
    {
     "data": {
      "application/vnd.plotly.v1+json": {
       "config": {
        "plotlyServerURL": "https://plot.ly"
       },
       "data": [
        {
         "hovertemplate": "<b>%{hovertext}</b><br><br>Race=White<br>Year=2013<br>Funding/Population=%{x}<br>Death Rate (10^-5)=%{y}<br>Count=%{marker.size}<extra></extra>",
         "hovertext": [
          "Alaska",
          "Alabama",
          "Arkansas",
          "Arizona",
          "California",
          "Colorado",
          "Connecticut",
          "Florida",
          "Georgia",
          "Hawaii",
          "Iowa",
          "Idaho",
          "Illinois",
          "Indiana",
          "Kansas",
          "Kentucky",
          "Massachusetts",
          "Maine",
          "Michigan",
          "Minnesota",
          "Missouri",
          "Mississippi",
          "Montana",
          "North Carolina",
          "North Dakota",
          "Nebraska",
          "New Hampshire",
          "New Jersey",
          "New Mexico",
          "Nevada",
          "New York",
          "Ohio",
          "Oklahoma",
          "Oregon",
          "Pennsylvania",
          "Rhode Island",
          "South Carolina",
          "South Dakota",
          "Tennessee",
          "Texas",
          "Utah",
          "Virginia",
          "Vermont",
          "Washington",
          "Wisconsin",
          "West Virginia",
          "Wyoming"
         ],
         "ids": [
          "Alaska",
          "Alabama",
          "Arkansas",
          "Arizona",
          "California",
          "Colorado",
          "Connecticut",
          "Florida",
          "Georgia",
          "Hawaii",
          "Iowa",
          "Idaho",
          "Illinois",
          "Indiana",
          "Kansas",
          "Kentucky",
          "Massachusetts",
          "Maine",
          "Michigan",
          "Minnesota",
          "Missouri",
          "Mississippi",
          "Montana",
          "North Carolina",
          "North Dakota",
          "Nebraska",
          "New Hampshire",
          "New Jersey",
          "New Mexico",
          "Nevada",
          "New York",
          "Ohio",
          "Oklahoma",
          "Oregon",
          "Pennsylvania",
          "Rhode Island",
          "South Carolina",
          "South Dakota",
          "Tennessee",
          "Texas",
          "Utah",
          "Virginia",
          "Vermont",
          "Washington",
          "Wisconsin",
          "West Virginia",
          "Wyoming"
         ],
         "legendgroup": "White",
         "marker": {
          "color": "#636efa",
          "size": [
           494783,
           3372203,
           2363626,
           5566820,
           28130737,
           4634898,
           2934858,
           15252903,
           6214617,
           365054,
           2853957,
           1510665,
           10012811,
           5666856,
           2520102,
           3895860,
           5572298,
           1264252,
           7929749,
           4659601,
           5054636,
           1787471,
           907054,
           7048240,
           646074,
           1672409,
           1248938,
           6514205,
           1735232,
           2131701,
           13917381,
           9623567,
           2900337,
           3457378,
           10616533,
           901075,
           3255341,
           722883,
           5136549,
           21277402,
           2656097,
           5853258,
           596163,
           5649428,
           5047019,
           1740885,
           541207
          ],
          "sizemode": "area",
          "sizeref": 9427.747107438017,
          "symbol": "circle"
         },
         "mode": "markers",
         "name": "White",
         "orientation": "v",
         "showlegend": true,
         "type": "scatter",
         "x": [
          0.21845995899999998,
          0.103387823,
          0.09287989199999999,
          0.132248169,
          0.16931080399999998,
          0.13329386599999998,
          0.13382672,
          0.157194714,
          0.101546481,
          0.11720292800000001,
          0.09592312800000001,
          0.10672568,
          0.16134607,
          0.076508615,
          0.11813072699999999,
          0.076789685,
          0.143944066,
          0.082996359,
          0.109861705,
          0.13129821,
          0.116107435,
          0.096741912,
          0.126222062,
          0.11960342199999999,
          0.093257958,
          0.09769111300000001,
          0.11822516400000001,
          0.166849834,
          0.133732069,
          0.16836970899999998,
          0.20363440600000002,
          0.120096501,
          0.098763284,
          0.122710796,
          0.11130225199999999,
          0.150265775,
          0.097602075,
          0.089230435,
          0.114208854,
          0.107959175,
          0.100424796,
          0.112220347,
          0.137768711,
          0.10805635300000001,
          0.135139705,
          0.083514894,
          0.161234404
         ],
         "xaxis": "x",
         "y": [
          0.202108803,
          0.118616821,
          0.3807709,
          0.359271541,
          0.206180165,
          0.215754478,
          0.20443919300000002,
          0.209796129,
          0.193093154,
          0.547864152,
          0.105117211,
          0.264784052,
          0.089884849,
          0.105878815,
          0.158723734,
          0.102673094,
          0.08972958699999999,
          0.39549077200000005,
          0.06305369799999999,
          0.150227455,
          0.237405819,
          0.05594496400000001,
          0.5512350970000001,
          0.184443209,
          0.15478103099999999,
          0.11958797199999999,
          0.160136052,
          0.030702135,
          0.345775089,
          0.328376259,
          0.0359263,
          0.124693889,
          0.310308768,
          0.202465568,
          0.150708334,
          0.11097855300000001,
          0.12287499199999999,
          0.138334973,
          0.253088212,
          0.178593232,
          0.225895365,
          0.08542251199999999,
          0.16773936,
          0.33631723399999996,
          0.178323085,
          0.344652289,
          0.184772185
         ],
         "yaxis": "y"
        },
        {
         "hovertemplate": "<b>%{hovertext}</b><br><br>Race=Asian<br>Year=2013<br>Funding/Population=%{x}<br>Death Rate (10^-5)=%{y}<br>Count=%{marker.size}<extra></extra>",
         "hovertext": [
          "Alabama",
          "California",
          "Minnesota",
          "New Jersey",
          "Nevada",
          "South Carolina",
          "Texas",
          "Virginia"
         ],
         "ids": [
          "Alabama",
          "California",
          "Minnesota",
          "New Jersey",
          "Nevada",
          "South Carolina",
          "Texas",
          "Virginia"
         ],
         "legendgroup": "Asian",
         "marker": {
          "color": "#EF553B",
          "size": [
           63011,
           5403085,
           245004,
           799890,
           221876,
           70018,
           1158838,
           501706
          ],
          "sizemode": "area",
          "sizeref": 9427.747107438017,
          "symbol": "circle"
         },
         "mode": "markers",
         "name": "Asian",
         "orientation": "v",
         "showlegend": true,
         "type": "scatter",
         "x": [
          0.103387823,
          0.16931080399999998,
          0.13129821,
          0.166849834,
          0.16836970899999998,
          0.097602075,
          0.107959175,
          0.112220347
         ],
         "xaxis": "x",
         "y": [
          1.5870244880000002,
          0.166571505,
          0.40815660200000003,
          0.12501719,
          0.450702194,
          1.428204176,
          0.172586677,
          0.19931992
         ],
         "yaxis": "y"
        },
        {
         "hovertemplate": "<b>%{hovertext}</b><br><br>Race=Black<br>Year=2013<br>Funding/Population=%{x}<br>Death Rate (10^-5)=%{y}<br>Count=%{marker.size}<extra></extra>",
         "hovertext": [
          "Alabama",
          "Arkansas",
          "Arizona",
          "California",
          "Colorado",
          "Connecticut",
          "District of Columbia",
          "Delaware",
          "Florida",
          "Georgia",
          "Illinois",
          "Indiana",
          "Kentucky",
          "Massachusetts",
          "Michigan",
          "Minnesota",
          "Missouri",
          "Mississippi",
          "North Carolina",
          "Nebraska",
          "New Jersey",
          "New Mexico",
          "Nevada",
          "New York",
          "Ohio",
          "Oklahoma",
          "Oregon",
          "Pennsylvania",
          "South Carolina",
          "Tennessee",
          "Texas",
          "Virginia",
          "Washington",
          "Wisconsin",
          "West Virginia"
         ],
         "ids": [
          "Alabama",
          "Arkansas",
          "Arizona",
          "California",
          "Colorado",
          "Connecticut",
          "District of Columbia",
          "Delaware",
          "Florida",
          "Georgia",
          "Illinois",
          "Indiana",
          "Kentucky",
          "Massachusetts",
          "Michigan",
          "Minnesota",
          "Missouri",
          "Mississippi",
          "North Carolina",
          "Nebraska",
          "New Jersey",
          "New Mexico",
          "Nevada",
          "New York",
          "Ohio",
          "Oklahoma",
          "Oregon",
          "Pennsylvania",
          "South Carolina",
          "Tennessee",
          "Texas",
          "Virginia",
          "Washington",
          "Wisconsin",
          "West Virginia"
         ],
         "legendgroup": "Black",
         "marker": {
          "color": "#00cc96",
          "size": [
           1284340,
           461473,
           306678,
           2509919,
           231172,
           407444,
           322207,
           205095,
           3275914,
           3138301,
           1899919,
           623776,
           358259,
           549930,
           1411844,
           311032,
           711333,
           1118901,
           2175904,
           90405,
           1306161,
           50769,
           249219,
           3442795,
           1455976,
           295641,
           78944,
           1477970,
           1330419,
           1106109,
           3275007,
           1623338,
           277615,
           376441,
           65312
          ],
          "sizemode": "area",
          "sizeref": 9427.747107438017,
          "symbol": "circle"
         },
         "mode": "markers",
         "name": "Black",
         "orientation": "v",
         "showlegend": true,
         "type": "scatter",
         "x": [
          0.103387823,
          0.09287989199999999,
          0.132248169,
          0.16931080399999998,
          0.13329386599999998,
          0.13382672,
          0.369341918,
          0.15210908,
          0.157194714,
          0.101546481,
          0.16134607,
          0.076508615,
          0.076789685,
          0.143944066,
          0.109861705,
          0.13129821,
          0.116107435,
          0.096741912,
          0.11960342199999999,
          0.09769111300000001,
          0.166849834,
          0.133732069,
          0.16836970899999998,
          0.20363440600000002,
          0.120096501,
          0.098763284,
          0.122710796,
          0.11130225199999999,
          0.097602075,
          0.114208854,
          0.107959175,
          0.112220347,
          0.10805635300000001,
          0.135139705,
          0.083514894
         ],
         "xaxis": "x",
         "y": [
          0.93433203,
          1.300184409,
          1.956449436,
          1.235099619,
          0.43257834,
          0.49086500200000005,
          1.8621569359999999,
          0.48757892700000005,
          0.7936716290000001,
          0.3823725,
          0.578972051,
          1.763453547,
          0.55825534,
          0.9092066259999999,
          0.495805486,
          0.9645309809999999,
          1.405811343,
          0.357493648,
          0.643410739,
          1.10613351,
          0.459361442,
          1.969705923,
          0.40125351600000003,
          0.37760017700000004,
          0.8928718609999999,
          2.0294884669999997,
          1.266720713,
          0.6089433479999999,
          0.601314323,
          0.36162801299999997,
          0.6412200029999999,
          0.308007328,
          1.440844335,
          1.062583512,
          1.5311122
         ],
         "yaxis": "y"
        },
        {
         "hovertemplate": "<b>%{hovertext}</b><br><br>Race=Native American<br>Year=2013<br>Funding/Population=%{x}<br>Death Rate (10^-5)=%{y}<br>Count=%{marker.size}<extra></extra>",
         "hovertext": [
          "Arizona",
          "Oklahoma",
          "South Dakota",
          "Washington"
         ],
         "ids": [
          "Arizona",
          "Oklahoma",
          "South Dakota",
          "Washington"
         ],
         "legendgroup": "Native American",
         "marker": {
          "color": "#ab63fa",
          "size": [
           353396,
           351251,
           76353,
           131950
          ],
          "sizemode": "area",
          "sizeref": 9427.747107438017,
          "symbol": "circle"
         },
         "mode": "markers",
         "name": "Native American",
         "orientation": "v",
         "showlegend": true,
         "type": "scatter",
         "x": [
          0.132248169,
          0.098763284,
          0.089230435,
          0.10805635300000001
         ],
         "xaxis": "x",
         "y": [
          0.282968681,
          0.284696698,
          1.309706233,
          0.7578628270000001
         ],
         "yaxis": "y"
        },
        {
         "hovertemplate": "<b>%{hovertext}</b><br><br>Race=Pacific Islander<br>Year=2013<br>Funding/Population=%{x}<br>Death Rate (10^-5)=%{y}<br>Count=%{marker.size}<extra></extra>",
         "hovertext": [
          "Hawaii",
          "Oklahoma"
         ],
         "ids": [
          "Hawaii",
          "Oklahoma"
         ],
         "legendgroup": "Pacific Islander",
         "marker": {
          "color": "#FFA15A",
          "size": [
           144264,
           6457
          ],
          "sizemode": "area",
          "sizeref": 9427.747107438017,
          "symbol": "circle"
         },
         "mode": "markers",
         "name": "Pacific Islander",
         "orientation": "v",
         "showlegend": true,
         "type": "scatter",
         "x": [
          0.11720292800000001,
          0.098763284
         ],
         "xaxis": "x",
         "y": [
          0.693173626,
          15.487068300000002
         ],
         "yaxis": "y"
        }
       ],
       "frames": [
        {
         "data": [
          {
           "hovertemplate": "<b>%{hovertext}</b><br><br>Race=White<br>Year=2013<br>Funding/Population=%{x}<br>Death Rate (10^-5)=%{y}<br>Count=%{marker.size}<extra></extra>",
           "hovertext": [
            "Alaska",
            "Alabama",
            "Arkansas",
            "Arizona",
            "California",
            "Colorado",
            "Connecticut",
            "Florida",
            "Georgia",
            "Hawaii",
            "Iowa",
            "Idaho",
            "Illinois",
            "Indiana",
            "Kansas",
            "Kentucky",
            "Massachusetts",
            "Maine",
            "Michigan",
            "Minnesota",
            "Missouri",
            "Mississippi",
            "Montana",
            "North Carolina",
            "North Dakota",
            "Nebraska",
            "New Hampshire",
            "New Jersey",
            "New Mexico",
            "Nevada",
            "New York",
            "Ohio",
            "Oklahoma",
            "Oregon",
            "Pennsylvania",
            "Rhode Island",
            "South Carolina",
            "South Dakota",
            "Tennessee",
            "Texas",
            "Utah",
            "Virginia",
            "Vermont",
            "Washington",
            "Wisconsin",
            "West Virginia",
            "Wyoming"
           ],
           "ids": [
            "Alaska",
            "Alabama",
            "Arkansas",
            "Arizona",
            "California",
            "Colorado",
            "Connecticut",
            "Florida",
            "Georgia",
            "Hawaii",
            "Iowa",
            "Idaho",
            "Illinois",
            "Indiana",
            "Kansas",
            "Kentucky",
            "Massachusetts",
            "Maine",
            "Michigan",
            "Minnesota",
            "Missouri",
            "Mississippi",
            "Montana",
            "North Carolina",
            "North Dakota",
            "Nebraska",
            "New Hampshire",
            "New Jersey",
            "New Mexico",
            "Nevada",
            "New York",
            "Ohio",
            "Oklahoma",
            "Oregon",
            "Pennsylvania",
            "Rhode Island",
            "South Carolina",
            "South Dakota",
            "Tennessee",
            "Texas",
            "Utah",
            "Virginia",
            "Vermont",
            "Washington",
            "Wisconsin",
            "West Virginia",
            "Wyoming"
           ],
           "legendgroup": "White",
           "marker": {
            "color": "#636efa",
            "size": [
             494783,
             3372203,
             2363626,
             5566820,
             28130737,
             4634898,
             2934858,
             15252903,
             6214617,
             365054,
             2853957,
             1510665,
             10012811,
             5666856,
             2520102,
             3895860,
             5572298,
             1264252,
             7929749,
             4659601,
             5054636,
             1787471,
             907054,
             7048240,
             646074,
             1672409,
             1248938,
             6514205,
             1735232,
             2131701,
             13917381,
             9623567,
             2900337,
             3457378,
             10616533,
             901075,
             3255341,
             722883,
             5136549,
             21277402,
             2656097,
             5853258,
             596163,
             5649428,
             5047019,
             1740885,
             541207
            ],
            "sizemode": "area",
            "sizeref": 9427.747107438017,
            "symbol": "circle"
           },
           "mode": "markers",
           "name": "White",
           "orientation": "v",
           "showlegend": true,
           "type": "scatter",
           "x": [
            0.21845995899999998,
            0.103387823,
            0.09287989199999999,
            0.132248169,
            0.16931080399999998,
            0.13329386599999998,
            0.13382672,
            0.157194714,
            0.101546481,
            0.11720292800000001,
            0.09592312800000001,
            0.10672568,
            0.16134607,
            0.076508615,
            0.11813072699999999,
            0.076789685,
            0.143944066,
            0.082996359,
            0.109861705,
            0.13129821,
            0.116107435,
            0.096741912,
            0.126222062,
            0.11960342199999999,
            0.093257958,
            0.09769111300000001,
            0.11822516400000001,
            0.166849834,
            0.133732069,
            0.16836970899999998,
            0.20363440600000002,
            0.120096501,
            0.098763284,
            0.122710796,
            0.11130225199999999,
            0.150265775,
            0.097602075,
            0.089230435,
            0.114208854,
            0.107959175,
            0.100424796,
            0.112220347,
            0.137768711,
            0.10805635300000001,
            0.135139705,
            0.083514894,
            0.161234404
           ],
           "xaxis": "x",
           "y": [
            0.202108803,
            0.118616821,
            0.3807709,
            0.359271541,
            0.206180165,
            0.215754478,
            0.20443919300000002,
            0.209796129,
            0.193093154,
            0.547864152,
            0.105117211,
            0.264784052,
            0.089884849,
            0.105878815,
            0.158723734,
            0.102673094,
            0.08972958699999999,
            0.39549077200000005,
            0.06305369799999999,
            0.150227455,
            0.237405819,
            0.05594496400000001,
            0.5512350970000001,
            0.184443209,
            0.15478103099999999,
            0.11958797199999999,
            0.160136052,
            0.030702135,
            0.345775089,
            0.328376259,
            0.0359263,
            0.124693889,
            0.310308768,
            0.202465568,
            0.150708334,
            0.11097855300000001,
            0.12287499199999999,
            0.138334973,
            0.253088212,
            0.178593232,
            0.225895365,
            0.08542251199999999,
            0.16773936,
            0.33631723399999996,
            0.178323085,
            0.344652289,
            0.184772185
           ],
           "yaxis": "y"
          },
          {
           "hovertemplate": "<b>%{hovertext}</b><br><br>Race=Asian<br>Year=2013<br>Funding/Population=%{x}<br>Death Rate (10^-5)=%{y}<br>Count=%{marker.size}<extra></extra>",
           "hovertext": [
            "Alabama",
            "California",
            "Minnesota",
            "New Jersey",
            "Nevada",
            "South Carolina",
            "Texas",
            "Virginia"
           ],
           "ids": [
            "Alabama",
            "California",
            "Minnesota",
            "New Jersey",
            "Nevada",
            "South Carolina",
            "Texas",
            "Virginia"
           ],
           "legendgroup": "Asian",
           "marker": {
            "color": "#EF553B",
            "size": [
             63011,
             5403085,
             245004,
             799890,
             221876,
             70018,
             1158838,
             501706
            ],
            "sizemode": "area",
            "sizeref": 9427.747107438017,
            "symbol": "circle"
           },
           "mode": "markers",
           "name": "Asian",
           "orientation": "v",
           "showlegend": true,
           "type": "scatter",
           "x": [
            0.103387823,
            0.16931080399999998,
            0.13129821,
            0.166849834,
            0.16836970899999998,
            0.097602075,
            0.107959175,
            0.112220347
           ],
           "xaxis": "x",
           "y": [
            1.5870244880000002,
            0.166571505,
            0.40815660200000003,
            0.12501719,
            0.450702194,
            1.428204176,
            0.172586677,
            0.19931992
           ],
           "yaxis": "y"
          },
          {
           "hovertemplate": "<b>%{hovertext}</b><br><br>Race=Black<br>Year=2013<br>Funding/Population=%{x}<br>Death Rate (10^-5)=%{y}<br>Count=%{marker.size}<extra></extra>",
           "hovertext": [
            "Alabama",
            "Arkansas",
            "Arizona",
            "California",
            "Colorado",
            "Connecticut",
            "District of Columbia",
            "Delaware",
            "Florida",
            "Georgia",
            "Illinois",
            "Indiana",
            "Kentucky",
            "Massachusetts",
            "Michigan",
            "Minnesota",
            "Missouri",
            "Mississippi",
            "North Carolina",
            "Nebraska",
            "New Jersey",
            "New Mexico",
            "Nevada",
            "New York",
            "Ohio",
            "Oklahoma",
            "Oregon",
            "Pennsylvania",
            "South Carolina",
            "Tennessee",
            "Texas",
            "Virginia",
            "Washington",
            "Wisconsin",
            "West Virginia"
           ],
           "ids": [
            "Alabama",
            "Arkansas",
            "Arizona",
            "California",
            "Colorado",
            "Connecticut",
            "District of Columbia",
            "Delaware",
            "Florida",
            "Georgia",
            "Illinois",
            "Indiana",
            "Kentucky",
            "Massachusetts",
            "Michigan",
            "Minnesota",
            "Missouri",
            "Mississippi",
            "North Carolina",
            "Nebraska",
            "New Jersey",
            "New Mexico",
            "Nevada",
            "New York",
            "Ohio",
            "Oklahoma",
            "Oregon",
            "Pennsylvania",
            "South Carolina",
            "Tennessee",
            "Texas",
            "Virginia",
            "Washington",
            "Wisconsin",
            "West Virginia"
           ],
           "legendgroup": "Black",
           "marker": {
            "color": "#00cc96",
            "size": [
             1284340,
             461473,
             306678,
             2509919,
             231172,
             407444,
             322207,
             205095,
             3275914,
             3138301,
             1899919,
             623776,
             358259,
             549930,
             1411844,
             311032,
             711333,
             1118901,
             2175904,
             90405,
             1306161,
             50769,
             249219,
             3442795,
             1455976,
             295641,
             78944,
             1477970,
             1330419,
             1106109,
             3275007,
             1623338,
             277615,
             376441,
             65312
            ],
            "sizemode": "area",
            "sizeref": 9427.747107438017,
            "symbol": "circle"
           },
           "mode": "markers",
           "name": "Black",
           "orientation": "v",
           "showlegend": true,
           "type": "scatter",
           "x": [
            0.103387823,
            0.09287989199999999,
            0.132248169,
            0.16931080399999998,
            0.13329386599999998,
            0.13382672,
            0.369341918,
            0.15210908,
            0.157194714,
            0.101546481,
            0.16134607,
            0.076508615,
            0.076789685,
            0.143944066,
            0.109861705,
            0.13129821,
            0.116107435,
            0.096741912,
            0.11960342199999999,
            0.09769111300000001,
            0.166849834,
            0.133732069,
            0.16836970899999998,
            0.20363440600000002,
            0.120096501,
            0.098763284,
            0.122710796,
            0.11130225199999999,
            0.097602075,
            0.114208854,
            0.107959175,
            0.112220347,
            0.10805635300000001,
            0.135139705,
            0.083514894
           ],
           "xaxis": "x",
           "y": [
            0.93433203,
            1.300184409,
            1.956449436,
            1.235099619,
            0.43257834,
            0.49086500200000005,
            1.8621569359999999,
            0.48757892700000005,
            0.7936716290000001,
            0.3823725,
            0.578972051,
            1.763453547,
            0.55825534,
            0.9092066259999999,
            0.495805486,
            0.9645309809999999,
            1.405811343,
            0.357493648,
            0.643410739,
            1.10613351,
            0.459361442,
            1.969705923,
            0.40125351600000003,
            0.37760017700000004,
            0.8928718609999999,
            2.0294884669999997,
            1.266720713,
            0.6089433479999999,
            0.601314323,
            0.36162801299999997,
            0.6412200029999999,
            0.308007328,
            1.440844335,
            1.062583512,
            1.5311122
           ],
           "yaxis": "y"
          },
          {
           "hovertemplate": "<b>%{hovertext}</b><br><br>Race=Native American<br>Year=2013<br>Funding/Population=%{x}<br>Death Rate (10^-5)=%{y}<br>Count=%{marker.size}<extra></extra>",
           "hovertext": [
            "Arizona",
            "Oklahoma",
            "South Dakota",
            "Washington"
           ],
           "ids": [
            "Arizona",
            "Oklahoma",
            "South Dakota",
            "Washington"
           ],
           "legendgroup": "Native American",
           "marker": {
            "color": "#ab63fa",
            "size": [
             353396,
             351251,
             76353,
             131950
            ],
            "sizemode": "area",
            "sizeref": 9427.747107438017,
            "symbol": "circle"
           },
           "mode": "markers",
           "name": "Native American",
           "orientation": "v",
           "showlegend": true,
           "type": "scatter",
           "x": [
            0.132248169,
            0.098763284,
            0.089230435,
            0.10805635300000001
           ],
           "xaxis": "x",
           "y": [
            0.282968681,
            0.284696698,
            1.309706233,
            0.7578628270000001
           ],
           "yaxis": "y"
          },
          {
           "hovertemplate": "<b>%{hovertext}</b><br><br>Race=Pacific Islander<br>Year=2013<br>Funding/Population=%{x}<br>Death Rate (10^-5)=%{y}<br>Count=%{marker.size}<extra></extra>",
           "hovertext": [
            "Hawaii",
            "Oklahoma"
           ],
           "ids": [
            "Hawaii",
            "Oklahoma"
           ],
           "legendgroup": "Pacific Islander",
           "marker": {
            "color": "#FFA15A",
            "size": [
             144264,
             6457
            ],
            "sizemode": "area",
            "sizeref": 9427.747107438017,
            "symbol": "circle"
           },
           "mode": "markers",
           "name": "Pacific Islander",
           "orientation": "v",
           "showlegend": true,
           "type": "scatter",
           "x": [
            0.11720292800000001,
            0.098763284
           ],
           "xaxis": "x",
           "y": [
            0.693173626,
            15.487068300000002
           ],
           "yaxis": "y"
          }
         ],
         "name": "2013"
        },
        {
         "data": [
          {
           "hovertemplate": "<b>%{hovertext}</b><br><br>Race=White<br>Year=2014<br>Funding/Population=%{x}<br>Death Rate (10^-5)=%{y}<br>Count=%{marker.size}<extra></extra>",
           "hovertext": [
            "Alaska",
            "Alabama",
            "Arkansas",
            "Arizona",
            "California",
            "Colorado",
            "Delaware",
            "Florida",
            "Georgia",
            "Iowa",
            "Idaho",
            "Illinois",
            "Indiana",
            "Kansas",
            "Kentucky",
            "Massachusetts",
            "Maine",
            "Michigan",
            "Minnesota",
            "Missouri",
            "Mississippi",
            "Montana",
            "North Carolina",
            "North Dakota",
            "Nebraska",
            "New Hampshire",
            "New Jersey",
            "New Mexico",
            "Nevada",
            "New York",
            "Ohio",
            "Oklahoma",
            "Oregon",
            "Pennsylvania",
            "South Carolina",
            "South Dakota",
            "Tennessee",
            "Texas",
            "Utah",
            "Virginia",
            "Washington",
            "Wisconsin",
            "West Virginia",
            "Wyoming"
           ],
           "ids": [
            "Alaska",
            "Alabama",
            "Arkansas",
            "Arizona",
            "California",
            "Colorado",
            "Delaware",
            "Florida",
            "Georgia",
            "Iowa",
            "Idaho",
            "Illinois",
            "Indiana",
            "Kansas",
            "Kentucky",
            "Massachusetts",
            "Maine",
            "Michigan",
            "Minnesota",
            "Missouri",
            "Mississippi",
            "Montana",
            "North Carolina",
            "North Dakota",
            "Nebraska",
            "New Hampshire",
            "New Jersey",
            "New Mexico",
            "Nevada",
            "New York",
            "Ohio",
            "Oklahoma",
            "Oregon",
            "Pennsylvania",
            "South Carolina",
            "South Dakota",
            "Tennessee",
            "Texas",
            "Utah",
            "Virginia",
            "Washington",
            "Wisconsin",
            "West Virginia",
            "Wyoming"
           ],
           "legendgroup": "White",
           "marker": {
            "color": "#636efa",
            "size": [
             492186,
             3373358,
             2365842,
             5631624,
             28280234,
             4696582,
             659498,
             15455716,
             6238124,
             2857962,
             1527448,
             9983837,
             5674421,
             2521601,
             3898230,
             5584070,
             1264326,
             7929684,
             4670623,
             5058673,
             1783586,
             913098,
             7090082,
             656875,
             1678770,
             1252812,
             6495168,
             1728148,
             2151287,
             13885879,
             9617058,
             2909805,
             3482860,
             10593495,
             3296955,
             727396,
             5164331,
             21583780,
             2687815,
             5871545,
             5693914,
             5048909,
             1735081,
             541752
            ],
            "sizemode": "area",
            "sizeref": 9427.747107438017,
            "symbol": "circle"
           },
           "mode": "markers",
           "name": "White",
           "orientation": "v",
           "showlegend": true,
           "type": "scatter",
           "x": [
            0.213306363,
            0.101986941,
            0.09188676900000001,
            0.12821359400000001,
            0.17406292399999998,
            0.13914547300000002,
            0.155444149,
            0.15415763300000002,
            0.100835563,
            0.09867081300000001,
            0.106746225,
            0.161767663,
            0.076967409,
            0.11014308199999999,
            0.076738746,
            0.15986465,
            0.083433783,
            0.102006358,
            0.134883921,
            0.119135101,
            0.097919853,
            0.128364647,
            0.119918803,
            0.094454145,
            0.099768278,
            0.126358066,
            0.163675129,
            0.136912048,
            0.167038566,
            0.201765296,
            0.119385529,
            0.10805925300000001,
            0.12594781800000002,
            0.11710347800000001,
            0.09658534199999999,
            0.090066928,
            0.115209009,
            0.109374001,
            0.103426321,
            0.113807584,
            0.114750108,
            0.129590191,
            0.083793275,
            0.15679949199999998
           ],
           "xaxis": "x",
           "y": [
            0.203175222,
            0.29644052,
            0.169072998,
            0.31962361100000003,
            0.16972985399999999,
            0.170336641,
            0.303260965,
            0.271744124,
            0.176335065,
            0.244929779,
            0.130937354,
            0.080129513,
            0.140983547,
            0.356916102,
            0.359137352,
            0.053724255,
            0.47456115,
            0.12610843,
            0.14987294,
            0.23721636100000001,
            0.39246775899999997,
            0.328551809,
            0.16925051100000002,
            0.152235966,
            0.297837107,
            0.079820436,
            0.015396061,
            0.4050579,
            0.6042894320000001,
            0.064814046,
            0.155972856,
            0.48113189700000003,
            0.373256462,
            0.066078287,
            0.39430322799999995,
            0.137476698,
            0.290453885,
            0.19922367600000002,
            0.446459299,
            0.06812517,
            0.42150267799999996,
            0.09903129599999999,
            0.288170985,
            0.36917261
           ],
           "yaxis": "y"
          },
          {
           "hovertemplate": "<b>%{hovertext}</b><br><br>Race=Asian<br>Year=2014<br>Funding/Population=%{x}<br>Death Rate (10^-5)=%{y}<br>Count=%{marker.size}<extra></extra>",
           "hovertext": [
            "California",
            "Connecticut",
            "Florida",
            "Illinois",
            "Minnesota",
            "North Carolina",
            "New Mexico",
            "Nevada",
            "Texas",
            "Wisconsin"
           ],
           "ids": [
            "California",
            "Connecticut",
            "Florida",
            "Illinois",
            "Minnesota",
            "North Carolina",
            "New Mexico",
            "Nevada",
            "Texas",
            "Wisconsin"
           ],
           "legendgroup": "Asian",
           "marker": {
            "color": "#EF553B",
            "size": [
             5537896,
             159480,
             540284,
             686944,
             254060,
             269463,
             34973,
             229308,
             1227720,
             154652
            ],
            "sizemode": "area",
            "sizeref": 9427.747107438017,
            "symbol": "circle"
           },
           "mode": "markers",
           "name": "Asian",
           "orientation": "v",
           "showlegend": true,
           "type": "scatter",
           "x": [
            0.17406292399999998,
            0.133613923,
            0.15415763300000002,
            0.161767663,
            0.134883921,
            0.119918803,
            0.136912048,
            0.167038566,
            0.109374001,
            0.129590191
           ],
           "xaxis": "x",
           "y": [
            0.090286997,
            0.627037873,
            0.370175685,
            0.145572274,
            0.393607809,
            0.37110846399999997,
            2.85934864,
            0.436094685,
            0.162903594,
            0.646613041
           ],
           "yaxis": "y"
          },
          {
           "hovertemplate": "<b>%{hovertext}</b><br><br>Race=Black<br>Year=2014<br>Funding/Population=%{x}<br>Death Rate (10^-5)=%{y}<br>Count=%{marker.size}<extra></extra>",
           "hovertext": [
            "Alaska",
            "Alabama",
            "Arkansas",
            "Arizona",
            "California",
            "Colorado",
            "Connecticut",
            "District of Columbia",
            "Delaware",
            "Florida",
            "Georgia",
            "Illinois",
            "Indiana",
            "Kansas",
            "Kentucky",
            "Massachusetts",
            "Michigan",
            "Minnesota",
            "Missouri",
            "Mississippi",
            "North Carolina",
            "Nebraska",
            "New Jersey",
            "New Mexico",
            "Nevada",
            "New York",
            "Ohio",
            "Oklahoma",
            "Pennsylvania",
            "Rhode Island",
            "South Carolina",
            "Tennessee",
            "Texas",
            "Utah",
            "Virginia",
            "Washington",
            "Wisconsin",
            "West Virginia"
           ],
           "ids": [
            "Alaska",
            "Alabama",
            "Arkansas",
            "Arizona",
            "California",
            "Colorado",
            "Connecticut",
            "District of Columbia",
            "Delaware",
            "Florida",
            "Georgia",
            "Illinois",
            "Indiana",
            "Kansas",
            "Kentucky",
            "Massachusetts",
            "Michigan",
            "Minnesota",
            "Missouri",
            "Mississippi",
            "North Carolina",
            "Nebraska",
            "New Jersey",
            "New Mexico",
            "Nevada",
            "New York",
            "Ohio",
            "Oklahoma",
            "Pennsylvania",
            "Rhode Island",
            "South Carolina",
            "Tennessee",
            "Texas",
            "Utah",
            "Virginia",
            "Washington",
            "Wisconsin",
            "West Virginia"
           ],
           "legendgroup": "Black",
           "marker": {
            "color": "#00cc96",
            "size": [
             26975,
             1290579,
             463401,
             316562,
             2522246,
             237728,
             411182,
             324743,
             208247,
             3337671,
             3187865,
             1895699,
             629865,
             179258,
             360959,
             564199,
             1410938,
             323684,
             714336,
             1122262,
             2201449,
             92459,
             1313341,
             51259,
             257590,
             3450840,
             1468625,
             298489,
             1489090,
             81863,
             1340329,
             1116669,
             3353743,
             38313,
             1637077,
             284572,
             379440,
             65453
            ],
            "sizemode": "area",
            "sizeref": 9427.747107438017,
            "symbol": "circle"
           },
           "mode": "markers",
           "name": "Black",
           "orientation": "v",
           "showlegend": true,
           "type": "scatter",
           "x": [
            0.213306363,
            0.101986941,
            0.09188676900000001,
            0.12821359400000001,
            0.17406292399999998,
            0.13914547300000002,
            0.133613923,
            0.385619914,
            0.155444149,
            0.15415763300000002,
            0.100835563,
            0.161767663,
            0.076967409,
            0.11014308199999999,
            0.076738746,
            0.15986465,
            0.102006358,
            0.134883921,
            0.119135101,
            0.097919853,
            0.119918803,
            0.099768278,
            0.163675129,
            0.136912048,
            0.167038566,
            0.201765296,
            0.119385529,
            0.10805925300000001,
            0.11710347800000001,
            0.158581114,
            0.09658534199999999,
            0.115209009,
            0.109374001,
            0.103426321,
            0.113807584,
            0.114750108,
            0.129590191,
            0.083793275
           ],
           "xaxis": "x",
           "y": [
            3.707136237,
            0.542392213,
            0.431591645,
            1.579469425,
            0.9118856759999999,
            0.841297617,
            0.243201307,
            0.923807442,
            0.480198994,
            0.898830352,
            0.407796441,
            0.94951783,
            0.317528359,
            2.231420634,
            0.8311193240000001,
            0.17724242699999998,
            0.28349934600000004,
            0.30894329,
            1.679881736,
            0.71284602,
            0.45424627100000003,
            1.081560475,
            0.685275187,
            3.9017538380000003,
            1.552855313,
            0.318762968,
            0.885181718,
            2.345145047,
            0.335775541,
            1.2215530829999999,
            0.373042738,
            0.53731231,
            0.8050706329999999,
            2.610080129,
            0.183253445,
            0.7028098340000001,
            0.790638836,
            1.527813851
           ],
           "yaxis": "y"
          },
          {
           "hovertemplate": "<b>%{hovertext}</b><br><br>Race=Native American<br>Year=2014<br>Funding/Population=%{x}<br>Death Rate (10^-5)=%{y}<br>Count=%{marker.size}<extra></extra>",
           "hovertext": [
            "California",
            "Idaho",
            "Mississippi",
            "Montana",
            "New Mexico",
            "South Dakota",
            "Washington"
           ],
           "ids": [
            "California",
            "Idaho",
            "Mississippi",
            "Montana",
            "New Mexico",
            "South Dakota",
            "Washington"
           ],
           "legendgroup": "Native American",
           "marker": {
            "color": "#ab63fa",
            "size": [
             635115,
             28142,
             17638,
             67995,
             221635,
             77190,
             134866
            ],
            "sizemode": "area",
            "sizeref": 9427.747107438017,
            "symbol": "circle"
           },
           "mode": "markers",
           "name": "Native American",
           "orientation": "v",
           "showlegend": true,
           "type": "scatter",
           "x": [
            0.17406292399999998,
            0.106746225,
            0.097919853,
            0.128364647,
            0.136912048,
            0.090066928,
            0.114750108
           ],
           "xaxis": "x",
           "y": [
            0.31490359999999995,
            3.5534077180000003,
            5.66957705,
            1.470696375,
            0.9023845509999999,
            2.591009198,
            0.741476725
           ],
           "yaxis": "y"
          },
          {
           "hovertemplate": "<b>%{hovertext}</b><br><br>Race=Pacific Islander<br>Year=2014<br>Funding/Population=%{x}<br>Death Rate (10^-5)=%{y}<br>Count=%{marker.size}<extra></extra>",
           "hovertext": [
            "California",
            "Hawaii",
            "Missouri",
            "Utah"
           ],
           "ids": [
            "California",
            "Hawaii",
            "Missouri",
            "Utah"
           ],
           "legendgroup": "Pacific Islander",
           "marker": {
            "color": "#FFA15A",
            "size": [
             191689,
             144813,
             8241,
             28985
            ],
            "sizemode": "area",
            "sizeref": 9427.747107438017,
            "symbol": "circle"
           },
           "mode": "markers",
           "name": "Pacific Islander",
           "orientation": "v",
           "showlegend": true,
           "type": "scatter",
           "x": [
            0.17406292399999998,
            0.134723688,
            0.119135101,
            0.103426321
           ],
           "xaxis": "x",
           "y": [
            0.521678344,
            0.690545738,
            12.1344497,
            6.900120752
           ],
           "yaxis": "y"
          }
         ],
         "name": "2014"
        },
        {
         "data": [
          {
           "hovertemplate": "<b>%{hovertext}</b><br><br>Race=White<br>Year=2015<br>Funding/Population=%{x}<br>Death Rate (10^-5)=%{y}<br>Count=%{marker.size}<extra></extra>",
           "hovertext": [
            "Alaska",
            "Alabama",
            "Arkansas",
            "Arizona",
            "California",
            "Colorado",
            "Connecticut",
            "Delaware",
            "Florida",
            "Georgia",
            "Iowa",
            "Idaho",
            "Illinois",
            "Indiana",
            "Kansas",
            "Kentucky",
            "Massachusetts",
            "Maine",
            "Michigan",
            "Minnesota",
            "Missouri",
            "Mississippi",
            "Montana",
            "North Carolina",
            "Nebraska",
            "New Hampshire",
            "New Jersey",
            "New Mexico",
            "Nevada",
            "New York",
            "Ohio",
            "Oklahoma",
            "Oregon",
            "Pennsylvania",
            "South Carolina",
            "South Dakota",
            "Tennessee",
            "Texas",
            "Utah",
            "Virginia",
            "Vermont",
            "Washington",
            "Wisconsin",
            "West Virginia",
            "Wyoming"
           ],
           "ids": [
            "Alaska",
            "Alabama",
            "Arkansas",
            "Arizona",
            "California",
            "Colorado",
            "Connecticut",
            "Delaware",
            "Florida",
            "Georgia",
            "Iowa",
            "Idaho",
            "Illinois",
            "Indiana",
            "Kansas",
            "Kentucky",
            "Massachusetts",
            "Maine",
            "Michigan",
            "Minnesota",
            "Missouri",
            "Mississippi",
            "Montana",
            "North Carolina",
            "Nebraska",
            "New Hampshire",
            "New Jersey",
            "New Mexico",
            "Nevada",
            "New York",
            "Ohio",
            "Oklahoma",
            "Oregon",
            "Pennsylvania",
            "South Carolina",
            "South Dakota",
            "Tennessee",
            "Texas",
            "Utah",
            "Virginia",
            "Vermont",
            "Washington",
            "Wisconsin",
            "West Virginia",
            "Wyoming"
           ],
           "legendgroup": "White",
           "marker": {
            "color": "#636efa",
            "size": [
             490845,
             3372343,
             2369297,
             5699435,
             28404773,
             4773687,
             2904483,
             662385,
             15712770,
             6270007,
             2859772,
             1543339,
             9942950,
             5673327,
             2523284,
             3900900,
             5582256,
             1261115,
             7917942,
             4674959,
             5062290,
             1777650,
             919833,
             7142858,
             1684410,
             1252746,
             6470332,
             1722879,
             2174733,
             13837239,
             9599241,
             2922493,
             3519694,
             10559623,
             3345763,
             729329,
             5195387,
             21901374,
             2724698,
             5882171,
             592805,
             5751619,
             5045983,
             1726430,
             544435
            ],
            "sizemode": "area",
            "sizeref": 9427.747107438017,
            "symbol": "circle"
           },
           "mode": "markers",
           "name": "White",
           "orientation": "v",
           "showlegend": true,
           "type": "scatter",
           "x": [
            0.226006857,
            0.107751339,
            0.095983271,
            0.130548688,
            0.179258433,
            0.137710917,
            0.137918458,
            0.16164355,
            0.157201804,
            0.10561139900000001,
            0.100729792,
            0.103376174,
            0.164370965,
            0.076699648,
            0.114063675,
            0.07354488,
            0.150670582,
            0.084267655,
            0.10341351800000001,
            0.141641094,
            0.11940161099999999,
            0.10296936599999999,
            0.131038273,
            0.125929006,
            0.103715482,
            0.12656309599999999,
            0.16166760000000002,
            0.136758166,
            0.165379991,
            0.205418431,
            0.124167103,
            0.106508404,
            0.127760557,
            0.121988689,
            0.099220208,
            0.09653194699999999,
            0.1157984,
            0.112240433,
            0.097282815,
            0.117332609,
            0.146770812,
            0.117575123,
            0.133164844,
            0.085503991,
            0.160182724
           ],
           "xaxis": "x",
           "y": [
            0.203730302,
            0.32618271600000004,
            0.168826449,
            0.491276767,
            0.211232105,
            0.230429854,
            0.137718141,
            0.301939205,
            0.165470506,
            0.31897891,
            0.17483911300000002,
            0.38876747100000003,
            0.060344264,
            0.2115161,
            0.35667804299999994,
            0.30762131800000003,
            0.089569522,
            0.158589819,
            0.138924988,
            0.192515057,
            0.256800776,
            0.618794476,
            0.434861546,
            0.22399997300000002,
            0.41557578,
            0.319298565,
            0.12364126,
            0.522381432,
            0.6437571879999999,
            0.072268752,
            0.187514825,
            0.7869993190000001,
            0.42617341200000003,
            0.085230316,
            0.328774035,
            0.137112332,
            0.288717664,
            0.219164332,
            0.367013152,
            0.136004207,
            0.168689535,
            0.20863690699999998,
            0.118906465,
            0.40546098,
            0.734706622
           ],
           "yaxis": "y"
          },
          {
           "hovertemplate": "<b>%{hovertext}</b><br><br>Race=Asian<br>Year=2015<br>Funding/Population=%{x}<br>Death Rate (10^-5)=%{y}<br>Count=%{marker.size}<extra></extra>",
           "hovertext": [
            "California",
            "Colorado",
            "Florida",
            "Minnesota",
            "New York",
            "Ohio",
            "South Dakota",
            "Tennessee",
            "Texas",
            "Washington"
           ],
           "ids": [
            "California",
            "Colorado",
            "Florida",
            "Minnesota",
            "New York",
            "Ohio",
            "South Dakota",
            "Tennessee",
            "Texas",
            "Washington"
           ],
           "legendgroup": "Asian",
           "marker": {
            "color": "#EF553B",
            "size": [
             5685743,
             177346,
             559565,
             262511,
             1670741,
             249875,
             11311,
             115311,
             1299892,
             606044
            ],
            "sizemode": "area",
            "sizeref": 9427.747107438017,
            "symbol": "circle"
           },
           "mode": "markers",
           "name": "Asian",
           "orientation": "v",
           "showlegend": true,
           "type": "scatter",
           "x": [
            0.179258433,
            0.137710917,
            0.157201804,
            0.141641094,
            0.205418431,
            0.124167103,
            0.09653194699999999,
            0.1157984,
            0.112240433,
            0.117575123
           ],
           "xaxis": "x",
           "y": [
            0.228642061,
            1.127738996,
            0.35742049600000003,
            0.38093641799999994,
            0.059853682000000005,
            0.40020009999999995,
            8.840951286000001,
            0.867219953,
            0.23078840399999997,
            0.330009042
           ],
           "yaxis": "y"
          },
          {
           "hovertemplate": "<b>%{hovertext}</b><br><br>Race=Black<br>Year=2015<br>Funding/Population=%{x}<br>Death Rate (10^-5)=%{y}<br>Count=%{marker.size}<extra></extra>",
           "hovertext": [
            "Alabama",
            "Arkansas",
            "Arizona",
            "California",
            "Colorado",
            "District of Columbia",
            "Delaware",
            "Florida",
            "Georgia",
            "Hawaii",
            "Illinois",
            "Indiana",
            "Kentucky",
            "Massachusetts",
            "Michigan",
            "Minnesota",
            "Missouri",
            "Mississippi",
            "North Carolina",
            "Nebraska",
            "New Jersey",
            "Nevada",
            "New York",
            "Ohio",
            "Oklahoma",
            "Oregon",
            "Pennsylvania",
            "South Carolina",
            "Tennessee",
            "Texas",
            "Utah",
            "Virginia",
            "Wisconsin",
            "West Virginia"
           ],
           "ids": [
            "Alabama",
            "Arkansas",
            "Arizona",
            "California",
            "Colorado",
            "District of Columbia",
            "Delaware",
            "Florida",
            "Georgia",
            "Hawaii",
            "Illinois",
            "Indiana",
            "Kentucky",
            "Massachusetts",
            "Michigan",
            "Minnesota",
            "Missouri",
            "Mississippi",
            "North Carolina",
            "Nebraska",
            "New Jersey",
            "Nevada",
            "New York",
            "Ohio",
            "Oklahoma",
            "Oregon",
            "Pennsylvania",
            "South Carolina",
            "Tennessee",
            "Texas",
            "Utah",
            "Virginia",
            "Wisconsin",
            "West Virginia"
           ],
           "legendgroup": "Black",
           "marker": {
            "color": "#00cc96",
            "size": [
             1297313,
             466189,
             328032,
             2531244,
             244464,
             326784,
             211750,
             3403053,
             3241925,
             29752,
             1889241,
             635460,
             363958,
             576824,
             1408695,
             336891,
             717333,
             1124044,
             2225220,
             93989,
             1319283,
             268539,
             3454601,
             1481398,
             302446,
             83943,
             1498205,
             1351360,
             1126417,
             3438127,
             39321,
             1651274,
             381794,
             65462
            ],
            "sizemode": "area",
            "sizeref": 9427.747107438017,
            "symbol": "circle"
           },
           "mode": "markers",
           "name": "Black",
           "orientation": "v",
           "showlegend": true,
           "type": "scatter",
           "x": [
            0.107751339,
            0.095983271,
            0.130548688,
            0.179258433,
            0.137710917,
            0.365231333,
            0.16164355,
            0.157201804,
            0.10561139900000001,
            0.135308508,
            0.164370965,
            0.076699648,
            0.07354488,
            0.150670582,
            0.10341351800000001,
            0.141641094,
            0.11940161099999999,
            0.10296936599999999,
            0.125929006,
            0.103715482,
            0.16166760000000002,
            0.165379991,
            0.205418431,
            0.124167103,
            0.106508404,
            0.127760557,
            0.121988689,
            0.099220208,
            0.1157984,
            0.112240433,
            0.097282815,
            0.117332609,
            0.133164844,
            0.085503991
           ],
           "xaxis": "x",
           "y": [
            0.539576802,
            0.21450527600000002,
            0.304848307,
            1.422225593,
            2.045290922,
            1.8360752059999998,
            0.944510035,
            0.999102864,
            0.400996322,
            3.36111858,
            0.6881070229999999,
            1.1015642209999998,
            1.09902791,
            0.346726211,
            0.49691381,
            0.890495739,
            1.1152421540000002,
            0.266893467,
            0.35951501399999997,
            2.127908585,
            0.45479249,
            1.117156167,
            0.318415933,
            1.012557058,
            3.967650424,
            1.191284562,
            0.60071886,
            0.665995738,
            0.443885346,
            0.668968889,
            2.543170316,
            0.787270919,
            0.523842701,
            3.055207601
           ],
           "yaxis": "y"
          },
          {
           "hovertemplate": "<b>%{hovertext}</b><br><br>Race=Native American<br>Year=2015<br>Funding/Population=%{x}<br>Death Rate (10^-5)=%{y}<br>Count=%{marker.size}<extra></extra>",
           "hovertext": [
            "Alaska",
            "Arizona",
            "Colorado",
            "Minnesota",
            "North Dakota",
            "Oklahoma",
            "South Dakota",
            "Washington",
            "Wyoming"
           ],
           "ids": [
            "Alaska",
            "Arizona",
            "Colorado",
            "Minnesota",
            "North Dakota",
            "Oklahoma",
            "South Dakota",
            "Washington",
            "Wyoming"
           ],
           "legendgroup": "Native American",
           "marker": {
            "color": "#ab63fa",
            "size": [
             112416,
             364354,
             86001,
             73976,
             41547,
             360185,
             77960,
             137661,
             15830
            ],
            "sizemode": "area",
            "sizeref": 9427.747107438017,
            "symbol": "circle"
           },
           "mode": "markers",
           "name": "Native American",
           "orientation": "v",
           "showlegend": true,
           "type": "scatter",
           "x": [
            0.226006857,
            0.130548688,
            0.137710917,
            0.141641094,
            0.106953385,
            0.106508404,
            0.09653194699999999,
            0.117575123,
            0.160182724
           ],
           "xaxis": "x",
           "y": [
            1.7791061769999998,
            0.548916713,
            1.162777177,
            1.35178977,
            2.406912653,
            0.27763510399999997,
            1.282709082,
            2.179266459,
            6.317119394
           ],
           "yaxis": "y"
          },
          {
           "hovertemplate": "<b>%{hovertext}</b><br><br>Race=Pacific Islander<br>Year=2015<br>Funding/Population=%{x}<br>Death Rate (10^-5)=%{y}<br>Count=%{marker.size}<extra></extra>",
           "hovertext": [
            "California",
            "Hawaii",
            "Washington"
           ],
           "ids": [
            "California",
            "Hawaii",
            "Washington"
           ],
           "legendgroup": "Pacific Islander",
           "marker": {
            "color": "#FFA15A",
            "size": [
             193835,
             145264,
             52008
            ],
            "sizemode": "area",
            "sizeref": 9427.747107438017,
            "symbol": "circle"
           },
           "mode": "markers",
           "name": "Pacific Islander",
           "orientation": "v",
           "showlegend": true,
           "type": "scatter",
           "x": [
            0.179258433,
            0.135308508,
            0.117575123
           ],
           "xaxis": "x",
           "y": [
            1.031805402,
            0.6884018059999999,
            1.922781111
           ],
           "yaxis": "y"
          }
         ],
         "name": "2015"
        },
        {
         "data": [
          {
           "hovertemplate": "<b>%{hovertext}</b><br><br>Race=White<br>Year=2016<br>Funding/Population=%{x}<br>Death Rate (10^-5)=%{y}<br>Count=%{marker.size}<extra></extra>",
           "hovertext": [
            "Alaska",
            "Alabama",
            "Arkansas",
            "Arizona",
            "California",
            "Colorado",
            "Connecticut",
            "Delaware",
            "Florida",
            "Georgia",
            "Iowa",
            "Idaho",
            "Illinois",
            "Indiana",
            "Kansas",
            "Kentucky",
            "Massachusetts",
            "Maine",
            "Michigan",
            "Minnesota",
            "Missouri",
            "Mississippi",
            "Montana",
            "North Carolina",
            "North Dakota",
            "Nebraska",
            "New Hampshire",
            "New Jersey",
            "New Mexico",
            "Nevada",
            "New York",
            "Ohio",
            "Oklahoma",
            "Oregon",
            "Pennsylvania",
            "South Carolina",
            "South Dakota",
            "Tennessee",
            "Texas",
            "Utah",
            "Virginia",
            "Vermont",
            "Washington",
            "Wisconsin",
            "West Virginia",
            "Wyoming"
           ],
           "ids": [
            "Alaska",
            "Alabama",
            "Arkansas",
            "Arizona",
            "California",
            "Colorado",
            "Connecticut",
            "Delaware",
            "Florida",
            "Georgia",
            "Iowa",
            "Idaho",
            "Illinois",
            "Indiana",
            "Kansas",
            "Kentucky",
            "Massachusetts",
            "Maine",
            "Michigan",
            "Minnesota",
            "Missouri",
            "Mississippi",
            "Montana",
            "North Carolina",
            "North Dakota",
            "Nebraska",
            "New Hampshire",
            "New Jersey",
            "New Mexico",
            "Nevada",
            "New York",
            "Ohio",
            "Oklahoma",
            "Oregon",
            "Pennsylvania",
            "South Carolina",
            "South Dakota",
            "Tennessee",
            "Texas",
            "Utah",
            "Virginia",
            "Vermont",
            "Washington",
            "Wisconsin",
            "West Virginia",
            "Wyoming"
           ],
           "legendgroup": "White",
           "marker": {
            "color": "#636efa",
            "size": [
             490758,
             3374106,
             2372809,
             5773622,
             28484043,
             4842319,
             2886999,
             665087,
             16002588,
             6305959,
             2860458,
             1569732,
             9897625,
             5678320,
             2520984,
             3903401,
             5576223,
             1261844,
             7917934,
             4685535,
             5067791,
             1773354,
             927814,
             7210675,
             662681,
             1690996,
             1255396,
             6447703,
             1721226,
             2197650,
             13773337,
             9583165,
             2927248,
             3571132,
             10523295,
             3393188,
             733518,
             5231842,
             22172579,
             2773420,
             5893536,
             590279,
             5827356,
             5045904,
             1714557,
             542675
            ],
            "sizemode": "area",
            "sizeref": 9427.747107438017,
            "symbol": "circle"
           },
           "mode": "markers",
           "name": "White",
           "orientation": "v",
           "showlegend": true,
           "type": "scatter",
           "x": [
            0.206889812,
            0.10704851900000001,
            0.09481561,
            0.13609232300000002,
            0.186778256,
            0.137602353,
            0.145477959,
            0.155619586,
            0.159068152,
            0.107874955,
            0.103645001,
            0.10668404199999999,
            0.16900837100000002,
            0.07872965,
            0.112886932,
            0.071535276,
            0.153595529,
            0.09074396,
            0.105061091,
            0.143967484,
            0.123175319,
            0.1055463,
            0.11782952599999999,
            0.125495718,
            0.108122055,
            0.10783621800000001,
            0.12223374699999999,
            0.16526735,
            0.136901993,
            0.168630115,
            0.21059131399999997,
            0.131045925,
            0.10889492699999999,
            0.13401511300000002,
            0.12201188800000001,
            0.103994882,
            0.097171235,
            0.11350608599999999,
            0.11483518699999999,
            0.091112544,
            0.117333337,
            0.139099515,
            0.11962038300000001,
            0.13673601400000002,
            0.08823043400000001,
            0.166527013
           ],
           "xaxis": "x",
           "y": [
            0.8150656740000001,
            0.563112125,
            0.547873849,
            0.38104330299999994,
            0.161493928,
            0.392373984,
            0.138552178,
            0.15035626900000001,
            0.24371058,
            0.174438178,
            0.06991887299999999,
            0.254820568,
            0.101034339,
            0.176108426,
            0.357003456,
            0.43551764200000004,
            0.089666428,
            0.079249099,
            0.11366601400000001,
            0.19208052,
            0.276254486,
            0.281951601,
            0.538901116,
            0.263498216,
            0.150902169,
            0.35482047299999997,
            0.159312281,
            0.062037597,
            0.40668686200000004,
            0.227515755,
            0.06534364200000001,
            0.13565455699999998,
            0.614912027,
            0.42003488,
            0.10452999699999999,
            0.383120534,
            0.40898791799999995,
            0.34404708700000003,
            0.18040301,
            0.32450909,
            0.135741938,
            0.16941141399999998,
            0.274567059,
            0.23781665300000002,
            0.641565139,
            0.184272355
           ],
           "yaxis": "y"
          },
          {
           "hovertemplate": "<b>%{hovertext}</b><br><br>Race=Asian<br>Year=2016<br>Funding/Population=%{x}<br>Death Rate (10^-5)=%{y}<br>Count=%{marker.size}<extra></extra>",
           "hovertext": [
            "California",
            "Florida",
            "Georgia",
            "Hawaii",
            "Minnesota",
            "Ohio",
            "Tennessee",
            "Texas",
            "Washington"
           ],
           "ids": [
            "California",
            "Florida",
            "Georgia",
            "Hawaii",
            "Minnesota",
            "Ohio",
            "Tennessee",
            "Texas",
            "Washington"
           ],
           "legendgroup": "Asian",
           "marker": {
            "color": "#EF553B",
            "size": [
             5813827,
             582342,
             419915,
             537694,
             271552,
             262775,
             119174,
             1362465,
             634596
            ],
            "sizemode": "area",
            "sizeref": 9427.747107438017,
            "symbol": "circle"
           },
           "mode": "markers",
           "name": "Asian",
           "orientation": "v",
           "showlegend": true,
           "type": "scatter",
           "x": [
            0.186778256,
            0.159068152,
            0.107874955,
            0.13362718199999998,
            0.143967484,
            0.131045925,
            0.11350608599999999,
            0.11483518699999999,
            0.11962038300000001
           ],
           "xaxis": "x",
           "y": [
            0.068801497,
            0.343440796,
            0.238143434,
            0.18597938600000002,
            0.36825359399999996,
            0.7611074109999999,
            0.839109202,
            0.073396381,
            0.157580571
           ],
           "yaxis": "y"
          },
          {
           "hovertemplate": "<b>%{hovertext}</b><br><br>Race=Black<br>Year=2016<br>Funding/Population=%{x}<br>Death Rate (10^-5)=%{y}<br>Count=%{marker.size}<extra></extra>",
           "hovertext": [
            "Alabama",
            "Arkansas",
            "Arizona",
            "California",
            "Colorado",
            "Connecticut",
            "District of Columbia",
            "Florida",
            "Georgia",
            "Iowa",
            "Illinois",
            "Indiana",
            "Kansas",
            "Kentucky",
            "Massachusetts",
            "Michigan",
            "Minnesota",
            "Missouri",
            "Mississippi",
            "North Carolina",
            "Nebraska",
            "New Jersey",
            "Nevada",
            "New York",
            "Ohio",
            "Oklahoma",
            "Oregon",
            "Pennsylvania",
            "Rhode Island",
            "South Carolina",
            "Tennessee",
            "Texas",
            "Virginia",
            "Washington",
            "Wisconsin",
            "West Virginia"
           ],
           "ids": [
            "Alabama",
            "Arkansas",
            "Arizona",
            "California",
            "Colorado",
            "Connecticut",
            "District of Columbia",
            "Florida",
            "Georgia",
            "Iowa",
            "Illinois",
            "Indiana",
            "Kansas",
            "Kentucky",
            "Massachusetts",
            "Michigan",
            "Minnesota",
            "Missouri",
            "Mississippi",
            "North Carolina",
            "Nebraska",
            "New Jersey",
            "Nevada",
            "New York",
            "Ohio",
            "Oklahoma",
            "Oregon",
            "Pennsylvania",
            "Rhode Island",
            "South Carolina",
            "Tennessee",
            "Texas",
            "Virginia",
            "Washington",
            "Wisconsin",
            "West Virginia"
           ],
           "legendgroup": "Black",
           "marker": {
            "color": "#00cc96",
            "size": [
             1301635,
             469025,
             340938,
             2537131,
             250138,
             418863,
             327757,
             3472527,
             3298868,
             116268,
             1879042,
             642941,
             179604,
             367506,
             589701,
             1408599,
             353124,
             720019,
             1126424,
             2253930,
             96223,
             1323504,
             280959,
             3453356,
             1493613,
             304272,
             87084,
             1509100,
             85140,
             1361728,
             1135529,
             3519315,
             1662906,
             302803,
             384254,
             65227
            ],
            "sizemode": "area",
            "sizeref": 9427.747107438017,
            "symbol": "circle"
           },
           "mode": "markers",
           "name": "Black",
           "orientation": "v",
           "showlegend": true,
           "type": "scatter",
           "x": [
            0.10704851900000001,
            0.09481561,
            0.13609232300000002,
            0.186778256,
            0.137602353,
            0.145477959,
            0.360476036,
            0.159068152,
            0.107874955,
            0.103645001,
            0.16900837100000002,
            0.07872965,
            0.112886932,
            0.071535276,
            0.153595529,
            0.105061091,
            0.143967484,
            0.123175319,
            0.1055463,
            0.125495718,
            0.10783621800000001,
            0.16526735,
            0.168630115,
            0.21059131399999997,
            0.131045925,
            0.10889492699999999,
            0.13401511300000002,
            0.12201188800000001,
            0.173168866,
            0.103994882,
            0.11350608599999999,
            0.11483518699999999,
            0.117333337,
            0.11962038300000001,
            0.13673601400000002,
            0.08823043400000001
           ],
           "xaxis": "x",
           "y": [
            0.53778517,
            0.639624753,
            1.173233843,
            0.985364965,
            0.7995586440000001,
            0.23874154600000003,
            1.525520431,
            0.547151973,
            0.363761145,
            2.580245639,
            1.011153556,
            0.777676334,
            1.113560945,
            0.544208802,
            0.847887319,
            0.496947676,
            0.849559928,
            1.111081791,
            0.44388258799999997,
            0.6655042529999999,
            2.0785051390000002,
            0.680013056,
            0.7118476359999999,
            0.318530728,
            0.8034209659999999,
            2.300573171,
            1.148316568,
            0.662646611,
            1.174536058,
            0.367180524,
            0.264194045,
            0.59670703,
            0.5412212120000001,
            1.320990875,
            1.301222629,
            1.533107456
           ],
           "yaxis": "y"
          },
          {
           "hovertemplate": "<b>%{hovertext}</b><br><br>Race=Native American<br>Year=2016<br>Funding/Population=%{x}<br>Death Rate (10^-5)=%{y}<br>Count=%{marker.size}<extra></extra>",
           "hovertext": [
            "Alaska",
            "Arizona",
            "California",
            "North Carolina",
            "New Mexico",
            "Oklahoma",
            "Pennsylvania",
            "South Dakota",
            "Texas",
            "Vermont",
            "Washington"
           ],
           "ids": [
            "Alaska",
            "Arizona",
            "California",
            "North Carolina",
            "New Mexico",
            "Oklahoma",
            "Pennsylvania",
            "South Dakota",
            "Texas",
            "Vermont",
            "Washington"
           ],
           "legendgroup": "Native American",
           "marker": {
            "color": "#ab63fa",
            "size": [
             113262,
             370059,
             641036,
             159645,
             226754,
             364222,
             47266,
             78943,
             279845,
             2384,
             140596
            ],
            "sizemode": "area",
            "sizeref": 9427.747107438017,
            "symbol": "circle"
           },
           "mode": "markers",
           "name": "Native American",
           "orientation": "v",
           "showlegend": true,
           "type": "scatter",
           "x": [
            0.206889812,
            0.13609232300000002,
            0.186778256,
            0.125495718,
            0.136901993,
            0.10889492699999999,
            0.12201188800000001,
            0.097171235,
            0.11483518699999999,
            0.139099515,
            0.11962038300000001
           ],
           "xaxis": "x",
           "y": [
            2.648725963,
            1.62136308,
            0.155997479,
            0.626389802,
            0.44100655299999997,
            0.549115649,
            2.115685694,
            3.800210278,
            0.357340671,
            41.94630872,
            2.133773365
           ],
           "yaxis": "y"
          },
          {
           "hovertemplate": "<b>%{hovertext}</b><br><br>Race=Pacific Islander<br>Year=2016<br>Funding/Population=%{x}<br>Death Rate (10^-5)=%{y}<br>Count=%{marker.size}<extra></extra>",
           "hovertext": [
            "California",
            "Hawaii",
            "North Carolina"
           ],
           "ids": [
            "California",
            "Hawaii",
            "North Carolina"
           ],
           "legendgroup": "Pacific Islander",
           "marker": {
            "color": "#FFA15A",
            "size": [
             195842,
             145112,
             12231
            ],
            "sizemode": "area",
            "sizeref": 9427.747107438017,
            "symbol": "circle"
           },
           "mode": "markers",
           "name": "Pacific Islander",
           "orientation": "v",
           "showlegend": true,
           "type": "scatter",
           "x": [
            0.186778256,
            0.13362718199999998,
            0.125495718
           ],
           "xaxis": "x",
           "y": [
            1.0212314009999999,
            2.067368653,
            8.175946366
           ],
           "yaxis": "y"
          }
         ],
         "name": "2016"
        },
        {
         "data": [
          {
           "hovertemplate": "<b>%{hovertext}</b><br><br>Race=White<br>Year=2017<br>Funding/Population=%{x}<br>Death Rate (10^-5)=%{y}<br>Count=%{marker.size}<extra></extra>",
           "hovertext": [
            "Alaska",
            "Alabama",
            "Arkansas",
            "Arizona",
            "California",
            "Colorado",
            "Connecticut",
            "District of Columbia",
            "Delaware",
            "Florida",
            "Georgia",
            "Hawaii",
            "Iowa",
            "Idaho",
            "Illinois",
            "Indiana",
            "Kansas",
            "Kentucky",
            "Massachusetts",
            "Maine",
            "Michigan",
            "Minnesota",
            "Missouri",
            "Mississippi",
            "Montana",
            "North Carolina",
            "New Hampshire",
            "New Jersey",
            "New Mexico",
            "Nevada",
            "New York",
            "Ohio",
            "Oklahoma",
            "Oregon",
            "Pennsylvania",
            "Rhode Island",
            "South Carolina",
            "South Dakota",
            "Tennessee",
            "Texas",
            "Utah",
            "Virginia",
            "Vermont",
            "Washington",
            "Wisconsin",
            "West Virginia",
            "Wyoming"
           ],
           "ids": [
            "Alaska",
            "Alabama",
            "Arkansas",
            "Arizona",
            "California",
            "Colorado",
            "Connecticut",
            "District of Columbia",
            "Delaware",
            "Florida",
            "Georgia",
            "Hawaii",
            "Iowa",
            "Idaho",
            "Illinois",
            "Indiana",
            "Kansas",
            "Kentucky",
            "Massachusetts",
            "Maine",
            "Michigan",
            "Minnesota",
            "Missouri",
            "Mississippi",
            "Montana",
            "North Carolina",
            "New Hampshire",
            "New Jersey",
            "New Mexico",
            "Nevada",
            "New York",
            "Ohio",
            "Oklahoma",
            "Oregon",
            "Pennsylvania",
            "Rhode Island",
            "South Carolina",
            "South Dakota",
            "Tennessee",
            "Texas",
            "Utah",
            "Virginia",
            "Vermont",
            "Washington",
            "Wisconsin",
            "West Virginia",
            "Wyoming"
           ],
           "legendgroup": "White",
           "marker": {
            "color": "#636efa",
            "size": [
             486188,
             3376527,
             2377792,
             5845558,
             28518935,
             4897864,
             2872125,
             313010,
             668104,
             16245729,
             6335279,
             368793,
             2859774,
             1600865,
             9848285,
             5683681,
             2517528,
             3907652,
             5574621,
             1263507,
             7922472,
             4700264,
             5075415,
             1770340,
             936852,
             7270828,
             1259593,
             6431527,
             1718166,
             2220937,
             13706039,
             9576538,
             2923281,
             3608387,
             10495030,
             888967,
             3439656,
             738898,
             5273129,
             22392582,
             2820762,
             5908557,
             589668,
             5895462,
             5051222,
             1700408,
             537032
            ],
            "sizemode": "area",
            "sizeref": 9427.747107438017,
            "symbol": "circle"
           },
           "mode": "markers",
           "name": "White",
           "orientation": "v",
           "showlegend": true,
           "type": "scatter",
           "x": [
            0.20147504,
            0.106767215,
            0.09144969800000001,
            0.142137512,
            0.19593888199999998,
            0.135307572,
            0.134695411,
            0.37531960799999997,
            0.161577015,
            0.165598035,
            0.107364228,
            0.138274912,
            0.10515407,
            0.10771998199999999,
            0.16779415399999997,
            0.082860952,
            0.121047295,
            0.075991172,
            0.153742959,
            0.09487800699999999,
            0.10534835099999999,
            0.14635542,
            0.121189796,
            0.104757864,
            0.122422524,
            0.127598201,
            0.127136222,
            0.16355645,
            0.137709682,
            0.174307203,
            0.21619659100000002,
            0.133650073,
            0.104561105,
            0.13512737800000002,
            0.123412854,
            0.175405582,
            0.10665850699999999,
            0.09828264699999999,
            0.11902296400000001,
            0.118331385,
            0.10304127800000001,
            0.12152857199999999,
            0.142815696,
            0.112998221,
            0.13039614800000002,
            0.089403522,
            0.157855571
           ],
           "xaxis": "x",
           "y": [
            0.8227270109999999,
            0.473859679,
            0.294390763,
            0.307926121,
            0.189347884,
            0.34709007799999997,
            0.10445227800000001,
            0.319478611,
            0.449031887,
            0.209285776,
            0.31569249,
            0.271154821,
            0.139871193,
            0.249864917,
            0.060924313,
            0.21113078,
            0.238329028,
            0.40945304200000004,
            0.053815318,
            0.712303137,
            0.075733938,
            0.127652404,
            0.374353624,
            0.5083769220000001,
            0.320221337,
            0.15128950900000002,
            0.23817217100000002,
            0.031096814,
            0.29100797,
            0.360208326,
            0.029184216000000002,
            0.2401703,
            0.649954623,
            0.22170571,
            0.142924794,
            0.112490115,
            0.203508723,
            0.270673354,
            0.417209592,
            0.111644115,
            0.10635424,
            0.236944486,
            0.16958695399999998,
            0.288357384,
            0.296957845,
            0.529284736,
            0.186208643
           ],
           "yaxis": "y"
          },
          {
           "hovertemplate": "<b>%{hovertext}</b><br><br>Race=Asian<br>Year=2017<br>Funding/Population=%{x}<br>Death Rate (10^-5)=%{y}<br>Count=%{marker.size}<extra></extra>",
           "hovertext": [
            "Arkansas",
            "California",
            "Michigan",
            "Minnesota",
            "Oklahoma",
            "Pennsylvania",
            "Texas",
            "Washington",
            "Wisconsin"
           ],
           "ids": [
            "Arkansas",
            "California",
            "Michigan",
            "Minnesota",
            "Oklahoma",
            "Pennsylvania",
            "Texas",
            "Washington",
            "Wisconsin"
           ],
           "legendgroup": "Asian",
           "marker": {
            "color": "#EF553B",
            "size": [
             49422,
             5930737,
             324044,
             279329,
             90351,
             457270,
             1420351,
             667135,
             170521
            ],
            "sizemode": "area",
            "sizeref": 9427.747107438017,
            "symbol": "circle"
           },
           "mode": "markers",
           "name": "Asian",
           "orientation": "v",
           "showlegend": true,
           "type": "scatter",
           "x": [
            0.09144969800000001,
            0.19593888199999998,
            0.10534835099999999,
            0.14635542,
            0.104561105,
            0.123412854,
            0.118331385,
            0.112998221,
            0.13039614800000002
           ],
           "xaxis": "x",
           "y": [
            2.023390393,
            0.050583932000000005,
            0.308600067,
            0.35800078,
            1.106794612,
            0.21868917699999998,
            0.070405132,
            0.149894699,
            0.5864380339999999
           ],
           "yaxis": "y"
          },
          {
           "hovertemplate": "<b>%{hovertext}</b><br><br>Race=Black<br>Year=2017<br>Funding/Population=%{x}<br>Death Rate (10^-5)=%{y}<br>Count=%{marker.size}<extra></extra>",
           "hovertext": [
            "Alaska",
            "Alabama",
            "Arkansas",
            "Arizona",
            "California",
            "Colorado",
            "Connecticut",
            "District of Columbia",
            "Delaware",
            "Florida",
            "Georgia",
            "Iowa",
            "Illinois",
            "Indiana",
            "Kansas",
            "Kentucky",
            "Massachusetts",
            "Maine",
            "Michigan",
            "Minnesota",
            "Missouri",
            "Mississippi",
            "North Carolina",
            "New Jersey",
            "Nevada",
            "New York",
            "Ohio",
            "Oklahoma",
            "Oregon",
            "Pennsylvania",
            "South Carolina",
            "Tennessee",
            "Texas",
            "Utah",
            "Virginia",
            "Washington",
            "Wisconsin",
            "West Virginia"
           ],
           "ids": [
            "Alaska",
            "Alabama",
            "Arkansas",
            "Arizona",
            "California",
            "Colorado",
            "Connecticut",
            "District of Columbia",
            "Delaware",
            "Florida",
            "Georgia",
            "Iowa",
            "Illinois",
            "Indiana",
            "Kansas",
            "Kentucky",
            "Massachusetts",
            "Maine",
            "Michigan",
            "Minnesota",
            "Missouri",
            "Mississippi",
            "North Carolina",
            "New Jersey",
            "Nevada",
            "New York",
            "Ohio",
            "Oklahoma",
            "Oregon",
            "Pennsylvania",
            "South Carolina",
            "Tennessee",
            "Texas",
            "Utah",
            "Virginia",
            "Washington",
            "Wisconsin",
            "West Virginia"
           ],
           "legendgroup": "Black",
           "marker": {
            "color": "#00cc96",
            "size": [
             27739,
             1305617,
             470694,
             352008,
             2543564,
             254236,
             423337,
             327813,
             218390,
             3538457,
             3353318,
             121427,
             1867708,
             650617,
             178605,
             372275,
             603071,
             21259,
             1408914,
             368596,
             722085,
             1128043,
             2280761,
             1327681,
             294042,
             3443385,
             1505501,
             305118,
             89388,
             1519909,
             1370339,
             1146784,
             3595304,
             43714,
             1675859,
             313179,
             387433,
             64904
            ],
            "sizemode": "area",
            "sizeref": 9427.747107438017,
            "symbol": "circle"
           },
           "mode": "markers",
           "name": "Black",
           "orientation": "v",
           "showlegend": true,
           "type": "scatter",
           "x": [
            0.20147504,
            0.106767215,
            0.09144969800000001,
            0.142137512,
            0.19593888199999998,
            0.135307572,
            0.134695411,
            0.37531960799999997,
            0.161577015,
            0.165598035,
            0.107364228,
            0.10515407,
            0.16779415399999997,
            0.082860952,
            0.121047295,
            0.075991172,
            0.153742959,
            0.09487800699999999,
            0.10534835099999999,
            0.14635542,
            0.121189796,
            0.104757864,
            0.127598201,
            0.16355645,
            0.174307203,
            0.21619659100000002,
            0.133650073,
            0.104561105,
            0.13512737800000002,
            0.123412854,
            0.10665850699999999,
            0.11902296400000001,
            0.118331385,
            0.10304127800000001,
            0.12152857199999999,
            0.112998221,
            0.13039614800000002,
            0.089403522
           ],
           "xaxis": "x",
           "y": [
            3.6050326260000003,
            0.61273712,
            1.062261257,
            1.9885911680000001,
            1.100817593,
            0.7866706520000001,
            0.236218426,
            0.305051966,
            1.831585695,
            0.565218116,
            0.417496939,
            0.8235400690000001,
            0.8031234,
            1.075901798,
            1.679684219,
            0.268618629,
            0.165817955,
            4.703890117,
            0.496836571,
            0.542599486,
            1.938829916,
            0.62054372,
            0.39460513399999997,
            0.602554379,
            1.360349882,
            0.232329525,
            0.7306537820000001,
            0.983226162,
            2.237436792,
            0.526347301,
            0.21892393100000002,
            0.348801518,
            0.556281193,
            2.287596651,
            0.477367129,
            2.554449692,
            1.806764008,
            1.540737089
           ],
           "yaxis": "y"
          },
          {
           "hovertemplate": "<b>%{hovertext}</b><br><br>Race=Native American<br>Year=2017<br>Funding/Population=%{x}<br>Death Rate (10^-5)=%{y}<br>Count=%{marker.size}<extra></extra>",
           "hovertext": [
            "Alaska",
            "California",
            "Colorado",
            "Minnesota",
            "Montana",
            "North Dakota",
            "Nebraska",
            "New Mexico",
            "Nevada",
            "Oklahoma",
            "South Dakota",
            "Washington",
            "Wisconsin"
           ],
           "ids": [
            "Alaska",
            "California",
            "Colorado",
            "Minnesota",
            "Montana",
            "North Dakota",
            "Nebraska",
            "New Mexico",
            "Nevada",
            "Oklahoma",
            "South Dakota",
            "Washington",
            "Wisconsin"
           ],
           "legendgroup": "Native American",
           "marker": {
            "color": "#ab63fa",
            "size": [
             113738,
             643442,
             89590,
             76089,
             70563,
             42067,
             28674,
             228502,
             49586,
             367825,
             79702,
             143721,
             67079
            ],
            "sizemode": "area",
            "sizeref": 9427.747107438017,
            "symbol": "circle"
           },
           "mode": "markers",
           "name": "Native American",
           "orientation": "v",
           "showlegend": true,
           "type": "scatter",
           "x": [
            0.20147504,
            0.19593888199999998,
            0.135307572,
            0.14635542,
            0.122422524,
            0.12551757,
            0.106996484,
            0.137709682,
            0.174307203,
            0.104561105,
            0.09828264699999999,
            0.112998221,
            0.13039614800000002
           ],
           "xaxis": "x",
           "y": [
            1.7584272630000002,
            0.310828326,
            3.348588012,
            1.314250417,
            4.2515199180000005,
            7.131480732999999,
            3.4874799469999997,
            0.437632931,
            2.016698262,
            1.087473663,
            1.254673659,
            2.087377627,
            4.472338586
           ],
           "yaxis": "y"
          },
          {
           "hovertemplate": "<b>%{hovertext}</b><br><br>Race=Pacific Islander<br>Year=2017<br>Funding/Population=%{x}<br>Death Rate (10^-5)=%{y}<br>Count=%{marker.size}<extra></extra>",
           "hovertext": [
            "California",
            "Hawaii",
            "Washington"
           ],
           "ids": [
            "California",
            "Hawaii",
            "Washington"
           ],
           "legendgroup": "Pacific Islander",
           "marker": {
            "color": "#FFA15A",
            "size": [
             197581,
             144728,
             56430
            ],
            "sizemode": "area",
            "sizeref": 9427.747107438017,
            "symbol": "circle"
           },
           "mode": "markers",
           "name": "Pacific Islander",
           "orientation": "v",
           "showlegend": true,
           "type": "scatter",
           "x": [
            0.19593888199999998,
            0.138274912,
            0.112998221
           ],
           "xaxis": "x",
           "y": [
            1.01224308,
            2.072853905,
            1.772107035
           ],
           "yaxis": "y"
          }
         ],
         "name": "2017"
        },
        {
         "data": [
          {
           "hovertemplate": "<b>%{hovertext}</b><br><br>Race=White<br>Year=2018<br>Funding/Population=%{x}<br>Death Rate (10^-5)=%{y}<br>Count=%{marker.size}<extra></extra>",
           "hovertext": [
            "Alaska",
            "Alabama",
            "Arkansas",
            "Arizona",
            "California",
            "Colorado",
            "Connecticut",
            "Florida",
            "Georgia",
            "Hawaii",
            "Iowa",
            "Idaho",
            "Illinois",
            "Indiana",
            "Kansas",
            "Kentucky",
            "Massachusetts",
            "Maine",
            "Michigan",
            "Minnesota",
            "Missouri",
            "Mississippi",
            "Montana",
            "North Carolina",
            "North Dakota",
            "New Hampshire",
            "New Jersey",
            "New Mexico",
            "Nevada",
            "New York",
            "Ohio",
            "Oklahoma",
            "Oregon",
            "Pennsylvania",
            "South Carolina",
            "South Dakota",
            "Tennessee",
            "Texas",
            "Utah",
            "Virginia",
            "Vermont",
            "Washington",
            "Wisconsin",
            "West Virginia",
            "Wyoming"
           ],
           "ids": [
            "Alaska",
            "Alabama",
            "Arkansas",
            "Arizona",
            "California",
            "Colorado",
            "Connecticut",
            "Florida",
            "Georgia",
            "Hawaii",
            "Iowa",
            "Idaho",
            "Illinois",
            "Indiana",
            "Kansas",
            "Kentucky",
            "Massachusetts",
            "Maine",
            "Michigan",
            "Minnesota",
            "Missouri",
            "Mississippi",
            "Montana",
            "North Carolina",
            "North Dakota",
            "New Hampshire",
            "New Jersey",
            "New Mexico",
            "Nevada",
            "New York",
            "Ohio",
            "Oklahoma",
            "Oregon",
            "Pennsylvania",
            "South Carolina",
            "South Dakota",
            "Tennessee",
            "Texas",
            "Utah",
            "Virginia",
            "Vermont",
            "Washington",
            "Wisconsin",
            "West Virginia",
            "Wyoming"
           ],
           "legendgroup": "White",
           "marker": {
            "color": "#636efa",
            "size": [
             481239,
             3381642,
             2381554,
             5928410,
             28497432,
             4956931,
             2859546,
             16440418,
             6361789,
             365570,
             2859067,
             1630052,
             9786941,
             5696236,
             2516174,
             3910380,
             5569881,
             1266095,
             7920697,
             4713995,
             5080690,
             1762445,
             943749,
             7336997,
             660720,
             1262037,
             6412643,
             1716439,
             2251090,
             13634357,
             9564938,
             2922715,
             3632626,
             10475329,
             3485105,
             743263,
             5315688,
             22586138,
             2863101,
             5916393,
             589147,
             5940550,
             5060128,
             1687369,
             534974
            ],
            "sizemode": "area",
            "sizeref": 9427.747107438017,
            "symbol": "circle"
           },
           "mode": "markers",
           "name": "White",
           "orientation": "v",
           "showlegend": true,
           "type": "scatter",
           "x": [
            0.230377217,
            0.106935219,
            0.092081927,
            0.13325915800000002,
            0.201672022,
            0.13434913099999998,
            0.136679079,
            0.166412917,
            0.106615943,
            0.136572899,
            0.106183975,
            0.10422915099999999,
            0.17625748100000002,
            0.088811235,
            0.119340802,
            0.077491187,
            0.156579802,
            0.092483913,
            0.107339907,
            0.157254705,
            0.12348398099999999,
            0.10450574900000001,
            0.123187092,
            0.128706736,
            0.11752151,
            0.130618512,
            0.158726465,
            0.13625507,
            0.17865286600000002,
            0.220005459,
            0.135442536,
            0.106312928,
            0.136129687,
            0.12520736699999999,
            0.104635495,
            0.099215844,
            0.122197729,
            0.116304919,
            0.104171792,
            0.120248185,
            0.147574958,
            0.11698483400000001,
            0.130528884,
            0.088949591,
            0.15341528599999998
           ],
           "xaxis": "x",
           "y": [
            0.623390872,
            0.29571433,
            0.545862072,
            0.438566159,
            0.11579990800000001,
            0.463996775,
            0.034970586,
            0.25546795699999997,
            0.330095827,
            0.273545422,
            0.27981156100000004,
            0.613477361,
            0.081741578,
            0.210665429,
            0.158971518,
            0.38359443299999996,
            0.07181482,
            0.157966029,
            0.126251515,
            0.14849400599999998,
            0.21650602600000002,
            0.340436155,
            0.529801886,
            0.218072871,
            0.60540017,
            0.158473959,
            0.077970971,
            0.233040615,
            0.310960468,
            0.044006475999999996,
            0.230006718,
            0.786939541,
            0.385396129,
            0.133647354,
            0.22954832100000003,
            0.269083756,
            0.282183604,
            0.12396984400000001,
            0.314344482,
            0.101413141,
            0.339473849,
            0.235668415,
            0.118574076,
            0.23705544,
            0.5607749160000001
           ],
           "yaxis": "y"
          },
          {
           "hovertemplate": "<b>%{hovertext}</b><br><br>Race=Asian<br>Year=2018<br>Funding/Population=%{x}<br>Death Rate (10^-5)=%{y}<br>Count=%{marker.size}<extra></extra>",
           "hovertext": [
            "California",
            "Colorado",
            "Hawaii",
            "Kentucky",
            "Michigan",
            "Oklahoma",
            "South Carolina",
            "Texas",
            "Wisconsin"
           ],
           "ids": [
            "California",
            "Colorado",
            "Hawaii",
            "Kentucky",
            "Michigan",
            "Oklahoma",
            "South Carolina",
            "Texas",
            "Wisconsin"
           ],
           "legendgroup": "Asian",
           "marker": {
            "color": "#EF553B",
            "size": [
             6021008,
             196679,
             533488,
             70374,
             331021,
             92013,
             89707,
             1464438,
             172742
            ],
            "sizemode": "area",
            "sizeref": 9427.747107438017,
            "symbol": "circle"
           },
           "mode": "markers",
           "name": "Asian",
           "orientation": "v",
           "showlegend": true,
           "type": "scatter",
           "x": [
            0.201672022,
            0.13434913099999998,
            0.136572899,
            0.077491187,
            0.107339907,
            0.106312928,
            0.104635495,
            0.116304919,
            0.130528884
           ],
           "xaxis": "x",
           "y": [
            0.066434059,
            1.0168853820000001,
            0.18744564100000002,
            1.420979339,
            0.302095637,
            1.086802952,
            1.11474021,
            0.068285581,
            0.57889801
           ],
           "yaxis": "y"
          },
          {
           "hovertemplate": "<b>%{hovertext}</b><br><br>Race=Black<br>Year=2018<br>Funding/Population=%{x}<br>Death Rate (10^-5)=%{y}<br>Count=%{marker.size}<extra></extra>",
           "hovertext": [
            "Alaska",
            "Alabama",
            "Arkansas",
            "Arizona",
            "California",
            "Colorado",
            "District of Columbia",
            "Delaware",
            "Florida",
            "Georgia",
            "Iowa",
            "Idaho",
            "Illinois",
            "Indiana",
            "Kansas",
            "Kentucky",
            "Michigan",
            "Minnesota",
            "Missouri",
            "Mississippi",
            "North Carolina",
            "Nebraska",
            "New Jersey",
            "New Mexico",
            "Nevada",
            "New York",
            "Ohio",
            "Oklahoma",
            "Oregon",
            "Pennsylvania",
            "Rhode Island",
            "South Carolina",
            "Tennessee",
            "Texas",
            "Utah",
            "Virginia",
            "Wisconsin",
            "West Virginia"
           ],
           "ids": [
            "Alaska",
            "Alabama",
            "Arkansas",
            "Arizona",
            "California",
            "Colorado",
            "District of Columbia",
            "Delaware",
            "Florida",
            "Georgia",
            "Iowa",
            "Idaho",
            "Illinois",
            "Indiana",
            "Kansas",
            "Kentucky",
            "Michigan",
            "Minnesota",
            "Missouri",
            "Mississippi",
            "North Carolina",
            "Nebraska",
            "New Jersey",
            "New Mexico",
            "Nevada",
            "New York",
            "Ohio",
            "Oklahoma",
            "Oregon",
            "Pennsylvania",
            "Rhode Island",
            "South Carolina",
            "Tennessee",
            "Texas",
            "Utah",
            "Virginia",
            "Wisconsin",
            "West Virginia"
           ],
           "legendgroup": "Black",
           "marker": {
            "color": "#00cc96",
            "size": [
             27652,
             1309574,
             471988,
             364149,
             2547988,
             259806,
             327219,
             221874,
             3589957,
             3404951,
             125033,
             15782,
             1858642,
             660576,
             178539,
             375075,
             1408262,
             382612,
             723809,
             1126849,
             2306627,
             99264,
             1331146,
             53661,
             305994,
             3432310,
             1516653,
             306154,
             91642,
             1531273,
             88378,
             1378890,
             1156454,
             3665172,
             45473,
             1686884,
             389652,
             64776
            ],
            "sizemode": "area",
            "sizeref": 9427.747107438017,
            "symbol": "circle"
           },
           "mode": "markers",
           "name": "Black",
           "orientation": "v",
           "showlegend": true,
           "type": "scatter",
           "x": [
            0.230377217,
            0.106935219,
            0.092081927,
            0.13325915800000002,
            0.201672022,
            0.13434913099999998,
            0.35639022299999995,
            0.151960166,
            0.166412917,
            0.106615943,
            0.106183975,
            0.10422915099999999,
            0.17625748100000002,
            0.088811235,
            0.119340802,
            0.077491187,
            0.107339907,
            0.157254705,
            0.12348398099999999,
            0.10450574900000001,
            0.128706736,
            0.10862498699999999,
            0.158726465,
            0.13625507,
            0.17865286600000002,
            0.220005459,
            0.135442536,
            0.106312928,
            0.136129687,
            0.12520736699999999,
            0.179215825,
            0.104635495,
            0.122197729,
            0.116304919,
            0.104171792,
            0.120248185,
            0.130528884,
            0.088949591
           ],
           "xaxis": "x",
           "y": [
            3.616374946,
            0.229082129,
            1.4830885530000002,
            1.3730643230000001,
            0.7849330529999999,
            1.154707743,
            0.305605726,
            0.45070625700000005,
            0.640676198,
            0.67548696,
            0.7997888559999999,
            6.336332531,
            0.591829949,
            0.605532142,
            1.120203429,
            0.799840032,
            0.42605708299999995,
            0.522722758,
            1.243421952,
            0.443715174,
            0.433533467,
            1.007414571,
            0.525862678,
            1.86355081,
            1.307215174,
            0.203944282,
            0.593411941,
            1.95979801,
            3.2736081710000002,
            0.653051415,
            1.131503315,
            0.29008840399999997,
            0.864712302,
            0.518393134,
            6.597321487,
            0.711370788,
            0.769917773,
            4.631344943
           ],
           "yaxis": "y"
          },
          {
           "hovertemplate": "<b>%{hovertext}</b><br><br>Race=Native American<br>Year=2018<br>Funding/Population=%{x}<br>Death Rate (10^-5)=%{y}<br>Count=%{marker.size}<extra></extra>",
           "hovertext": [
            "Alaska",
            "Arizona",
            "Colorado",
            "Idaho",
            "Kentucky",
            "Minnesota",
            "Montana",
            "New Mexico",
            "Nevada",
            "Oklahoma",
            "Utah",
            "Wisconsin"
           ],
           "ids": [
            "Alaska",
            "Arizona",
            "Colorado",
            "Idaho",
            "Kentucky",
            "Minnesota",
            "Montana",
            "New Mexico",
            "Nevada",
            "Oklahoma",
            "Utah",
            "Wisconsin"
           ],
           "legendgroup": "Native American",
           "marker": {
            "color": "#ab63fa",
            "size": [
             114006,
             380930,
             91444,
             30517,
             13330,
             76983,
             70876,
             228967,
             50847,
             369808,
             48665,
             67794
            ],
            "sizemode": "area",
            "sizeref": 9427.747107438017,
            "symbol": "circle"
           },
           "mode": "markers",
           "name": "Native American",
           "orientation": "v",
           "showlegend": true,
           "type": "scatter",
           "x": [
            0.230377217,
            0.13325915800000002,
            0.13434913099999998,
            0.10422915099999999,
            0.077491187,
            0.157254705,
            0.123187092,
            0.13625507,
            0.17865286600000002,
            0.106312928,
            0.104171792,
            0.130528884
           ],
           "xaxis": "x",
           "y": [
            3.508587267,
            0.7875462679999999,
            1.0935654609999998,
            3.276862077,
            7.501875469,
            2.597976177,
            1.410914837,
            0.43674416,
            1.9666843669999998,
            0.5408211829999999,
            4.109729785,
            2.950113579
           ],
           "yaxis": "y"
          },
          {
           "hovertemplate": "<b>%{hovertext}</b><br><br>Race=Pacific Islander<br>Year=2018<br>Funding/Population=%{x}<br>Death Rate (10^-5)=%{y}<br>Count=%{marker.size}<extra></extra>",
           "hovertext": [
            "Hawaii",
            "Michigan",
            "Missouri",
            "Washington"
           ],
           "ids": [
            "Hawaii",
            "Michigan",
            "Missouri",
            "Washington"
           ],
           "legendgroup": "Pacific Islander",
           "marker": {
            "color": "#FFA15A",
            "size": [
             144182,
             4089,
             9429,
             58421
            ],
            "sizemode": "area",
            "sizeref": 9427.747107438017,
            "symbol": "circle"
           },
           "mode": "markers",
           "name": "Pacific Islander",
           "orientation": "v",
           "showlegend": true,
           "type": "scatter",
           "x": [
            0.136572899,
            0.107339907,
            0.12348398099999999,
            0.11698483400000001
           ],
           "xaxis": "x",
           "y": [
            4.854974962,
            24.45585718,
            10.60557853,
            1.711713254
           ],
           "yaxis": "y"
          }
         ],
         "name": "2018"
        }
       ],
       "layout": {
        "legend": {
         "itemsizing": "constant",
         "title": {
          "text": "Race"
         },
         "tracegroupgap": 0
        },
        "margin": {
         "t": 60
        },
        "sliders": [
         {
          "active": 0,
          "currentvalue": {
           "prefix": "Year="
          },
          "len": 0.9,
          "pad": {
           "b": 10,
           "t": 60
          },
          "steps": [
           {
            "args": [
             [
              "2013"
             ],
             {
              "frame": {
               "duration": 0,
               "redraw": false
              },
              "fromcurrent": true,
              "mode": "immediate",
              "transition": {
               "duration": 0,
               "easing": "linear"
              }
             }
            ],
            "label": "2013",
            "method": "animate"
           },
           {
            "args": [
             [
              "2014"
             ],
             {
              "frame": {
               "duration": 0,
               "redraw": false
              },
              "fromcurrent": true,
              "mode": "immediate",
              "transition": {
               "duration": 0,
               "easing": "linear"
              }
             }
            ],
            "label": "2014",
            "method": "animate"
           },
           {
            "args": [
             [
              "2015"
             ],
             {
              "frame": {
               "duration": 0,
               "redraw": false
              },
              "fromcurrent": true,
              "mode": "immediate",
              "transition": {
               "duration": 0,
               "easing": "linear"
              }
             }
            ],
            "label": "2015",
            "method": "animate"
           },
           {
            "args": [
             [
              "2016"
             ],
             {
              "frame": {
               "duration": 0,
               "redraw": false
              },
              "fromcurrent": true,
              "mode": "immediate",
              "transition": {
               "duration": 0,
               "easing": "linear"
              }
             }
            ],
            "label": "2016",
            "method": "animate"
           },
           {
            "args": [
             [
              "2017"
             ],
             {
              "frame": {
               "duration": 0,
               "redraw": false
              },
              "fromcurrent": true,
              "mode": "immediate",
              "transition": {
               "duration": 0,
               "easing": "linear"
              }
             }
            ],
            "label": "2017",
            "method": "animate"
           },
           {
            "args": [
             [
              "2018"
             ],
             {
              "frame": {
               "duration": 0,
               "redraw": false
              },
              "fromcurrent": true,
              "mode": "immediate",
              "transition": {
               "duration": 0,
               "easing": "linear"
              }
             }
            ],
            "label": "2018",
            "method": "animate"
           }
          ],
          "x": 0.1,
          "xanchor": "left",
          "y": 0,
          "yanchor": "top"
         }
        ],
        "template": {
         "data": {
          "bar": [
           {
            "error_x": {
             "color": "#2a3f5f"
            },
            "error_y": {
             "color": "#2a3f5f"
            },
            "marker": {
             "line": {
              "color": "#E5ECF6",
              "width": 0.5
             }
            },
            "type": "bar"
           }
          ],
          "barpolar": [
           {
            "marker": {
             "line": {
              "color": "#E5ECF6",
              "width": 0.5
             }
            },
            "type": "barpolar"
           }
          ],
          "carpet": [
           {
            "aaxis": {
             "endlinecolor": "#2a3f5f",
             "gridcolor": "white",
             "linecolor": "white",
             "minorgridcolor": "white",
             "startlinecolor": "#2a3f5f"
            },
            "baxis": {
             "endlinecolor": "#2a3f5f",
             "gridcolor": "white",
             "linecolor": "white",
             "minorgridcolor": "white",
             "startlinecolor": "#2a3f5f"
            },
            "type": "carpet"
           }
          ],
          "choropleth": [
           {
            "colorbar": {
             "outlinewidth": 0,
             "ticks": ""
            },
            "type": "choropleth"
           }
          ],
          "contour": [
           {
            "colorbar": {
             "outlinewidth": 0,
             "ticks": ""
            },
            "colorscale": [
             [
              0,
              "#0d0887"
             ],
             [
              0.1111111111111111,
              "#46039f"
             ],
             [
              0.2222222222222222,
              "#7201a8"
             ],
             [
              0.3333333333333333,
              "#9c179e"
             ],
             [
              0.4444444444444444,
              "#bd3786"
             ],
             [
              0.5555555555555556,
              "#d8576b"
             ],
             [
              0.6666666666666666,
              "#ed7953"
             ],
             [
              0.7777777777777778,
              "#fb9f3a"
             ],
             [
              0.8888888888888888,
              "#fdca26"
             ],
             [
              1,
              "#f0f921"
             ]
            ],
            "type": "contour"
           }
          ],
          "contourcarpet": [
           {
            "colorbar": {
             "outlinewidth": 0,
             "ticks": ""
            },
            "type": "contourcarpet"
           }
          ],
          "heatmap": [
           {
            "colorbar": {
             "outlinewidth": 0,
             "ticks": ""
            },
            "colorscale": [
             [
              0,
              "#0d0887"
             ],
             [
              0.1111111111111111,
              "#46039f"
             ],
             [
              0.2222222222222222,
              "#7201a8"
             ],
             [
              0.3333333333333333,
              "#9c179e"
             ],
             [
              0.4444444444444444,
              "#bd3786"
             ],
             [
              0.5555555555555556,
              "#d8576b"
             ],
             [
              0.6666666666666666,
              "#ed7953"
             ],
             [
              0.7777777777777778,
              "#fb9f3a"
             ],
             [
              0.8888888888888888,
              "#fdca26"
             ],
             [
              1,
              "#f0f921"
             ]
            ],
            "type": "heatmap"
           }
          ],
          "heatmapgl": [
           {
            "colorbar": {
             "outlinewidth": 0,
             "ticks": ""
            },
            "colorscale": [
             [
              0,
              "#0d0887"
             ],
             [
              0.1111111111111111,
              "#46039f"
             ],
             [
              0.2222222222222222,
              "#7201a8"
             ],
             [
              0.3333333333333333,
              "#9c179e"
             ],
             [
              0.4444444444444444,
              "#bd3786"
             ],
             [
              0.5555555555555556,
              "#d8576b"
             ],
             [
              0.6666666666666666,
              "#ed7953"
             ],
             [
              0.7777777777777778,
              "#fb9f3a"
             ],
             [
              0.8888888888888888,
              "#fdca26"
             ],
             [
              1,
              "#f0f921"
             ]
            ],
            "type": "heatmapgl"
           }
          ],
          "histogram": [
           {
            "marker": {
             "colorbar": {
              "outlinewidth": 0,
              "ticks": ""
             }
            },
            "type": "histogram"
           }
          ],
          "histogram2d": [
           {
            "colorbar": {
             "outlinewidth": 0,
             "ticks": ""
            },
            "colorscale": [
             [
              0,
              "#0d0887"
             ],
             [
              0.1111111111111111,
              "#46039f"
             ],
             [
              0.2222222222222222,
              "#7201a8"
             ],
             [
              0.3333333333333333,
              "#9c179e"
             ],
             [
              0.4444444444444444,
              "#bd3786"
             ],
             [
              0.5555555555555556,
              "#d8576b"
             ],
             [
              0.6666666666666666,
              "#ed7953"
             ],
             [
              0.7777777777777778,
              "#fb9f3a"
             ],
             [
              0.8888888888888888,
              "#fdca26"
             ],
             [
              1,
              "#f0f921"
             ]
            ],
            "type": "histogram2d"
           }
          ],
          "histogram2dcontour": [
           {
            "colorbar": {
             "outlinewidth": 0,
             "ticks": ""
            },
            "colorscale": [
             [
              0,
              "#0d0887"
             ],
             [
              0.1111111111111111,
              "#46039f"
             ],
             [
              0.2222222222222222,
              "#7201a8"
             ],
             [
              0.3333333333333333,
              "#9c179e"
             ],
             [
              0.4444444444444444,
              "#bd3786"
             ],
             [
              0.5555555555555556,
              "#d8576b"
             ],
             [
              0.6666666666666666,
              "#ed7953"
             ],
             [
              0.7777777777777778,
              "#fb9f3a"
             ],
             [
              0.8888888888888888,
              "#fdca26"
             ],
             [
              1,
              "#f0f921"
             ]
            ],
            "type": "histogram2dcontour"
           }
          ],
          "mesh3d": [
           {
            "colorbar": {
             "outlinewidth": 0,
             "ticks": ""
            },
            "type": "mesh3d"
           }
          ],
          "parcoords": [
           {
            "line": {
             "colorbar": {
              "outlinewidth": 0,
              "ticks": ""
             }
            },
            "type": "parcoords"
           }
          ],
          "pie": [
           {
            "automargin": true,
            "type": "pie"
           }
          ],
          "scatter": [
           {
            "marker": {
             "colorbar": {
              "outlinewidth": 0,
              "ticks": ""
             }
            },
            "type": "scatter"
           }
          ],
          "scatter3d": [
           {
            "line": {
             "colorbar": {
              "outlinewidth": 0,
              "ticks": ""
             }
            },
            "marker": {
             "colorbar": {
              "outlinewidth": 0,
              "ticks": ""
             }
            },
            "type": "scatter3d"
           }
          ],
          "scattercarpet": [
           {
            "marker": {
             "colorbar": {
              "outlinewidth": 0,
              "ticks": ""
             }
            },
            "type": "scattercarpet"
           }
          ],
          "scattergeo": [
           {
            "marker": {
             "colorbar": {
              "outlinewidth": 0,
              "ticks": ""
             }
            },
            "type": "scattergeo"
           }
          ],
          "scattergl": [
           {
            "marker": {
             "colorbar": {
              "outlinewidth": 0,
              "ticks": ""
             }
            },
            "type": "scattergl"
           }
          ],
          "scattermapbox": [
           {
            "marker": {
             "colorbar": {
              "outlinewidth": 0,
              "ticks": ""
             }
            },
            "type": "scattermapbox"
           }
          ],
          "scatterpolar": [
           {
            "marker": {
             "colorbar": {
              "outlinewidth": 0,
              "ticks": ""
             }
            },
            "type": "scatterpolar"
           }
          ],
          "scatterpolargl": [
           {
            "marker": {
             "colorbar": {
              "outlinewidth": 0,
              "ticks": ""
             }
            },
            "type": "scatterpolargl"
           }
          ],
          "scatterternary": [
           {
            "marker": {
             "colorbar": {
              "outlinewidth": 0,
              "ticks": ""
             }
            },
            "type": "scatterternary"
           }
          ],
          "surface": [
           {
            "colorbar": {
             "outlinewidth": 0,
             "ticks": ""
            },
            "colorscale": [
             [
              0,
              "#0d0887"
             ],
             [
              0.1111111111111111,
              "#46039f"
             ],
             [
              0.2222222222222222,
              "#7201a8"
             ],
             [
              0.3333333333333333,
              "#9c179e"
             ],
             [
              0.4444444444444444,
              "#bd3786"
             ],
             [
              0.5555555555555556,
              "#d8576b"
             ],
             [
              0.6666666666666666,
              "#ed7953"
             ],
             [
              0.7777777777777778,
              "#fb9f3a"
             ],
             [
              0.8888888888888888,
              "#fdca26"
             ],
             [
              1,
              "#f0f921"
             ]
            ],
            "type": "surface"
           }
          ],
          "table": [
           {
            "cells": {
             "fill": {
              "color": "#EBF0F8"
             },
             "line": {
              "color": "white"
             }
            },
            "header": {
             "fill": {
              "color": "#C8D4E3"
             },
             "line": {
              "color": "white"
             }
            },
            "type": "table"
           }
          ]
         },
         "layout": {
          "annotationdefaults": {
           "arrowcolor": "#2a3f5f",
           "arrowhead": 0,
           "arrowwidth": 1
          },
          "coloraxis": {
           "colorbar": {
            "outlinewidth": 0,
            "ticks": ""
           }
          },
          "colorscale": {
           "diverging": [
            [
             0,
             "#8e0152"
            ],
            [
             0.1,
             "#c51b7d"
            ],
            [
             0.2,
             "#de77ae"
            ],
            [
             0.3,
             "#f1b6da"
            ],
            [
             0.4,
             "#fde0ef"
            ],
            [
             0.5,
             "#f7f7f7"
            ],
            [
             0.6,
             "#e6f5d0"
            ],
            [
             0.7,
             "#b8e186"
            ],
            [
             0.8,
             "#7fbc41"
            ],
            [
             0.9,
             "#4d9221"
            ],
            [
             1,
             "#276419"
            ]
           ],
           "sequential": [
            [
             0,
             "#0d0887"
            ],
            [
             0.1111111111111111,
             "#46039f"
            ],
            [
             0.2222222222222222,
             "#7201a8"
            ],
            [
             0.3333333333333333,
             "#9c179e"
            ],
            [
             0.4444444444444444,
             "#bd3786"
            ],
            [
             0.5555555555555556,
             "#d8576b"
            ],
            [
             0.6666666666666666,
             "#ed7953"
            ],
            [
             0.7777777777777778,
             "#fb9f3a"
            ],
            [
             0.8888888888888888,
             "#fdca26"
            ],
            [
             1,
             "#f0f921"
            ]
           ],
           "sequentialminus": [
            [
             0,
             "#0d0887"
            ],
            [
             0.1111111111111111,
             "#46039f"
            ],
            [
             0.2222222222222222,
             "#7201a8"
            ],
            [
             0.3333333333333333,
             "#9c179e"
            ],
            [
             0.4444444444444444,
             "#bd3786"
            ],
            [
             0.5555555555555556,
             "#d8576b"
            ],
            [
             0.6666666666666666,
             "#ed7953"
            ],
            [
             0.7777777777777778,
             "#fb9f3a"
            ],
            [
             0.8888888888888888,
             "#fdca26"
            ],
            [
             1,
             "#f0f921"
            ]
           ]
          },
          "colorway": [
           "#636efa",
           "#EF553B",
           "#00cc96",
           "#ab63fa",
           "#FFA15A",
           "#19d3f3",
           "#FF6692",
           "#B6E880",
           "#FF97FF",
           "#FECB52"
          ],
          "font": {
           "color": "#2a3f5f"
          },
          "geo": {
           "bgcolor": "white",
           "lakecolor": "white",
           "landcolor": "#E5ECF6",
           "showlakes": true,
           "showland": true,
           "subunitcolor": "white"
          },
          "hoverlabel": {
           "align": "left"
          },
          "hovermode": "closest",
          "mapbox": {
           "style": "light"
          },
          "paper_bgcolor": "white",
          "plot_bgcolor": "#E5ECF6",
          "polar": {
           "angularaxis": {
            "gridcolor": "white",
            "linecolor": "white",
            "ticks": ""
           },
           "bgcolor": "#E5ECF6",
           "radialaxis": {
            "gridcolor": "white",
            "linecolor": "white",
            "ticks": ""
           }
          },
          "scene": {
           "xaxis": {
            "backgroundcolor": "#E5ECF6",
            "gridcolor": "white",
            "gridwidth": 2,
            "linecolor": "white",
            "showbackground": true,
            "ticks": "",
            "zerolinecolor": "white"
           },
           "yaxis": {
            "backgroundcolor": "#E5ECF6",
            "gridcolor": "white",
            "gridwidth": 2,
            "linecolor": "white",
            "showbackground": true,
            "ticks": "",
            "zerolinecolor": "white"
           },
           "zaxis": {
            "backgroundcolor": "#E5ECF6",
            "gridcolor": "white",
            "gridwidth": 2,
            "linecolor": "white",
            "showbackground": true,
            "ticks": "",
            "zerolinecolor": "white"
           }
          },
          "shapedefaults": {
           "line": {
            "color": "#2a3f5f"
           }
          },
          "ternary": {
           "aaxis": {
            "gridcolor": "white",
            "linecolor": "white",
            "ticks": ""
           },
           "baxis": {
            "gridcolor": "white",
            "linecolor": "white",
            "ticks": ""
           },
           "bgcolor": "#E5ECF6",
           "caxis": {
            "gridcolor": "white",
            "linecolor": "white",
            "ticks": ""
           }
          },
          "title": {
           "x": 0.05
          },
          "xaxis": {
           "automargin": true,
           "gridcolor": "white",
           "linecolor": "white",
           "ticks": "",
           "title": {
            "standoff": 15
           },
           "zerolinecolor": "white",
           "zerolinewidth": 2
          },
          "yaxis": {
           "automargin": true,
           "gridcolor": "white",
           "linecolor": "white",
           "ticks": "",
           "title": {
            "standoff": 15
           },
           "zerolinecolor": "white",
           "zerolinewidth": 2
          }
         }
        },
        "transition": {
         "duration": 4000
        },
        "updatemenus": [
         {
          "buttons": [
           {
            "args": [
             null,
             {
              "frame": {
               "duration": 500,
               "redraw": false
              },
              "fromcurrent": true,
              "mode": "immediate",
              "transition": {
               "duration": 500,
               "easing": "linear"
              }
             }
            ],
            "label": "&#9654;",
            "method": "animate"
           },
           {
            "args": [
             [
              null
             ],
             {
              "frame": {
               "duration": 0,
               "redraw": false
              },
              "fromcurrent": true,
              "mode": "immediate",
              "transition": {
               "duration": 0,
               "easing": "linear"
              }
             }
            ],
            "label": "&#9724;",
            "method": "animate"
           }
          ],
          "direction": "left",
          "pad": {
           "r": 10,
           "t": 70
          },
          "showactive": false,
          "type": "buttons",
          "x": 0.1,
          "xanchor": "right",
          "y": 0,
          "yanchor": "top"
         }
        ],
        "xaxis": {
         "anchor": "y",
         "domain": [
          0,
          1
         ],
         "range": [
          0.06,
          0.4
         ],
         "title": {
          "text": "Funding/Population"
         }
        },
        "yaxis": {
         "anchor": "x",
         "domain": [
          0,
          1
         ],
         "range": [
          -1.9999999999999996,
          1.0791812460476247
         ],
         "title": {
          "text": "Death Rate (10^-5)"
         },
         "type": "log"
        }
       }
      },
      "text/html": [
       "<div>                            <div id=\"c7a9ddd2-fce2-45b9-8520-6c46d650d77e\" class=\"plotly-graph-div\" style=\"height:525px; width:100%;\"></div>            <script type=\"text/javascript\">                require([\"plotly\"], function(Plotly) {                    window.PLOTLYENV=window.PLOTLYENV || {};                                    if (document.getElementById(\"c7a9ddd2-fce2-45b9-8520-6c46d650d77e\")) {                    Plotly.newPlot(                        \"c7a9ddd2-fce2-45b9-8520-6c46d650d77e\",                        [{\"hovertemplate\": \"<b>%{hovertext}</b><br><br>Race=White<br>Year=2013<br>Funding/Population=%{x}<br>Death Rate (10^-5)=%{y}<br>Count=%{marker.size}<extra></extra>\", \"hovertext\": [\"Alaska\", \"Alabama\", \"Arkansas\", \"Arizona\", \"California\", \"Colorado\", \"Connecticut\", \"Florida\", \"Georgia\", \"Hawaii\", \"Iowa\", \"Idaho\", \"Illinois\", \"Indiana\", \"Kansas\", \"Kentucky\", \"Massachusetts\", \"Maine\", \"Michigan\", \"Minnesota\", \"Missouri\", \"Mississippi\", \"Montana\", \"North Carolina\", \"North Dakota\", \"Nebraska\", \"New Hampshire\", \"New Jersey\", \"New Mexico\", \"Nevada\", \"New York\", \"Ohio\", \"Oklahoma\", \"Oregon\", \"Pennsylvania\", \"Rhode Island\", \"South Carolina\", \"South Dakota\", \"Tennessee\", \"Texas\", \"Utah\", \"Virginia\", \"Vermont\", \"Washington\", \"Wisconsin\", \"West Virginia\", \"Wyoming\"], \"ids\": [\"Alaska\", \"Alabama\", \"Arkansas\", \"Arizona\", \"California\", \"Colorado\", \"Connecticut\", \"Florida\", \"Georgia\", \"Hawaii\", \"Iowa\", \"Idaho\", \"Illinois\", \"Indiana\", \"Kansas\", \"Kentucky\", \"Massachusetts\", \"Maine\", \"Michigan\", \"Minnesota\", \"Missouri\", \"Mississippi\", \"Montana\", \"North Carolina\", \"North Dakota\", \"Nebraska\", \"New Hampshire\", \"New Jersey\", \"New Mexico\", \"Nevada\", \"New York\", \"Ohio\", \"Oklahoma\", \"Oregon\", \"Pennsylvania\", \"Rhode Island\", \"South Carolina\", \"South Dakota\", \"Tennessee\", \"Texas\", \"Utah\", \"Virginia\", \"Vermont\", \"Washington\", \"Wisconsin\", \"West Virginia\", \"Wyoming\"], \"legendgroup\": \"White\", \"marker\": {\"color\": \"#636efa\", \"size\": [494783, 3372203, 2363626, 5566820, 28130737, 4634898, 2934858, 15252903, 6214617, 365054, 2853957, 1510665, 10012811, 5666856, 2520102, 3895860, 5572298, 1264252, 7929749, 4659601, 5054636, 1787471, 907054, 7048240, 646074, 1672409, 1248938, 6514205, 1735232, 2131701, 13917381, 9623567, 2900337, 3457378, 10616533, 901075, 3255341, 722883, 5136549, 21277402, 2656097, 5853258, 596163, 5649428, 5047019, 1740885, 541207], \"sizemode\": \"area\", \"sizeref\": 9427.747107438017, \"symbol\": \"circle\"}, \"mode\": \"markers\", \"name\": \"White\", \"orientation\": \"v\", \"showlegend\": true, \"type\": \"scatter\", \"x\": [0.21845995899999998, 0.103387823, 0.09287989199999999, 0.132248169, 0.16931080399999998, 0.13329386599999998, 0.13382672, 0.157194714, 0.101546481, 0.11720292800000001, 0.09592312800000001, 0.10672568, 0.16134607, 0.076508615, 0.11813072699999999, 0.076789685, 0.143944066, 0.082996359, 0.109861705, 0.13129821, 0.116107435, 0.096741912, 0.126222062, 0.11960342199999999, 0.093257958, 0.09769111300000001, 0.11822516400000001, 0.166849834, 0.133732069, 0.16836970899999998, 0.20363440600000002, 0.120096501, 0.098763284, 0.122710796, 0.11130225199999999, 0.150265775, 0.097602075, 0.089230435, 0.114208854, 0.107959175, 0.100424796, 0.112220347, 0.137768711, 0.10805635300000001, 0.135139705, 0.083514894, 0.161234404], \"xaxis\": \"x\", \"y\": [0.202108803, 0.118616821, 0.3807709, 0.359271541, 0.206180165, 0.215754478, 0.20443919300000002, 0.209796129, 0.193093154, 0.547864152, 0.105117211, 0.264784052, 0.089884849, 0.105878815, 0.158723734, 0.102673094, 0.08972958699999999, 0.39549077200000005, 0.06305369799999999, 0.150227455, 0.237405819, 0.05594496400000001, 0.5512350970000001, 0.184443209, 0.15478103099999999, 0.11958797199999999, 0.160136052, 0.030702135, 0.345775089, 0.328376259, 0.0359263, 0.124693889, 0.310308768, 0.202465568, 0.150708334, 0.11097855300000001, 0.12287499199999999, 0.138334973, 0.253088212, 0.178593232, 0.225895365, 0.08542251199999999, 0.16773936, 0.33631723399999996, 0.178323085, 0.344652289, 0.184772185], \"yaxis\": \"y\"}, {\"hovertemplate\": \"<b>%{hovertext}</b><br><br>Race=Asian<br>Year=2013<br>Funding/Population=%{x}<br>Death Rate (10^-5)=%{y}<br>Count=%{marker.size}<extra></extra>\", \"hovertext\": [\"Alabama\", \"California\", \"Minnesota\", \"New Jersey\", \"Nevada\", \"South Carolina\", \"Texas\", \"Virginia\"], \"ids\": [\"Alabama\", \"California\", \"Minnesota\", \"New Jersey\", \"Nevada\", \"South Carolina\", \"Texas\", \"Virginia\"], \"legendgroup\": \"Asian\", \"marker\": {\"color\": \"#EF553B\", \"size\": [63011, 5403085, 245004, 799890, 221876, 70018, 1158838, 501706], \"sizemode\": \"area\", \"sizeref\": 9427.747107438017, \"symbol\": \"circle\"}, \"mode\": \"markers\", \"name\": \"Asian\", \"orientation\": \"v\", \"showlegend\": true, \"type\": \"scatter\", \"x\": [0.103387823, 0.16931080399999998, 0.13129821, 0.166849834, 0.16836970899999998, 0.097602075, 0.107959175, 0.112220347], \"xaxis\": \"x\", \"y\": [1.5870244880000002, 0.166571505, 0.40815660200000003, 0.12501719, 0.450702194, 1.428204176, 0.172586677, 0.19931992], \"yaxis\": \"y\"}, {\"hovertemplate\": \"<b>%{hovertext}</b><br><br>Race=Black<br>Year=2013<br>Funding/Population=%{x}<br>Death Rate (10^-5)=%{y}<br>Count=%{marker.size}<extra></extra>\", \"hovertext\": [\"Alabama\", \"Arkansas\", \"Arizona\", \"California\", \"Colorado\", \"Connecticut\", \"District of Columbia\", \"Delaware\", \"Florida\", \"Georgia\", \"Illinois\", \"Indiana\", \"Kentucky\", \"Massachusetts\", \"Michigan\", \"Minnesota\", \"Missouri\", \"Mississippi\", \"North Carolina\", \"Nebraska\", \"New Jersey\", \"New Mexico\", \"Nevada\", \"New York\", \"Ohio\", \"Oklahoma\", \"Oregon\", \"Pennsylvania\", \"South Carolina\", \"Tennessee\", \"Texas\", \"Virginia\", \"Washington\", \"Wisconsin\", \"West Virginia\"], \"ids\": [\"Alabama\", \"Arkansas\", \"Arizona\", \"California\", \"Colorado\", \"Connecticut\", \"District of Columbia\", \"Delaware\", \"Florida\", \"Georgia\", \"Illinois\", \"Indiana\", \"Kentucky\", \"Massachusetts\", \"Michigan\", \"Minnesota\", \"Missouri\", \"Mississippi\", \"North Carolina\", \"Nebraska\", \"New Jersey\", \"New Mexico\", \"Nevada\", \"New York\", \"Ohio\", \"Oklahoma\", \"Oregon\", \"Pennsylvania\", \"South Carolina\", \"Tennessee\", \"Texas\", \"Virginia\", \"Washington\", \"Wisconsin\", \"West Virginia\"], \"legendgroup\": \"Black\", \"marker\": {\"color\": \"#00cc96\", \"size\": [1284340, 461473, 306678, 2509919, 231172, 407444, 322207, 205095, 3275914, 3138301, 1899919, 623776, 358259, 549930, 1411844, 311032, 711333, 1118901, 2175904, 90405, 1306161, 50769, 249219, 3442795, 1455976, 295641, 78944, 1477970, 1330419, 1106109, 3275007, 1623338, 277615, 376441, 65312], \"sizemode\": \"area\", \"sizeref\": 9427.747107438017, \"symbol\": \"circle\"}, \"mode\": \"markers\", \"name\": \"Black\", \"orientation\": \"v\", \"showlegend\": true, \"type\": \"scatter\", \"x\": [0.103387823, 0.09287989199999999, 0.132248169, 0.16931080399999998, 0.13329386599999998, 0.13382672, 0.369341918, 0.15210908, 0.157194714, 0.101546481, 0.16134607, 0.076508615, 0.076789685, 0.143944066, 0.109861705, 0.13129821, 0.116107435, 0.096741912, 0.11960342199999999, 0.09769111300000001, 0.166849834, 0.133732069, 0.16836970899999998, 0.20363440600000002, 0.120096501, 0.098763284, 0.122710796, 0.11130225199999999, 0.097602075, 0.114208854, 0.107959175, 0.112220347, 0.10805635300000001, 0.135139705, 0.083514894], \"xaxis\": \"x\", \"y\": [0.93433203, 1.300184409, 1.956449436, 1.235099619, 0.43257834, 0.49086500200000005, 1.8621569359999999, 0.48757892700000005, 0.7936716290000001, 0.3823725, 0.578972051, 1.763453547, 0.55825534, 0.9092066259999999, 0.495805486, 0.9645309809999999, 1.405811343, 0.357493648, 0.643410739, 1.10613351, 0.459361442, 1.969705923, 0.40125351600000003, 0.37760017700000004, 0.8928718609999999, 2.0294884669999997, 1.266720713, 0.6089433479999999, 0.601314323, 0.36162801299999997, 0.6412200029999999, 0.308007328, 1.440844335, 1.062583512, 1.5311122], \"yaxis\": \"y\"}, {\"hovertemplate\": \"<b>%{hovertext}</b><br><br>Race=Native American<br>Year=2013<br>Funding/Population=%{x}<br>Death Rate (10^-5)=%{y}<br>Count=%{marker.size}<extra></extra>\", \"hovertext\": [\"Arizona\", \"Oklahoma\", \"South Dakota\", \"Washington\"], \"ids\": [\"Arizona\", \"Oklahoma\", \"South Dakota\", \"Washington\"], \"legendgroup\": \"Native American\", \"marker\": {\"color\": \"#ab63fa\", \"size\": [353396, 351251, 76353, 131950], \"sizemode\": \"area\", \"sizeref\": 9427.747107438017, \"symbol\": \"circle\"}, \"mode\": \"markers\", \"name\": \"Native American\", \"orientation\": \"v\", \"showlegend\": true, \"type\": \"scatter\", \"x\": [0.132248169, 0.098763284, 0.089230435, 0.10805635300000001], \"xaxis\": \"x\", \"y\": [0.282968681, 0.284696698, 1.309706233, 0.7578628270000001], \"yaxis\": \"y\"}, {\"hovertemplate\": \"<b>%{hovertext}</b><br><br>Race=Pacific Islander<br>Year=2013<br>Funding/Population=%{x}<br>Death Rate (10^-5)=%{y}<br>Count=%{marker.size}<extra></extra>\", \"hovertext\": [\"Hawaii\", \"Oklahoma\"], \"ids\": [\"Hawaii\", \"Oklahoma\"], \"legendgroup\": \"Pacific Islander\", \"marker\": {\"color\": \"#FFA15A\", \"size\": [144264, 6457], \"sizemode\": \"area\", \"sizeref\": 9427.747107438017, \"symbol\": \"circle\"}, \"mode\": \"markers\", \"name\": \"Pacific Islander\", \"orientation\": \"v\", \"showlegend\": true, \"type\": \"scatter\", \"x\": [0.11720292800000001, 0.098763284], \"xaxis\": \"x\", \"y\": [0.693173626, 15.487068300000002], \"yaxis\": \"y\"}],                        {\"legend\": {\"itemsizing\": \"constant\", \"title\": {\"text\": \"Race\"}, \"tracegroupgap\": 0}, \"margin\": {\"t\": 60}, \"sliders\": [{\"active\": 0, \"currentvalue\": {\"prefix\": \"Year=\"}, \"len\": 0.9, \"pad\": {\"b\": 10, \"t\": 60}, \"steps\": [{\"args\": [[\"2013\"], {\"frame\": {\"duration\": 0, \"redraw\": false}, \"fromcurrent\": true, \"mode\": \"immediate\", \"transition\": {\"duration\": 0, \"easing\": \"linear\"}}], \"label\": \"2013\", \"method\": \"animate\"}, {\"args\": [[\"2014\"], {\"frame\": {\"duration\": 0, \"redraw\": false}, \"fromcurrent\": true, \"mode\": \"immediate\", \"transition\": {\"duration\": 0, \"easing\": \"linear\"}}], \"label\": \"2014\", \"method\": \"animate\"}, {\"args\": [[\"2015\"], {\"frame\": {\"duration\": 0, \"redraw\": false}, \"fromcurrent\": true, \"mode\": \"immediate\", \"transition\": {\"duration\": 0, \"easing\": \"linear\"}}], \"label\": \"2015\", \"method\": \"animate\"}, {\"args\": [[\"2016\"], {\"frame\": {\"duration\": 0, \"redraw\": false}, \"fromcurrent\": true, \"mode\": \"immediate\", \"transition\": {\"duration\": 0, \"easing\": \"linear\"}}], \"label\": \"2016\", \"method\": \"animate\"}, {\"args\": [[\"2017\"], {\"frame\": {\"duration\": 0, \"redraw\": false}, \"fromcurrent\": true, \"mode\": \"immediate\", \"transition\": {\"duration\": 0, \"easing\": \"linear\"}}], \"label\": \"2017\", \"method\": \"animate\"}, {\"args\": [[\"2018\"], {\"frame\": {\"duration\": 0, \"redraw\": false}, \"fromcurrent\": true, \"mode\": \"immediate\", \"transition\": {\"duration\": 0, \"easing\": \"linear\"}}], \"label\": \"2018\", \"method\": \"animate\"}], \"x\": 0.1, \"xanchor\": \"left\", \"y\": 0, \"yanchor\": \"top\"}], \"template\": {\"data\": {\"bar\": [{\"error_x\": {\"color\": \"#2a3f5f\"}, \"error_y\": {\"color\": \"#2a3f5f\"}, \"marker\": {\"line\": {\"color\": \"#E5ECF6\", \"width\": 0.5}}, \"type\": \"bar\"}], \"barpolar\": [{\"marker\": {\"line\": {\"color\": \"#E5ECF6\", \"width\": 0.5}}, \"type\": \"barpolar\"}], \"carpet\": [{\"aaxis\": {\"endlinecolor\": \"#2a3f5f\", \"gridcolor\": \"white\", \"linecolor\": \"white\", \"minorgridcolor\": \"white\", \"startlinecolor\": \"#2a3f5f\"}, \"baxis\": {\"endlinecolor\": \"#2a3f5f\", \"gridcolor\": \"white\", \"linecolor\": \"white\", \"minorgridcolor\": \"white\", \"startlinecolor\": \"#2a3f5f\"}, \"type\": \"carpet\"}], \"choropleth\": [{\"colorbar\": {\"outlinewidth\": 0, \"ticks\": \"\"}, \"type\": \"choropleth\"}], \"contour\": [{\"colorbar\": {\"outlinewidth\": 0, \"ticks\": \"\"}, \"colorscale\": [[0.0, \"#0d0887\"], [0.1111111111111111, \"#46039f\"], [0.2222222222222222, \"#7201a8\"], [0.3333333333333333, \"#9c179e\"], [0.4444444444444444, \"#bd3786\"], [0.5555555555555556, \"#d8576b\"], [0.6666666666666666, \"#ed7953\"], [0.7777777777777778, \"#fb9f3a\"], [0.8888888888888888, \"#fdca26\"], [1.0, \"#f0f921\"]], \"type\": \"contour\"}], \"contourcarpet\": [{\"colorbar\": {\"outlinewidth\": 0, \"ticks\": \"\"}, \"type\": \"contourcarpet\"}], \"heatmap\": [{\"colorbar\": {\"outlinewidth\": 0, \"ticks\": \"\"}, \"colorscale\": [[0.0, \"#0d0887\"], [0.1111111111111111, \"#46039f\"], [0.2222222222222222, \"#7201a8\"], [0.3333333333333333, \"#9c179e\"], [0.4444444444444444, \"#bd3786\"], [0.5555555555555556, \"#d8576b\"], [0.6666666666666666, \"#ed7953\"], [0.7777777777777778, \"#fb9f3a\"], [0.8888888888888888, \"#fdca26\"], [1.0, \"#f0f921\"]], \"type\": \"heatmap\"}], \"heatmapgl\": [{\"colorbar\": {\"outlinewidth\": 0, \"ticks\": \"\"}, \"colorscale\": [[0.0, \"#0d0887\"], [0.1111111111111111, \"#46039f\"], [0.2222222222222222, \"#7201a8\"], [0.3333333333333333, \"#9c179e\"], [0.4444444444444444, \"#bd3786\"], [0.5555555555555556, \"#d8576b\"], [0.6666666666666666, \"#ed7953\"], [0.7777777777777778, \"#fb9f3a\"], [0.8888888888888888, \"#fdca26\"], [1.0, \"#f0f921\"]], \"type\": \"heatmapgl\"}], \"histogram\": [{\"marker\": {\"colorbar\": {\"outlinewidth\": 0, \"ticks\": \"\"}}, \"type\": \"histogram\"}], \"histogram2d\": [{\"colorbar\": {\"outlinewidth\": 0, \"ticks\": \"\"}, \"colorscale\": [[0.0, \"#0d0887\"], [0.1111111111111111, \"#46039f\"], [0.2222222222222222, \"#7201a8\"], [0.3333333333333333, \"#9c179e\"], [0.4444444444444444, \"#bd3786\"], [0.5555555555555556, \"#d8576b\"], [0.6666666666666666, \"#ed7953\"], [0.7777777777777778, \"#fb9f3a\"], [0.8888888888888888, \"#fdca26\"], [1.0, \"#f0f921\"]], \"type\": \"histogram2d\"}], \"histogram2dcontour\": [{\"colorbar\": {\"outlinewidth\": 0, \"ticks\": \"\"}, \"colorscale\": [[0.0, \"#0d0887\"], [0.1111111111111111, \"#46039f\"], [0.2222222222222222, \"#7201a8\"], [0.3333333333333333, \"#9c179e\"], [0.4444444444444444, \"#bd3786\"], [0.5555555555555556, \"#d8576b\"], [0.6666666666666666, \"#ed7953\"], [0.7777777777777778, \"#fb9f3a\"], [0.8888888888888888, \"#fdca26\"], [1.0, \"#f0f921\"]], \"type\": \"histogram2dcontour\"}], \"mesh3d\": [{\"colorbar\": {\"outlinewidth\": 0, \"ticks\": \"\"}, \"type\": \"mesh3d\"}], \"parcoords\": [{\"line\": {\"colorbar\": {\"outlinewidth\": 0, \"ticks\": \"\"}}, \"type\": \"parcoords\"}], \"pie\": [{\"automargin\": true, \"type\": \"pie\"}], \"scatter\": [{\"marker\": {\"colorbar\": {\"outlinewidth\": 0, \"ticks\": \"\"}}, \"type\": \"scatter\"}], \"scatter3d\": [{\"line\": {\"colorbar\": {\"outlinewidth\": 0, \"ticks\": \"\"}}, \"marker\": {\"colorbar\": {\"outlinewidth\": 0, \"ticks\": \"\"}}, \"type\": \"scatter3d\"}], \"scattercarpet\": [{\"marker\": {\"colorbar\": {\"outlinewidth\": 0, \"ticks\": \"\"}}, \"type\": \"scattercarpet\"}], \"scattergeo\": [{\"marker\": {\"colorbar\": {\"outlinewidth\": 0, \"ticks\": \"\"}}, \"type\": \"scattergeo\"}], \"scattergl\": [{\"marker\": {\"colorbar\": {\"outlinewidth\": 0, \"ticks\": \"\"}}, \"type\": \"scattergl\"}], \"scattermapbox\": [{\"marker\": {\"colorbar\": {\"outlinewidth\": 0, \"ticks\": \"\"}}, \"type\": \"scattermapbox\"}], \"scatterpolar\": [{\"marker\": {\"colorbar\": {\"outlinewidth\": 0, \"ticks\": \"\"}}, \"type\": \"scatterpolar\"}], \"scatterpolargl\": [{\"marker\": {\"colorbar\": {\"outlinewidth\": 0, \"ticks\": \"\"}}, \"type\": \"scatterpolargl\"}], \"scatterternary\": [{\"marker\": {\"colorbar\": {\"outlinewidth\": 0, \"ticks\": \"\"}}, \"type\": \"scatterternary\"}], \"surface\": [{\"colorbar\": {\"outlinewidth\": 0, \"ticks\": \"\"}, \"colorscale\": [[0.0, \"#0d0887\"], [0.1111111111111111, \"#46039f\"], [0.2222222222222222, \"#7201a8\"], [0.3333333333333333, \"#9c179e\"], [0.4444444444444444, \"#bd3786\"], [0.5555555555555556, \"#d8576b\"], [0.6666666666666666, \"#ed7953\"], [0.7777777777777778, \"#fb9f3a\"], [0.8888888888888888, \"#fdca26\"], [1.0, \"#f0f921\"]], \"type\": \"surface\"}], \"table\": [{\"cells\": {\"fill\": {\"color\": \"#EBF0F8\"}, \"line\": {\"color\": \"white\"}}, \"header\": {\"fill\": {\"color\": \"#C8D4E3\"}, \"line\": {\"color\": \"white\"}}, \"type\": \"table\"}]}, \"layout\": {\"annotationdefaults\": {\"arrowcolor\": \"#2a3f5f\", \"arrowhead\": 0, \"arrowwidth\": 1}, \"coloraxis\": {\"colorbar\": {\"outlinewidth\": 0, \"ticks\": \"\"}}, \"colorscale\": {\"diverging\": [[0, \"#8e0152\"], [0.1, \"#c51b7d\"], [0.2, \"#de77ae\"], [0.3, \"#f1b6da\"], [0.4, \"#fde0ef\"], [0.5, \"#f7f7f7\"], [0.6, \"#e6f5d0\"], [0.7, \"#b8e186\"], [0.8, \"#7fbc41\"], [0.9, \"#4d9221\"], [1, \"#276419\"]], \"sequential\": [[0.0, \"#0d0887\"], [0.1111111111111111, \"#46039f\"], [0.2222222222222222, \"#7201a8\"], [0.3333333333333333, \"#9c179e\"], [0.4444444444444444, \"#bd3786\"], [0.5555555555555556, \"#d8576b\"], [0.6666666666666666, \"#ed7953\"], [0.7777777777777778, \"#fb9f3a\"], [0.8888888888888888, \"#fdca26\"], [1.0, \"#f0f921\"]], \"sequentialminus\": [[0.0, \"#0d0887\"], [0.1111111111111111, \"#46039f\"], [0.2222222222222222, \"#7201a8\"], [0.3333333333333333, \"#9c179e\"], [0.4444444444444444, \"#bd3786\"], [0.5555555555555556, \"#d8576b\"], [0.6666666666666666, \"#ed7953\"], [0.7777777777777778, \"#fb9f3a\"], [0.8888888888888888, \"#fdca26\"], [1.0, \"#f0f921\"]]}, \"colorway\": [\"#636efa\", \"#EF553B\", \"#00cc96\", \"#ab63fa\", \"#FFA15A\", \"#19d3f3\", \"#FF6692\", \"#B6E880\", \"#FF97FF\", \"#FECB52\"], \"font\": {\"color\": \"#2a3f5f\"}, \"geo\": {\"bgcolor\": \"white\", \"lakecolor\": \"white\", \"landcolor\": \"#E5ECF6\", \"showlakes\": true, \"showland\": true, \"subunitcolor\": \"white\"}, \"hoverlabel\": {\"align\": \"left\"}, \"hovermode\": \"closest\", \"mapbox\": {\"style\": \"light\"}, \"paper_bgcolor\": \"white\", \"plot_bgcolor\": \"#E5ECF6\", \"polar\": {\"angularaxis\": {\"gridcolor\": \"white\", \"linecolor\": \"white\", \"ticks\": \"\"}, \"bgcolor\": \"#E5ECF6\", \"radialaxis\": {\"gridcolor\": \"white\", \"linecolor\": \"white\", \"ticks\": \"\"}}, \"scene\": {\"xaxis\": {\"backgroundcolor\": \"#E5ECF6\", \"gridcolor\": \"white\", \"gridwidth\": 2, \"linecolor\": \"white\", \"showbackground\": true, \"ticks\": \"\", \"zerolinecolor\": \"white\"}, \"yaxis\": {\"backgroundcolor\": \"#E5ECF6\", \"gridcolor\": \"white\", \"gridwidth\": 2, \"linecolor\": \"white\", \"showbackground\": true, \"ticks\": \"\", \"zerolinecolor\": \"white\"}, \"zaxis\": {\"backgroundcolor\": \"#E5ECF6\", \"gridcolor\": \"white\", \"gridwidth\": 2, \"linecolor\": \"white\", \"showbackground\": true, \"ticks\": \"\", \"zerolinecolor\": \"white\"}}, \"shapedefaults\": {\"line\": {\"color\": \"#2a3f5f\"}}, \"ternary\": {\"aaxis\": {\"gridcolor\": \"white\", \"linecolor\": \"white\", \"ticks\": \"\"}, \"baxis\": {\"gridcolor\": \"white\", \"linecolor\": \"white\", \"ticks\": \"\"}, \"bgcolor\": \"#E5ECF6\", \"caxis\": {\"gridcolor\": \"white\", \"linecolor\": \"white\", \"ticks\": \"\"}}, \"title\": {\"x\": 0.05}, \"xaxis\": {\"automargin\": true, \"gridcolor\": \"white\", \"linecolor\": \"white\", \"ticks\": \"\", \"title\": {\"standoff\": 15}, \"zerolinecolor\": \"white\", \"zerolinewidth\": 2}, \"yaxis\": {\"automargin\": true, \"gridcolor\": \"white\", \"linecolor\": \"white\", \"ticks\": \"\", \"title\": {\"standoff\": 15}, \"zerolinecolor\": \"white\", \"zerolinewidth\": 2}}}, \"transition\": {\"duration\": 4000}, \"updatemenus\": [{\"buttons\": [{\"args\": [null, {\"frame\": {\"duration\": 500, \"redraw\": false}, \"fromcurrent\": true, \"mode\": \"immediate\", \"transition\": {\"duration\": 500, \"easing\": \"linear\"}}], \"label\": \"&#9654;\", \"method\": \"animate\"}, {\"args\": [[null], {\"frame\": {\"duration\": 0, \"redraw\": false}, \"fromcurrent\": true, \"mode\": \"immediate\", \"transition\": {\"duration\": 0, \"easing\": \"linear\"}}], \"label\": \"&#9724;\", \"method\": \"animate\"}], \"direction\": \"left\", \"pad\": {\"r\": 10, \"t\": 70}, \"showactive\": false, \"type\": \"buttons\", \"x\": 0.1, \"xanchor\": \"right\", \"y\": 0, \"yanchor\": \"top\"}], \"xaxis\": {\"anchor\": \"y\", \"domain\": [0.0, 1.0], \"range\": [0.06, 0.4], \"title\": {\"text\": \"Funding/Population\"}}, \"yaxis\": {\"anchor\": \"x\", \"domain\": [0.0, 1.0], \"range\": [-1.9999999999999996, 1.0791812460476247], \"title\": {\"text\": \"Death Rate (10^-5)\"}, \"type\": \"log\"}},                        {\"responsive\": true}                    ).then(function(){\n",
       "                            Plotly.addFrames('c7a9ddd2-fce2-45b9-8520-6c46d650d77e', [{\"data\": [{\"hovertemplate\": \"<b>%{hovertext}</b><br><br>Race=White<br>Year=2013<br>Funding/Population=%{x}<br>Death Rate (10^-5)=%{y}<br>Count=%{marker.size}<extra></extra>\", \"hovertext\": [\"Alaska\", \"Alabama\", \"Arkansas\", \"Arizona\", \"California\", \"Colorado\", \"Connecticut\", \"Florida\", \"Georgia\", \"Hawaii\", \"Iowa\", \"Idaho\", \"Illinois\", \"Indiana\", \"Kansas\", \"Kentucky\", \"Massachusetts\", \"Maine\", \"Michigan\", \"Minnesota\", \"Missouri\", \"Mississippi\", \"Montana\", \"North Carolina\", \"North Dakota\", \"Nebraska\", \"New Hampshire\", \"New Jersey\", \"New Mexico\", \"Nevada\", \"New York\", \"Ohio\", \"Oklahoma\", \"Oregon\", \"Pennsylvania\", \"Rhode Island\", \"South Carolina\", \"South Dakota\", \"Tennessee\", \"Texas\", \"Utah\", \"Virginia\", \"Vermont\", \"Washington\", \"Wisconsin\", \"West Virginia\", \"Wyoming\"], \"ids\": [\"Alaska\", \"Alabama\", \"Arkansas\", \"Arizona\", \"California\", \"Colorado\", \"Connecticut\", \"Florida\", \"Georgia\", \"Hawaii\", \"Iowa\", \"Idaho\", \"Illinois\", \"Indiana\", \"Kansas\", \"Kentucky\", \"Massachusetts\", \"Maine\", \"Michigan\", \"Minnesota\", \"Missouri\", \"Mississippi\", \"Montana\", \"North Carolina\", \"North Dakota\", \"Nebraska\", \"New Hampshire\", \"New Jersey\", \"New Mexico\", \"Nevada\", \"New York\", \"Ohio\", \"Oklahoma\", \"Oregon\", \"Pennsylvania\", \"Rhode Island\", \"South Carolina\", \"South Dakota\", \"Tennessee\", \"Texas\", \"Utah\", \"Virginia\", \"Vermont\", \"Washington\", \"Wisconsin\", \"West Virginia\", \"Wyoming\"], \"legendgroup\": \"White\", \"marker\": {\"color\": \"#636efa\", \"size\": [494783, 3372203, 2363626, 5566820, 28130737, 4634898, 2934858, 15252903, 6214617, 365054, 2853957, 1510665, 10012811, 5666856, 2520102, 3895860, 5572298, 1264252, 7929749, 4659601, 5054636, 1787471, 907054, 7048240, 646074, 1672409, 1248938, 6514205, 1735232, 2131701, 13917381, 9623567, 2900337, 3457378, 10616533, 901075, 3255341, 722883, 5136549, 21277402, 2656097, 5853258, 596163, 5649428, 5047019, 1740885, 541207], \"sizemode\": \"area\", \"sizeref\": 9427.747107438017, \"symbol\": \"circle\"}, \"mode\": \"markers\", \"name\": \"White\", \"orientation\": \"v\", \"showlegend\": true, \"x\": [0.21845995899999998, 0.103387823, 0.09287989199999999, 0.132248169, 0.16931080399999998, 0.13329386599999998, 0.13382672, 0.157194714, 0.101546481, 0.11720292800000001, 0.09592312800000001, 0.10672568, 0.16134607, 0.076508615, 0.11813072699999999, 0.076789685, 0.143944066, 0.082996359, 0.109861705, 0.13129821, 0.116107435, 0.096741912, 0.126222062, 0.11960342199999999, 0.093257958, 0.09769111300000001, 0.11822516400000001, 0.166849834, 0.133732069, 0.16836970899999998, 0.20363440600000002, 0.120096501, 0.098763284, 0.122710796, 0.11130225199999999, 0.150265775, 0.097602075, 0.089230435, 0.114208854, 0.107959175, 0.100424796, 0.112220347, 0.137768711, 0.10805635300000001, 0.135139705, 0.083514894, 0.161234404], \"xaxis\": \"x\", \"y\": [0.202108803, 0.118616821, 0.3807709, 0.359271541, 0.206180165, 0.215754478, 0.20443919300000002, 0.209796129, 0.193093154, 0.547864152, 0.105117211, 0.264784052, 0.089884849, 0.105878815, 0.158723734, 0.102673094, 0.08972958699999999, 0.39549077200000005, 0.06305369799999999, 0.150227455, 0.237405819, 0.05594496400000001, 0.5512350970000001, 0.184443209, 0.15478103099999999, 0.11958797199999999, 0.160136052, 0.030702135, 0.345775089, 0.328376259, 0.0359263, 0.124693889, 0.310308768, 0.202465568, 0.150708334, 0.11097855300000001, 0.12287499199999999, 0.138334973, 0.253088212, 0.178593232, 0.225895365, 0.08542251199999999, 0.16773936, 0.33631723399999996, 0.178323085, 0.344652289, 0.184772185], \"yaxis\": \"y\", \"type\": \"scatter\"}, {\"hovertemplate\": \"<b>%{hovertext}</b><br><br>Race=Asian<br>Year=2013<br>Funding/Population=%{x}<br>Death Rate (10^-5)=%{y}<br>Count=%{marker.size}<extra></extra>\", \"hovertext\": [\"Alabama\", \"California\", \"Minnesota\", \"New Jersey\", \"Nevada\", \"South Carolina\", \"Texas\", \"Virginia\"], \"ids\": [\"Alabama\", \"California\", \"Minnesota\", \"New Jersey\", \"Nevada\", \"South Carolina\", \"Texas\", \"Virginia\"], \"legendgroup\": \"Asian\", \"marker\": {\"color\": \"#EF553B\", \"size\": [63011, 5403085, 245004, 799890, 221876, 70018, 1158838, 501706], \"sizemode\": \"area\", \"sizeref\": 9427.747107438017, \"symbol\": \"circle\"}, \"mode\": \"markers\", \"name\": \"Asian\", \"orientation\": \"v\", \"showlegend\": true, \"x\": [0.103387823, 0.16931080399999998, 0.13129821, 0.166849834, 0.16836970899999998, 0.097602075, 0.107959175, 0.112220347], \"xaxis\": \"x\", \"y\": [1.5870244880000002, 0.166571505, 0.40815660200000003, 0.12501719, 0.450702194, 1.428204176, 0.172586677, 0.19931992], \"yaxis\": \"y\", \"type\": \"scatter\"}, {\"hovertemplate\": \"<b>%{hovertext}</b><br><br>Race=Black<br>Year=2013<br>Funding/Population=%{x}<br>Death Rate (10^-5)=%{y}<br>Count=%{marker.size}<extra></extra>\", \"hovertext\": [\"Alabama\", \"Arkansas\", \"Arizona\", \"California\", \"Colorado\", \"Connecticut\", \"District of Columbia\", \"Delaware\", \"Florida\", \"Georgia\", \"Illinois\", \"Indiana\", \"Kentucky\", \"Massachusetts\", \"Michigan\", \"Minnesota\", \"Missouri\", \"Mississippi\", \"North Carolina\", \"Nebraska\", \"New Jersey\", \"New Mexico\", \"Nevada\", \"New York\", \"Ohio\", \"Oklahoma\", \"Oregon\", \"Pennsylvania\", \"South Carolina\", \"Tennessee\", \"Texas\", \"Virginia\", \"Washington\", \"Wisconsin\", \"West Virginia\"], \"ids\": [\"Alabama\", \"Arkansas\", \"Arizona\", \"California\", \"Colorado\", \"Connecticut\", \"District of Columbia\", \"Delaware\", \"Florida\", \"Georgia\", \"Illinois\", \"Indiana\", \"Kentucky\", \"Massachusetts\", \"Michigan\", \"Minnesota\", \"Missouri\", \"Mississippi\", \"North Carolina\", \"Nebraska\", \"New Jersey\", \"New Mexico\", \"Nevada\", \"New York\", \"Ohio\", \"Oklahoma\", \"Oregon\", \"Pennsylvania\", \"South Carolina\", \"Tennessee\", \"Texas\", \"Virginia\", \"Washington\", \"Wisconsin\", \"West Virginia\"], \"legendgroup\": \"Black\", \"marker\": {\"color\": \"#00cc96\", \"size\": [1284340, 461473, 306678, 2509919, 231172, 407444, 322207, 205095, 3275914, 3138301, 1899919, 623776, 358259, 549930, 1411844, 311032, 711333, 1118901, 2175904, 90405, 1306161, 50769, 249219, 3442795, 1455976, 295641, 78944, 1477970, 1330419, 1106109, 3275007, 1623338, 277615, 376441, 65312], \"sizemode\": \"area\", \"sizeref\": 9427.747107438017, \"symbol\": \"circle\"}, \"mode\": \"markers\", \"name\": \"Black\", \"orientation\": \"v\", \"showlegend\": true, \"x\": [0.103387823, 0.09287989199999999, 0.132248169, 0.16931080399999998, 0.13329386599999998, 0.13382672, 0.369341918, 0.15210908, 0.157194714, 0.101546481, 0.16134607, 0.076508615, 0.076789685, 0.143944066, 0.109861705, 0.13129821, 0.116107435, 0.096741912, 0.11960342199999999, 0.09769111300000001, 0.166849834, 0.133732069, 0.16836970899999998, 0.20363440600000002, 0.120096501, 0.098763284, 0.122710796, 0.11130225199999999, 0.097602075, 0.114208854, 0.107959175, 0.112220347, 0.10805635300000001, 0.135139705, 0.083514894], \"xaxis\": \"x\", \"y\": [0.93433203, 1.300184409, 1.956449436, 1.235099619, 0.43257834, 0.49086500200000005, 1.8621569359999999, 0.48757892700000005, 0.7936716290000001, 0.3823725, 0.578972051, 1.763453547, 0.55825534, 0.9092066259999999, 0.495805486, 0.9645309809999999, 1.405811343, 0.357493648, 0.643410739, 1.10613351, 0.459361442, 1.969705923, 0.40125351600000003, 0.37760017700000004, 0.8928718609999999, 2.0294884669999997, 1.266720713, 0.6089433479999999, 0.601314323, 0.36162801299999997, 0.6412200029999999, 0.308007328, 1.440844335, 1.062583512, 1.5311122], \"yaxis\": \"y\", \"type\": \"scatter\"}, {\"hovertemplate\": \"<b>%{hovertext}</b><br><br>Race=Native American<br>Year=2013<br>Funding/Population=%{x}<br>Death Rate (10^-5)=%{y}<br>Count=%{marker.size}<extra></extra>\", \"hovertext\": [\"Arizona\", \"Oklahoma\", \"South Dakota\", \"Washington\"], \"ids\": [\"Arizona\", \"Oklahoma\", \"South Dakota\", \"Washington\"], \"legendgroup\": \"Native American\", \"marker\": {\"color\": \"#ab63fa\", \"size\": [353396, 351251, 76353, 131950], \"sizemode\": \"area\", \"sizeref\": 9427.747107438017, \"symbol\": \"circle\"}, \"mode\": \"markers\", \"name\": \"Native American\", \"orientation\": \"v\", \"showlegend\": true, \"x\": [0.132248169, 0.098763284, 0.089230435, 0.10805635300000001], \"xaxis\": \"x\", \"y\": [0.282968681, 0.284696698, 1.309706233, 0.7578628270000001], \"yaxis\": \"y\", \"type\": \"scatter\"}, {\"hovertemplate\": \"<b>%{hovertext}</b><br><br>Race=Pacific Islander<br>Year=2013<br>Funding/Population=%{x}<br>Death Rate (10^-5)=%{y}<br>Count=%{marker.size}<extra></extra>\", \"hovertext\": [\"Hawaii\", \"Oklahoma\"], \"ids\": [\"Hawaii\", \"Oklahoma\"], \"legendgroup\": \"Pacific Islander\", \"marker\": {\"color\": \"#FFA15A\", \"size\": [144264, 6457], \"sizemode\": \"area\", \"sizeref\": 9427.747107438017, \"symbol\": \"circle\"}, \"mode\": \"markers\", \"name\": \"Pacific Islander\", \"orientation\": \"v\", \"showlegend\": true, \"x\": [0.11720292800000001, 0.098763284], \"xaxis\": \"x\", \"y\": [0.693173626, 15.487068300000002], \"yaxis\": \"y\", \"type\": \"scatter\"}], \"name\": \"2013\"}, {\"data\": [{\"hovertemplate\": \"<b>%{hovertext}</b><br><br>Race=White<br>Year=2014<br>Funding/Population=%{x}<br>Death Rate (10^-5)=%{y}<br>Count=%{marker.size}<extra></extra>\", \"hovertext\": [\"Alaska\", \"Alabama\", \"Arkansas\", \"Arizona\", \"California\", \"Colorado\", \"Delaware\", \"Florida\", \"Georgia\", \"Iowa\", \"Idaho\", \"Illinois\", \"Indiana\", \"Kansas\", \"Kentucky\", \"Massachusetts\", \"Maine\", \"Michigan\", \"Minnesota\", \"Missouri\", \"Mississippi\", \"Montana\", \"North Carolina\", \"North Dakota\", \"Nebraska\", \"New Hampshire\", \"New Jersey\", \"New Mexico\", \"Nevada\", \"New York\", \"Ohio\", \"Oklahoma\", \"Oregon\", \"Pennsylvania\", \"South Carolina\", \"South Dakota\", \"Tennessee\", \"Texas\", \"Utah\", \"Virginia\", \"Washington\", \"Wisconsin\", \"West Virginia\", \"Wyoming\"], \"ids\": [\"Alaska\", \"Alabama\", \"Arkansas\", \"Arizona\", \"California\", \"Colorado\", \"Delaware\", \"Florida\", \"Georgia\", \"Iowa\", \"Idaho\", \"Illinois\", \"Indiana\", \"Kansas\", \"Kentucky\", \"Massachusetts\", \"Maine\", \"Michigan\", \"Minnesota\", \"Missouri\", \"Mississippi\", \"Montana\", \"North Carolina\", \"North Dakota\", \"Nebraska\", \"New Hampshire\", \"New Jersey\", \"New Mexico\", \"Nevada\", \"New York\", \"Ohio\", \"Oklahoma\", \"Oregon\", \"Pennsylvania\", \"South Carolina\", \"South Dakota\", \"Tennessee\", \"Texas\", \"Utah\", \"Virginia\", \"Washington\", \"Wisconsin\", \"West Virginia\", \"Wyoming\"], \"legendgroup\": \"White\", \"marker\": {\"color\": \"#636efa\", \"size\": [492186, 3373358, 2365842, 5631624, 28280234, 4696582, 659498, 15455716, 6238124, 2857962, 1527448, 9983837, 5674421, 2521601, 3898230, 5584070, 1264326, 7929684, 4670623, 5058673, 1783586, 913098, 7090082, 656875, 1678770, 1252812, 6495168, 1728148, 2151287, 13885879, 9617058, 2909805, 3482860, 10593495, 3296955, 727396, 5164331, 21583780, 2687815, 5871545, 5693914, 5048909, 1735081, 541752], \"sizemode\": \"area\", \"sizeref\": 9427.747107438017, \"symbol\": \"circle\"}, \"mode\": \"markers\", \"name\": \"White\", \"orientation\": \"v\", \"showlegend\": true, \"x\": [0.213306363, 0.101986941, 0.09188676900000001, 0.12821359400000001, 0.17406292399999998, 0.13914547300000002, 0.155444149, 0.15415763300000002, 0.100835563, 0.09867081300000001, 0.106746225, 0.161767663, 0.076967409, 0.11014308199999999, 0.076738746, 0.15986465, 0.083433783, 0.102006358, 0.134883921, 0.119135101, 0.097919853, 0.128364647, 0.119918803, 0.094454145, 0.099768278, 0.126358066, 0.163675129, 0.136912048, 0.167038566, 0.201765296, 0.119385529, 0.10805925300000001, 0.12594781800000002, 0.11710347800000001, 0.09658534199999999, 0.090066928, 0.115209009, 0.109374001, 0.103426321, 0.113807584, 0.114750108, 0.129590191, 0.083793275, 0.15679949199999998], \"xaxis\": \"x\", \"y\": [0.203175222, 0.29644052, 0.169072998, 0.31962361100000003, 0.16972985399999999, 0.170336641, 0.303260965, 0.271744124, 0.176335065, 0.244929779, 0.130937354, 0.080129513, 0.140983547, 0.356916102, 0.359137352, 0.053724255, 0.47456115, 0.12610843, 0.14987294, 0.23721636100000001, 0.39246775899999997, 0.328551809, 0.16925051100000002, 0.152235966, 0.297837107, 0.079820436, 0.015396061, 0.4050579, 0.6042894320000001, 0.064814046, 0.155972856, 0.48113189700000003, 0.373256462, 0.066078287, 0.39430322799999995, 0.137476698, 0.290453885, 0.19922367600000002, 0.446459299, 0.06812517, 0.42150267799999996, 0.09903129599999999, 0.288170985, 0.36917261], \"yaxis\": \"y\", \"type\": \"scatter\"}, {\"hovertemplate\": \"<b>%{hovertext}</b><br><br>Race=Asian<br>Year=2014<br>Funding/Population=%{x}<br>Death Rate (10^-5)=%{y}<br>Count=%{marker.size}<extra></extra>\", \"hovertext\": [\"California\", \"Connecticut\", \"Florida\", \"Illinois\", \"Minnesota\", \"North Carolina\", \"New Mexico\", \"Nevada\", \"Texas\", \"Wisconsin\"], \"ids\": [\"California\", \"Connecticut\", \"Florida\", \"Illinois\", \"Minnesota\", \"North Carolina\", \"New Mexico\", \"Nevada\", \"Texas\", \"Wisconsin\"], \"legendgroup\": \"Asian\", \"marker\": {\"color\": \"#EF553B\", \"size\": [5537896, 159480, 540284, 686944, 254060, 269463, 34973, 229308, 1227720, 154652], \"sizemode\": \"area\", \"sizeref\": 9427.747107438017, \"symbol\": \"circle\"}, \"mode\": \"markers\", \"name\": \"Asian\", \"orientation\": \"v\", \"showlegend\": true, \"x\": [0.17406292399999998, 0.133613923, 0.15415763300000002, 0.161767663, 0.134883921, 0.119918803, 0.136912048, 0.167038566, 0.109374001, 0.129590191], \"xaxis\": \"x\", \"y\": [0.090286997, 0.627037873, 0.370175685, 0.145572274, 0.393607809, 0.37110846399999997, 2.85934864, 0.436094685, 0.162903594, 0.646613041], \"yaxis\": \"y\", \"type\": \"scatter\"}, {\"hovertemplate\": \"<b>%{hovertext}</b><br><br>Race=Black<br>Year=2014<br>Funding/Population=%{x}<br>Death Rate (10^-5)=%{y}<br>Count=%{marker.size}<extra></extra>\", \"hovertext\": [\"Alaska\", \"Alabama\", \"Arkansas\", \"Arizona\", \"California\", \"Colorado\", \"Connecticut\", \"District of Columbia\", \"Delaware\", \"Florida\", \"Georgia\", \"Illinois\", \"Indiana\", \"Kansas\", \"Kentucky\", \"Massachusetts\", \"Michigan\", \"Minnesota\", \"Missouri\", \"Mississippi\", \"North Carolina\", \"Nebraska\", \"New Jersey\", \"New Mexico\", \"Nevada\", \"New York\", \"Ohio\", \"Oklahoma\", \"Pennsylvania\", \"Rhode Island\", \"South Carolina\", \"Tennessee\", \"Texas\", \"Utah\", \"Virginia\", \"Washington\", \"Wisconsin\", \"West Virginia\"], \"ids\": [\"Alaska\", \"Alabama\", \"Arkansas\", \"Arizona\", \"California\", \"Colorado\", \"Connecticut\", \"District of Columbia\", \"Delaware\", \"Florida\", \"Georgia\", \"Illinois\", \"Indiana\", \"Kansas\", \"Kentucky\", \"Massachusetts\", \"Michigan\", \"Minnesota\", \"Missouri\", \"Mississippi\", \"North Carolina\", \"Nebraska\", \"New Jersey\", \"New Mexico\", \"Nevada\", \"New York\", \"Ohio\", \"Oklahoma\", \"Pennsylvania\", \"Rhode Island\", \"South Carolina\", \"Tennessee\", \"Texas\", \"Utah\", \"Virginia\", \"Washington\", \"Wisconsin\", \"West Virginia\"], \"legendgroup\": \"Black\", \"marker\": {\"color\": \"#00cc96\", \"size\": [26975, 1290579, 463401, 316562, 2522246, 237728, 411182, 324743, 208247, 3337671, 3187865, 1895699, 629865, 179258, 360959, 564199, 1410938, 323684, 714336, 1122262, 2201449, 92459, 1313341, 51259, 257590, 3450840, 1468625, 298489, 1489090, 81863, 1340329, 1116669, 3353743, 38313, 1637077, 284572, 379440, 65453], \"sizemode\": \"area\", \"sizeref\": 9427.747107438017, \"symbol\": \"circle\"}, \"mode\": \"markers\", \"name\": \"Black\", \"orientation\": \"v\", \"showlegend\": true, \"x\": [0.213306363, 0.101986941, 0.09188676900000001, 0.12821359400000001, 0.17406292399999998, 0.13914547300000002, 0.133613923, 0.385619914, 0.155444149, 0.15415763300000002, 0.100835563, 0.161767663, 0.076967409, 0.11014308199999999, 0.076738746, 0.15986465, 0.102006358, 0.134883921, 0.119135101, 0.097919853, 0.119918803, 0.099768278, 0.163675129, 0.136912048, 0.167038566, 0.201765296, 0.119385529, 0.10805925300000001, 0.11710347800000001, 0.158581114, 0.09658534199999999, 0.115209009, 0.109374001, 0.103426321, 0.113807584, 0.114750108, 0.129590191, 0.083793275], \"xaxis\": \"x\", \"y\": [3.707136237, 0.542392213, 0.431591645, 1.579469425, 0.9118856759999999, 0.841297617, 0.243201307, 0.923807442, 0.480198994, 0.898830352, 0.407796441, 0.94951783, 0.317528359, 2.231420634, 0.8311193240000001, 0.17724242699999998, 0.28349934600000004, 0.30894329, 1.679881736, 0.71284602, 0.45424627100000003, 1.081560475, 0.685275187, 3.9017538380000003, 1.552855313, 0.318762968, 0.885181718, 2.345145047, 0.335775541, 1.2215530829999999, 0.373042738, 0.53731231, 0.8050706329999999, 2.610080129, 0.183253445, 0.7028098340000001, 0.790638836, 1.527813851], \"yaxis\": \"y\", \"type\": \"scatter\"}, {\"hovertemplate\": \"<b>%{hovertext}</b><br><br>Race=Native American<br>Year=2014<br>Funding/Population=%{x}<br>Death Rate (10^-5)=%{y}<br>Count=%{marker.size}<extra></extra>\", \"hovertext\": [\"California\", \"Idaho\", \"Mississippi\", \"Montana\", \"New Mexico\", \"South Dakota\", \"Washington\"], \"ids\": [\"California\", \"Idaho\", \"Mississippi\", \"Montana\", \"New Mexico\", \"South Dakota\", \"Washington\"], \"legendgroup\": \"Native American\", \"marker\": {\"color\": \"#ab63fa\", \"size\": [635115, 28142, 17638, 67995, 221635, 77190, 134866], \"sizemode\": \"area\", \"sizeref\": 9427.747107438017, \"symbol\": \"circle\"}, \"mode\": \"markers\", \"name\": \"Native American\", \"orientation\": \"v\", \"showlegend\": true, \"x\": [0.17406292399999998, 0.106746225, 0.097919853, 0.128364647, 0.136912048, 0.090066928, 0.114750108], \"xaxis\": \"x\", \"y\": [0.31490359999999995, 3.5534077180000003, 5.66957705, 1.470696375, 0.9023845509999999, 2.591009198, 0.741476725], \"yaxis\": \"y\", \"type\": \"scatter\"}, {\"hovertemplate\": \"<b>%{hovertext}</b><br><br>Race=Pacific Islander<br>Year=2014<br>Funding/Population=%{x}<br>Death Rate (10^-5)=%{y}<br>Count=%{marker.size}<extra></extra>\", \"hovertext\": [\"California\", \"Hawaii\", \"Missouri\", \"Utah\"], \"ids\": [\"California\", \"Hawaii\", \"Missouri\", \"Utah\"], \"legendgroup\": \"Pacific Islander\", \"marker\": {\"color\": \"#FFA15A\", \"size\": [191689, 144813, 8241, 28985], \"sizemode\": \"area\", \"sizeref\": 9427.747107438017, \"symbol\": \"circle\"}, \"mode\": \"markers\", \"name\": \"Pacific Islander\", \"orientation\": \"v\", \"showlegend\": true, \"x\": [0.17406292399999998, 0.134723688, 0.119135101, 0.103426321], \"xaxis\": \"x\", \"y\": [0.521678344, 0.690545738, 12.1344497, 6.900120752], \"yaxis\": \"y\", \"type\": \"scatter\"}], \"name\": \"2014\"}, {\"data\": [{\"hovertemplate\": \"<b>%{hovertext}</b><br><br>Race=White<br>Year=2015<br>Funding/Population=%{x}<br>Death Rate (10^-5)=%{y}<br>Count=%{marker.size}<extra></extra>\", \"hovertext\": [\"Alaska\", \"Alabama\", \"Arkansas\", \"Arizona\", \"California\", \"Colorado\", \"Connecticut\", \"Delaware\", \"Florida\", \"Georgia\", \"Iowa\", \"Idaho\", \"Illinois\", \"Indiana\", \"Kansas\", \"Kentucky\", \"Massachusetts\", \"Maine\", \"Michigan\", \"Minnesota\", \"Missouri\", \"Mississippi\", \"Montana\", \"North Carolina\", \"Nebraska\", \"New Hampshire\", \"New Jersey\", \"New Mexico\", \"Nevada\", \"New York\", \"Ohio\", \"Oklahoma\", \"Oregon\", \"Pennsylvania\", \"South Carolina\", \"South Dakota\", \"Tennessee\", \"Texas\", \"Utah\", \"Virginia\", \"Vermont\", \"Washington\", \"Wisconsin\", \"West Virginia\", \"Wyoming\"], \"ids\": [\"Alaska\", \"Alabama\", \"Arkansas\", \"Arizona\", \"California\", \"Colorado\", \"Connecticut\", \"Delaware\", \"Florida\", \"Georgia\", \"Iowa\", \"Idaho\", \"Illinois\", \"Indiana\", \"Kansas\", \"Kentucky\", \"Massachusetts\", \"Maine\", \"Michigan\", \"Minnesota\", \"Missouri\", \"Mississippi\", \"Montana\", \"North Carolina\", \"Nebraska\", \"New Hampshire\", \"New Jersey\", \"New Mexico\", \"Nevada\", \"New York\", \"Ohio\", \"Oklahoma\", \"Oregon\", \"Pennsylvania\", \"South Carolina\", \"South Dakota\", \"Tennessee\", \"Texas\", \"Utah\", \"Virginia\", \"Vermont\", \"Washington\", \"Wisconsin\", \"West Virginia\", \"Wyoming\"], \"legendgroup\": \"White\", \"marker\": {\"color\": \"#636efa\", \"size\": [490845, 3372343, 2369297, 5699435, 28404773, 4773687, 2904483, 662385, 15712770, 6270007, 2859772, 1543339, 9942950, 5673327, 2523284, 3900900, 5582256, 1261115, 7917942, 4674959, 5062290, 1777650, 919833, 7142858, 1684410, 1252746, 6470332, 1722879, 2174733, 13837239, 9599241, 2922493, 3519694, 10559623, 3345763, 729329, 5195387, 21901374, 2724698, 5882171, 592805, 5751619, 5045983, 1726430, 544435], \"sizemode\": \"area\", \"sizeref\": 9427.747107438017, \"symbol\": \"circle\"}, \"mode\": \"markers\", \"name\": \"White\", \"orientation\": \"v\", \"showlegend\": true, \"x\": [0.226006857, 0.107751339, 0.095983271, 0.130548688, 0.179258433, 0.137710917, 0.137918458, 0.16164355, 0.157201804, 0.10561139900000001, 0.100729792, 0.103376174, 0.164370965, 0.076699648, 0.114063675, 0.07354488, 0.150670582, 0.084267655, 0.10341351800000001, 0.141641094, 0.11940161099999999, 0.10296936599999999, 0.131038273, 0.125929006, 0.103715482, 0.12656309599999999, 0.16166760000000002, 0.136758166, 0.165379991, 0.205418431, 0.124167103, 0.106508404, 0.127760557, 0.121988689, 0.099220208, 0.09653194699999999, 0.1157984, 0.112240433, 0.097282815, 0.117332609, 0.146770812, 0.117575123, 0.133164844, 0.085503991, 0.160182724], \"xaxis\": \"x\", \"y\": [0.203730302, 0.32618271600000004, 0.168826449, 0.491276767, 0.211232105, 0.230429854, 0.137718141, 0.301939205, 0.165470506, 0.31897891, 0.17483911300000002, 0.38876747100000003, 0.060344264, 0.2115161, 0.35667804299999994, 0.30762131800000003, 0.089569522, 0.158589819, 0.138924988, 0.192515057, 0.256800776, 0.618794476, 0.434861546, 0.22399997300000002, 0.41557578, 0.319298565, 0.12364126, 0.522381432, 0.6437571879999999, 0.072268752, 0.187514825, 0.7869993190000001, 0.42617341200000003, 0.085230316, 0.328774035, 0.137112332, 0.288717664, 0.219164332, 0.367013152, 0.136004207, 0.168689535, 0.20863690699999998, 0.118906465, 0.40546098, 0.734706622], \"yaxis\": \"y\", \"type\": \"scatter\"}, {\"hovertemplate\": \"<b>%{hovertext}</b><br><br>Race=Asian<br>Year=2015<br>Funding/Population=%{x}<br>Death Rate (10^-5)=%{y}<br>Count=%{marker.size}<extra></extra>\", \"hovertext\": [\"California\", \"Colorado\", \"Florida\", \"Minnesota\", \"New York\", \"Ohio\", \"South Dakota\", \"Tennessee\", \"Texas\", \"Washington\"], \"ids\": [\"California\", \"Colorado\", \"Florida\", \"Minnesota\", \"New York\", \"Ohio\", \"South Dakota\", \"Tennessee\", \"Texas\", \"Washington\"], \"legendgroup\": \"Asian\", \"marker\": {\"color\": \"#EF553B\", \"size\": [5685743, 177346, 559565, 262511, 1670741, 249875, 11311, 115311, 1299892, 606044], \"sizemode\": \"area\", \"sizeref\": 9427.747107438017, \"symbol\": \"circle\"}, \"mode\": \"markers\", \"name\": \"Asian\", \"orientation\": \"v\", \"showlegend\": true, \"x\": [0.179258433, 0.137710917, 0.157201804, 0.141641094, 0.205418431, 0.124167103, 0.09653194699999999, 0.1157984, 0.112240433, 0.117575123], \"xaxis\": \"x\", \"y\": [0.228642061, 1.127738996, 0.35742049600000003, 0.38093641799999994, 0.059853682000000005, 0.40020009999999995, 8.840951286000001, 0.867219953, 0.23078840399999997, 0.330009042], \"yaxis\": \"y\", \"type\": \"scatter\"}, {\"hovertemplate\": \"<b>%{hovertext}</b><br><br>Race=Black<br>Year=2015<br>Funding/Population=%{x}<br>Death Rate (10^-5)=%{y}<br>Count=%{marker.size}<extra></extra>\", \"hovertext\": [\"Alabama\", \"Arkansas\", \"Arizona\", \"California\", \"Colorado\", \"District of Columbia\", \"Delaware\", \"Florida\", \"Georgia\", \"Hawaii\", \"Illinois\", \"Indiana\", \"Kentucky\", \"Massachusetts\", \"Michigan\", \"Minnesota\", \"Missouri\", \"Mississippi\", \"North Carolina\", \"Nebraska\", \"New Jersey\", \"Nevada\", \"New York\", \"Ohio\", \"Oklahoma\", \"Oregon\", \"Pennsylvania\", \"South Carolina\", \"Tennessee\", \"Texas\", \"Utah\", \"Virginia\", \"Wisconsin\", \"West Virginia\"], \"ids\": [\"Alabama\", \"Arkansas\", \"Arizona\", \"California\", \"Colorado\", \"District of Columbia\", \"Delaware\", \"Florida\", \"Georgia\", \"Hawaii\", \"Illinois\", \"Indiana\", \"Kentucky\", \"Massachusetts\", \"Michigan\", \"Minnesota\", \"Missouri\", \"Mississippi\", \"North Carolina\", \"Nebraska\", \"New Jersey\", \"Nevada\", \"New York\", \"Ohio\", \"Oklahoma\", \"Oregon\", \"Pennsylvania\", \"South Carolina\", \"Tennessee\", \"Texas\", \"Utah\", \"Virginia\", \"Wisconsin\", \"West Virginia\"], \"legendgroup\": \"Black\", \"marker\": {\"color\": \"#00cc96\", \"size\": [1297313, 466189, 328032, 2531244, 244464, 326784, 211750, 3403053, 3241925, 29752, 1889241, 635460, 363958, 576824, 1408695, 336891, 717333, 1124044, 2225220, 93989, 1319283, 268539, 3454601, 1481398, 302446, 83943, 1498205, 1351360, 1126417, 3438127, 39321, 1651274, 381794, 65462], \"sizemode\": \"area\", \"sizeref\": 9427.747107438017, \"symbol\": \"circle\"}, \"mode\": \"markers\", \"name\": \"Black\", \"orientation\": \"v\", \"showlegend\": true, \"x\": [0.107751339, 0.095983271, 0.130548688, 0.179258433, 0.137710917, 0.365231333, 0.16164355, 0.157201804, 0.10561139900000001, 0.135308508, 0.164370965, 0.076699648, 0.07354488, 0.150670582, 0.10341351800000001, 0.141641094, 0.11940161099999999, 0.10296936599999999, 0.125929006, 0.103715482, 0.16166760000000002, 0.165379991, 0.205418431, 0.124167103, 0.106508404, 0.127760557, 0.121988689, 0.099220208, 0.1157984, 0.112240433, 0.097282815, 0.117332609, 0.133164844, 0.085503991], \"xaxis\": \"x\", \"y\": [0.539576802, 0.21450527600000002, 0.304848307, 1.422225593, 2.045290922, 1.8360752059999998, 0.944510035, 0.999102864, 0.400996322, 3.36111858, 0.6881070229999999, 1.1015642209999998, 1.09902791, 0.346726211, 0.49691381, 0.890495739, 1.1152421540000002, 0.266893467, 0.35951501399999997, 2.127908585, 0.45479249, 1.117156167, 0.318415933, 1.012557058, 3.967650424, 1.191284562, 0.60071886, 0.665995738, 0.443885346, 0.668968889, 2.543170316, 0.787270919, 0.523842701, 3.055207601], \"yaxis\": \"y\", \"type\": \"scatter\"}, {\"hovertemplate\": \"<b>%{hovertext}</b><br><br>Race=Native American<br>Year=2015<br>Funding/Population=%{x}<br>Death Rate (10^-5)=%{y}<br>Count=%{marker.size}<extra></extra>\", \"hovertext\": [\"Alaska\", \"Arizona\", \"Colorado\", \"Minnesota\", \"North Dakota\", \"Oklahoma\", \"South Dakota\", \"Washington\", \"Wyoming\"], \"ids\": [\"Alaska\", \"Arizona\", \"Colorado\", \"Minnesota\", \"North Dakota\", \"Oklahoma\", \"South Dakota\", \"Washington\", \"Wyoming\"], \"legendgroup\": \"Native American\", \"marker\": {\"color\": \"#ab63fa\", \"size\": [112416, 364354, 86001, 73976, 41547, 360185, 77960, 137661, 15830], \"sizemode\": \"area\", \"sizeref\": 9427.747107438017, \"symbol\": \"circle\"}, \"mode\": \"markers\", \"name\": \"Native American\", \"orientation\": \"v\", \"showlegend\": true, \"x\": [0.226006857, 0.130548688, 0.137710917, 0.141641094, 0.106953385, 0.106508404, 0.09653194699999999, 0.117575123, 0.160182724], \"xaxis\": \"x\", \"y\": [1.7791061769999998, 0.548916713, 1.162777177, 1.35178977, 2.406912653, 0.27763510399999997, 1.282709082, 2.179266459, 6.317119394], \"yaxis\": \"y\", \"type\": \"scatter\"}, {\"hovertemplate\": \"<b>%{hovertext}</b><br><br>Race=Pacific Islander<br>Year=2015<br>Funding/Population=%{x}<br>Death Rate (10^-5)=%{y}<br>Count=%{marker.size}<extra></extra>\", \"hovertext\": [\"California\", \"Hawaii\", \"Washington\"], \"ids\": [\"California\", \"Hawaii\", \"Washington\"], \"legendgroup\": \"Pacific Islander\", \"marker\": {\"color\": \"#FFA15A\", \"size\": [193835, 145264, 52008], \"sizemode\": \"area\", \"sizeref\": 9427.747107438017, \"symbol\": \"circle\"}, \"mode\": \"markers\", \"name\": \"Pacific Islander\", \"orientation\": \"v\", \"showlegend\": true, \"x\": [0.179258433, 0.135308508, 0.117575123], \"xaxis\": \"x\", \"y\": [1.031805402, 0.6884018059999999, 1.922781111], \"yaxis\": \"y\", \"type\": \"scatter\"}], \"name\": \"2015\"}, {\"data\": [{\"hovertemplate\": \"<b>%{hovertext}</b><br><br>Race=White<br>Year=2016<br>Funding/Population=%{x}<br>Death Rate (10^-5)=%{y}<br>Count=%{marker.size}<extra></extra>\", \"hovertext\": [\"Alaska\", \"Alabama\", \"Arkansas\", \"Arizona\", \"California\", \"Colorado\", \"Connecticut\", \"Delaware\", \"Florida\", \"Georgia\", \"Iowa\", \"Idaho\", \"Illinois\", \"Indiana\", \"Kansas\", \"Kentucky\", \"Massachusetts\", \"Maine\", \"Michigan\", \"Minnesota\", \"Missouri\", \"Mississippi\", \"Montana\", \"North Carolina\", \"North Dakota\", \"Nebraska\", \"New Hampshire\", \"New Jersey\", \"New Mexico\", \"Nevada\", \"New York\", \"Ohio\", \"Oklahoma\", \"Oregon\", \"Pennsylvania\", \"South Carolina\", \"South Dakota\", \"Tennessee\", \"Texas\", \"Utah\", \"Virginia\", \"Vermont\", \"Washington\", \"Wisconsin\", \"West Virginia\", \"Wyoming\"], \"ids\": [\"Alaska\", \"Alabama\", \"Arkansas\", \"Arizona\", \"California\", \"Colorado\", \"Connecticut\", \"Delaware\", \"Florida\", \"Georgia\", \"Iowa\", \"Idaho\", \"Illinois\", \"Indiana\", \"Kansas\", \"Kentucky\", \"Massachusetts\", \"Maine\", \"Michigan\", \"Minnesota\", \"Missouri\", \"Mississippi\", \"Montana\", \"North Carolina\", \"North Dakota\", \"Nebraska\", \"New Hampshire\", \"New Jersey\", \"New Mexico\", \"Nevada\", \"New York\", \"Ohio\", \"Oklahoma\", \"Oregon\", \"Pennsylvania\", \"South Carolina\", \"South Dakota\", \"Tennessee\", \"Texas\", \"Utah\", \"Virginia\", \"Vermont\", \"Washington\", \"Wisconsin\", \"West Virginia\", \"Wyoming\"], \"legendgroup\": \"White\", \"marker\": {\"color\": \"#636efa\", \"size\": [490758, 3374106, 2372809, 5773622, 28484043, 4842319, 2886999, 665087, 16002588, 6305959, 2860458, 1569732, 9897625, 5678320, 2520984, 3903401, 5576223, 1261844, 7917934, 4685535, 5067791, 1773354, 927814, 7210675, 662681, 1690996, 1255396, 6447703, 1721226, 2197650, 13773337, 9583165, 2927248, 3571132, 10523295, 3393188, 733518, 5231842, 22172579, 2773420, 5893536, 590279, 5827356, 5045904, 1714557, 542675], \"sizemode\": \"area\", \"sizeref\": 9427.747107438017, \"symbol\": \"circle\"}, \"mode\": \"markers\", \"name\": \"White\", \"orientation\": \"v\", \"showlegend\": true, \"x\": [0.206889812, 0.10704851900000001, 0.09481561, 0.13609232300000002, 0.186778256, 0.137602353, 0.145477959, 0.155619586, 0.159068152, 0.107874955, 0.103645001, 0.10668404199999999, 0.16900837100000002, 0.07872965, 0.112886932, 0.071535276, 0.153595529, 0.09074396, 0.105061091, 0.143967484, 0.123175319, 0.1055463, 0.11782952599999999, 0.125495718, 0.108122055, 0.10783621800000001, 0.12223374699999999, 0.16526735, 0.136901993, 0.168630115, 0.21059131399999997, 0.131045925, 0.10889492699999999, 0.13401511300000002, 0.12201188800000001, 0.103994882, 0.097171235, 0.11350608599999999, 0.11483518699999999, 0.091112544, 0.117333337, 0.139099515, 0.11962038300000001, 0.13673601400000002, 0.08823043400000001, 0.166527013], \"xaxis\": \"x\", \"y\": [0.8150656740000001, 0.563112125, 0.547873849, 0.38104330299999994, 0.161493928, 0.392373984, 0.138552178, 0.15035626900000001, 0.24371058, 0.174438178, 0.06991887299999999, 0.254820568, 0.101034339, 0.176108426, 0.357003456, 0.43551764200000004, 0.089666428, 0.079249099, 0.11366601400000001, 0.19208052, 0.276254486, 0.281951601, 0.538901116, 0.263498216, 0.150902169, 0.35482047299999997, 0.159312281, 0.062037597, 0.40668686200000004, 0.227515755, 0.06534364200000001, 0.13565455699999998, 0.614912027, 0.42003488, 0.10452999699999999, 0.383120534, 0.40898791799999995, 0.34404708700000003, 0.18040301, 0.32450909, 0.135741938, 0.16941141399999998, 0.274567059, 0.23781665300000002, 0.641565139, 0.184272355], \"yaxis\": \"y\", \"type\": \"scatter\"}, {\"hovertemplate\": \"<b>%{hovertext}</b><br><br>Race=Asian<br>Year=2016<br>Funding/Population=%{x}<br>Death Rate (10^-5)=%{y}<br>Count=%{marker.size}<extra></extra>\", \"hovertext\": [\"California\", \"Florida\", \"Georgia\", \"Hawaii\", \"Minnesota\", \"Ohio\", \"Tennessee\", \"Texas\", \"Washington\"], \"ids\": [\"California\", \"Florida\", \"Georgia\", \"Hawaii\", \"Minnesota\", \"Ohio\", \"Tennessee\", \"Texas\", \"Washington\"], \"legendgroup\": \"Asian\", \"marker\": {\"color\": \"#EF553B\", \"size\": [5813827, 582342, 419915, 537694, 271552, 262775, 119174, 1362465, 634596], \"sizemode\": \"area\", \"sizeref\": 9427.747107438017, \"symbol\": \"circle\"}, \"mode\": \"markers\", \"name\": \"Asian\", \"orientation\": \"v\", \"showlegend\": true, \"x\": [0.186778256, 0.159068152, 0.107874955, 0.13362718199999998, 0.143967484, 0.131045925, 0.11350608599999999, 0.11483518699999999, 0.11962038300000001], \"xaxis\": \"x\", \"y\": [0.068801497, 0.343440796, 0.238143434, 0.18597938600000002, 0.36825359399999996, 0.7611074109999999, 0.839109202, 0.073396381, 0.157580571], \"yaxis\": \"y\", \"type\": \"scatter\"}, {\"hovertemplate\": \"<b>%{hovertext}</b><br><br>Race=Black<br>Year=2016<br>Funding/Population=%{x}<br>Death Rate (10^-5)=%{y}<br>Count=%{marker.size}<extra></extra>\", \"hovertext\": [\"Alabama\", \"Arkansas\", \"Arizona\", \"California\", \"Colorado\", \"Connecticut\", \"District of Columbia\", \"Florida\", \"Georgia\", \"Iowa\", \"Illinois\", \"Indiana\", \"Kansas\", \"Kentucky\", \"Massachusetts\", \"Michigan\", \"Minnesota\", \"Missouri\", \"Mississippi\", \"North Carolina\", \"Nebraska\", \"New Jersey\", \"Nevada\", \"New York\", \"Ohio\", \"Oklahoma\", \"Oregon\", \"Pennsylvania\", \"Rhode Island\", \"South Carolina\", \"Tennessee\", \"Texas\", \"Virginia\", \"Washington\", \"Wisconsin\", \"West Virginia\"], \"ids\": [\"Alabama\", \"Arkansas\", \"Arizona\", \"California\", \"Colorado\", \"Connecticut\", \"District of Columbia\", \"Florida\", \"Georgia\", \"Iowa\", \"Illinois\", \"Indiana\", \"Kansas\", \"Kentucky\", \"Massachusetts\", \"Michigan\", \"Minnesota\", \"Missouri\", \"Mississippi\", \"North Carolina\", \"Nebraska\", \"New Jersey\", \"Nevada\", \"New York\", \"Ohio\", \"Oklahoma\", \"Oregon\", \"Pennsylvania\", \"Rhode Island\", \"South Carolina\", \"Tennessee\", \"Texas\", \"Virginia\", \"Washington\", \"Wisconsin\", \"West Virginia\"], \"legendgroup\": \"Black\", \"marker\": {\"color\": \"#00cc96\", \"size\": [1301635, 469025, 340938, 2537131, 250138, 418863, 327757, 3472527, 3298868, 116268, 1879042, 642941, 179604, 367506, 589701, 1408599, 353124, 720019, 1126424, 2253930, 96223, 1323504, 280959, 3453356, 1493613, 304272, 87084, 1509100, 85140, 1361728, 1135529, 3519315, 1662906, 302803, 384254, 65227], \"sizemode\": \"area\", \"sizeref\": 9427.747107438017, \"symbol\": \"circle\"}, \"mode\": \"markers\", \"name\": \"Black\", \"orientation\": \"v\", \"showlegend\": true, \"x\": [0.10704851900000001, 0.09481561, 0.13609232300000002, 0.186778256, 0.137602353, 0.145477959, 0.360476036, 0.159068152, 0.107874955, 0.103645001, 0.16900837100000002, 0.07872965, 0.112886932, 0.071535276, 0.153595529, 0.105061091, 0.143967484, 0.123175319, 0.1055463, 0.125495718, 0.10783621800000001, 0.16526735, 0.168630115, 0.21059131399999997, 0.131045925, 0.10889492699999999, 0.13401511300000002, 0.12201188800000001, 0.173168866, 0.103994882, 0.11350608599999999, 0.11483518699999999, 0.117333337, 0.11962038300000001, 0.13673601400000002, 0.08823043400000001], \"xaxis\": \"x\", \"y\": [0.53778517, 0.639624753, 1.173233843, 0.985364965, 0.7995586440000001, 0.23874154600000003, 1.525520431, 0.547151973, 0.363761145, 2.580245639, 1.011153556, 0.777676334, 1.113560945, 0.544208802, 0.847887319, 0.496947676, 0.849559928, 1.111081791, 0.44388258799999997, 0.6655042529999999, 2.0785051390000002, 0.680013056, 0.7118476359999999, 0.318530728, 0.8034209659999999, 2.300573171, 1.148316568, 0.662646611, 1.174536058, 0.367180524, 0.264194045, 0.59670703, 0.5412212120000001, 1.320990875, 1.301222629, 1.533107456], \"yaxis\": \"y\", \"type\": \"scatter\"}, {\"hovertemplate\": \"<b>%{hovertext}</b><br><br>Race=Native American<br>Year=2016<br>Funding/Population=%{x}<br>Death Rate (10^-5)=%{y}<br>Count=%{marker.size}<extra></extra>\", \"hovertext\": [\"Alaska\", \"Arizona\", \"California\", \"North Carolina\", \"New Mexico\", \"Oklahoma\", \"Pennsylvania\", \"South Dakota\", \"Texas\", \"Vermont\", \"Washington\"], \"ids\": [\"Alaska\", \"Arizona\", \"California\", \"North Carolina\", \"New Mexico\", \"Oklahoma\", \"Pennsylvania\", \"South Dakota\", \"Texas\", \"Vermont\", \"Washington\"], \"legendgroup\": \"Native American\", \"marker\": {\"color\": \"#ab63fa\", \"size\": [113262, 370059, 641036, 159645, 226754, 364222, 47266, 78943, 279845, 2384, 140596], \"sizemode\": \"area\", \"sizeref\": 9427.747107438017, \"symbol\": \"circle\"}, \"mode\": \"markers\", \"name\": \"Native American\", \"orientation\": \"v\", \"showlegend\": true, \"x\": [0.206889812, 0.13609232300000002, 0.186778256, 0.125495718, 0.136901993, 0.10889492699999999, 0.12201188800000001, 0.097171235, 0.11483518699999999, 0.139099515, 0.11962038300000001], \"xaxis\": \"x\", \"y\": [2.648725963, 1.62136308, 0.155997479, 0.626389802, 0.44100655299999997, 0.549115649, 2.115685694, 3.800210278, 0.357340671, 41.94630872, 2.133773365], \"yaxis\": \"y\", \"type\": \"scatter\"}, {\"hovertemplate\": \"<b>%{hovertext}</b><br><br>Race=Pacific Islander<br>Year=2016<br>Funding/Population=%{x}<br>Death Rate (10^-5)=%{y}<br>Count=%{marker.size}<extra></extra>\", \"hovertext\": [\"California\", \"Hawaii\", \"North Carolina\"], \"ids\": [\"California\", \"Hawaii\", \"North Carolina\"], \"legendgroup\": \"Pacific Islander\", \"marker\": {\"color\": \"#FFA15A\", \"size\": [195842, 145112, 12231], \"sizemode\": \"area\", \"sizeref\": 9427.747107438017, \"symbol\": \"circle\"}, \"mode\": \"markers\", \"name\": \"Pacific Islander\", \"orientation\": \"v\", \"showlegend\": true, \"x\": [0.186778256, 0.13362718199999998, 0.125495718], \"xaxis\": \"x\", \"y\": [1.0212314009999999, 2.067368653, 8.175946366], \"yaxis\": \"y\", \"type\": \"scatter\"}], \"name\": \"2016\"}, {\"data\": [{\"hovertemplate\": \"<b>%{hovertext}</b><br><br>Race=White<br>Year=2017<br>Funding/Population=%{x}<br>Death Rate (10^-5)=%{y}<br>Count=%{marker.size}<extra></extra>\", \"hovertext\": [\"Alaska\", \"Alabama\", \"Arkansas\", \"Arizona\", \"California\", \"Colorado\", \"Connecticut\", \"District of Columbia\", \"Delaware\", \"Florida\", \"Georgia\", \"Hawaii\", \"Iowa\", \"Idaho\", \"Illinois\", \"Indiana\", \"Kansas\", \"Kentucky\", \"Massachusetts\", \"Maine\", \"Michigan\", \"Minnesota\", \"Missouri\", \"Mississippi\", \"Montana\", \"North Carolina\", \"New Hampshire\", \"New Jersey\", \"New Mexico\", \"Nevada\", \"New York\", \"Ohio\", \"Oklahoma\", \"Oregon\", \"Pennsylvania\", \"Rhode Island\", \"South Carolina\", \"South Dakota\", \"Tennessee\", \"Texas\", \"Utah\", \"Virginia\", \"Vermont\", \"Washington\", \"Wisconsin\", \"West Virginia\", \"Wyoming\"], \"ids\": [\"Alaska\", \"Alabama\", \"Arkansas\", \"Arizona\", \"California\", \"Colorado\", \"Connecticut\", \"District of Columbia\", \"Delaware\", \"Florida\", \"Georgia\", \"Hawaii\", \"Iowa\", \"Idaho\", \"Illinois\", \"Indiana\", \"Kansas\", \"Kentucky\", \"Massachusetts\", \"Maine\", \"Michigan\", \"Minnesota\", \"Missouri\", \"Mississippi\", \"Montana\", \"North Carolina\", \"New Hampshire\", \"New Jersey\", \"New Mexico\", \"Nevada\", \"New York\", \"Ohio\", \"Oklahoma\", \"Oregon\", \"Pennsylvania\", \"Rhode Island\", \"South Carolina\", \"South Dakota\", \"Tennessee\", \"Texas\", \"Utah\", \"Virginia\", \"Vermont\", \"Washington\", \"Wisconsin\", \"West Virginia\", \"Wyoming\"], \"legendgroup\": \"White\", \"marker\": {\"color\": \"#636efa\", \"size\": [486188, 3376527, 2377792, 5845558, 28518935, 4897864, 2872125, 313010, 668104, 16245729, 6335279, 368793, 2859774, 1600865, 9848285, 5683681, 2517528, 3907652, 5574621, 1263507, 7922472, 4700264, 5075415, 1770340, 936852, 7270828, 1259593, 6431527, 1718166, 2220937, 13706039, 9576538, 2923281, 3608387, 10495030, 888967, 3439656, 738898, 5273129, 22392582, 2820762, 5908557, 589668, 5895462, 5051222, 1700408, 537032], \"sizemode\": \"area\", \"sizeref\": 9427.747107438017, \"symbol\": \"circle\"}, \"mode\": \"markers\", \"name\": \"White\", \"orientation\": \"v\", \"showlegend\": true, \"x\": [0.20147504, 0.106767215, 0.09144969800000001, 0.142137512, 0.19593888199999998, 0.135307572, 0.134695411, 0.37531960799999997, 0.161577015, 0.165598035, 0.107364228, 0.138274912, 0.10515407, 0.10771998199999999, 0.16779415399999997, 0.082860952, 0.121047295, 0.075991172, 0.153742959, 0.09487800699999999, 0.10534835099999999, 0.14635542, 0.121189796, 0.104757864, 0.122422524, 0.127598201, 0.127136222, 0.16355645, 0.137709682, 0.174307203, 0.21619659100000002, 0.133650073, 0.104561105, 0.13512737800000002, 0.123412854, 0.175405582, 0.10665850699999999, 0.09828264699999999, 0.11902296400000001, 0.118331385, 0.10304127800000001, 0.12152857199999999, 0.142815696, 0.112998221, 0.13039614800000002, 0.089403522, 0.157855571], \"xaxis\": \"x\", \"y\": [0.8227270109999999, 0.473859679, 0.294390763, 0.307926121, 0.189347884, 0.34709007799999997, 0.10445227800000001, 0.319478611, 0.449031887, 0.209285776, 0.31569249, 0.271154821, 0.139871193, 0.249864917, 0.060924313, 0.21113078, 0.238329028, 0.40945304200000004, 0.053815318, 0.712303137, 0.075733938, 0.127652404, 0.374353624, 0.5083769220000001, 0.320221337, 0.15128950900000002, 0.23817217100000002, 0.031096814, 0.29100797, 0.360208326, 0.029184216000000002, 0.2401703, 0.649954623, 0.22170571, 0.142924794, 0.112490115, 0.203508723, 0.270673354, 0.417209592, 0.111644115, 0.10635424, 0.236944486, 0.16958695399999998, 0.288357384, 0.296957845, 0.529284736, 0.186208643], \"yaxis\": \"y\", \"type\": \"scatter\"}, {\"hovertemplate\": \"<b>%{hovertext}</b><br><br>Race=Asian<br>Year=2017<br>Funding/Population=%{x}<br>Death Rate (10^-5)=%{y}<br>Count=%{marker.size}<extra></extra>\", \"hovertext\": [\"Arkansas\", \"California\", \"Michigan\", \"Minnesota\", \"Oklahoma\", \"Pennsylvania\", \"Texas\", \"Washington\", \"Wisconsin\"], \"ids\": [\"Arkansas\", \"California\", \"Michigan\", \"Minnesota\", \"Oklahoma\", \"Pennsylvania\", \"Texas\", \"Washington\", \"Wisconsin\"], \"legendgroup\": \"Asian\", \"marker\": {\"color\": \"#EF553B\", \"size\": [49422, 5930737, 324044, 279329, 90351, 457270, 1420351, 667135, 170521], \"sizemode\": \"area\", \"sizeref\": 9427.747107438017, \"symbol\": \"circle\"}, \"mode\": \"markers\", \"name\": \"Asian\", \"orientation\": \"v\", \"showlegend\": true, \"x\": [0.09144969800000001, 0.19593888199999998, 0.10534835099999999, 0.14635542, 0.104561105, 0.123412854, 0.118331385, 0.112998221, 0.13039614800000002], \"xaxis\": \"x\", \"y\": [2.023390393, 0.050583932000000005, 0.308600067, 0.35800078, 1.106794612, 0.21868917699999998, 0.070405132, 0.149894699, 0.5864380339999999], \"yaxis\": \"y\", \"type\": \"scatter\"}, {\"hovertemplate\": \"<b>%{hovertext}</b><br><br>Race=Black<br>Year=2017<br>Funding/Population=%{x}<br>Death Rate (10^-5)=%{y}<br>Count=%{marker.size}<extra></extra>\", \"hovertext\": [\"Alaska\", \"Alabama\", \"Arkansas\", \"Arizona\", \"California\", \"Colorado\", \"Connecticut\", \"District of Columbia\", \"Delaware\", \"Florida\", \"Georgia\", \"Iowa\", \"Illinois\", \"Indiana\", \"Kansas\", \"Kentucky\", \"Massachusetts\", \"Maine\", \"Michigan\", \"Minnesota\", \"Missouri\", \"Mississippi\", \"North Carolina\", \"New Jersey\", \"Nevada\", \"New York\", \"Ohio\", \"Oklahoma\", \"Oregon\", \"Pennsylvania\", \"South Carolina\", \"Tennessee\", \"Texas\", \"Utah\", \"Virginia\", \"Washington\", \"Wisconsin\", \"West Virginia\"], \"ids\": [\"Alaska\", \"Alabama\", \"Arkansas\", \"Arizona\", \"California\", \"Colorado\", \"Connecticut\", \"District of Columbia\", \"Delaware\", \"Florida\", \"Georgia\", \"Iowa\", \"Illinois\", \"Indiana\", \"Kansas\", \"Kentucky\", \"Massachusetts\", \"Maine\", \"Michigan\", \"Minnesota\", \"Missouri\", \"Mississippi\", \"North Carolina\", \"New Jersey\", \"Nevada\", \"New York\", \"Ohio\", \"Oklahoma\", \"Oregon\", \"Pennsylvania\", \"South Carolina\", \"Tennessee\", \"Texas\", \"Utah\", \"Virginia\", \"Washington\", \"Wisconsin\", \"West Virginia\"], \"legendgroup\": \"Black\", \"marker\": {\"color\": \"#00cc96\", \"size\": [27739, 1305617, 470694, 352008, 2543564, 254236, 423337, 327813, 218390, 3538457, 3353318, 121427, 1867708, 650617, 178605, 372275, 603071, 21259, 1408914, 368596, 722085, 1128043, 2280761, 1327681, 294042, 3443385, 1505501, 305118, 89388, 1519909, 1370339, 1146784, 3595304, 43714, 1675859, 313179, 387433, 64904], \"sizemode\": \"area\", \"sizeref\": 9427.747107438017, \"symbol\": \"circle\"}, \"mode\": \"markers\", \"name\": \"Black\", \"orientation\": \"v\", \"showlegend\": true, \"x\": [0.20147504, 0.106767215, 0.09144969800000001, 0.142137512, 0.19593888199999998, 0.135307572, 0.134695411, 0.37531960799999997, 0.161577015, 0.165598035, 0.107364228, 0.10515407, 0.16779415399999997, 0.082860952, 0.121047295, 0.075991172, 0.153742959, 0.09487800699999999, 0.10534835099999999, 0.14635542, 0.121189796, 0.104757864, 0.127598201, 0.16355645, 0.174307203, 0.21619659100000002, 0.133650073, 0.104561105, 0.13512737800000002, 0.123412854, 0.10665850699999999, 0.11902296400000001, 0.118331385, 0.10304127800000001, 0.12152857199999999, 0.112998221, 0.13039614800000002, 0.089403522], \"xaxis\": \"x\", \"y\": [3.6050326260000003, 0.61273712, 1.062261257, 1.9885911680000001, 1.100817593, 0.7866706520000001, 0.236218426, 0.305051966, 1.831585695, 0.565218116, 0.417496939, 0.8235400690000001, 0.8031234, 1.075901798, 1.679684219, 0.268618629, 0.165817955, 4.703890117, 0.496836571, 0.542599486, 1.938829916, 0.62054372, 0.39460513399999997, 0.602554379, 1.360349882, 0.232329525, 0.7306537820000001, 0.983226162, 2.237436792, 0.526347301, 0.21892393100000002, 0.348801518, 0.556281193, 2.287596651, 0.477367129, 2.554449692, 1.806764008, 1.540737089], \"yaxis\": \"y\", \"type\": \"scatter\"}, {\"hovertemplate\": \"<b>%{hovertext}</b><br><br>Race=Native American<br>Year=2017<br>Funding/Population=%{x}<br>Death Rate (10^-5)=%{y}<br>Count=%{marker.size}<extra></extra>\", \"hovertext\": [\"Alaska\", \"California\", \"Colorado\", \"Minnesota\", \"Montana\", \"North Dakota\", \"Nebraska\", \"New Mexico\", \"Nevada\", \"Oklahoma\", \"South Dakota\", \"Washington\", \"Wisconsin\"], \"ids\": [\"Alaska\", \"California\", \"Colorado\", \"Minnesota\", \"Montana\", \"North Dakota\", \"Nebraska\", \"New Mexico\", \"Nevada\", \"Oklahoma\", \"South Dakota\", \"Washington\", \"Wisconsin\"], \"legendgroup\": \"Native American\", \"marker\": {\"color\": \"#ab63fa\", \"size\": [113738, 643442, 89590, 76089, 70563, 42067, 28674, 228502, 49586, 367825, 79702, 143721, 67079], \"sizemode\": \"area\", \"sizeref\": 9427.747107438017, \"symbol\": \"circle\"}, \"mode\": \"markers\", \"name\": \"Native American\", \"orientation\": \"v\", \"showlegend\": true, \"x\": [0.20147504, 0.19593888199999998, 0.135307572, 0.14635542, 0.122422524, 0.12551757, 0.106996484, 0.137709682, 0.174307203, 0.104561105, 0.09828264699999999, 0.112998221, 0.13039614800000002], \"xaxis\": \"x\", \"y\": [1.7584272630000002, 0.310828326, 3.348588012, 1.314250417, 4.2515199180000005, 7.131480732999999, 3.4874799469999997, 0.437632931, 2.016698262, 1.087473663, 1.254673659, 2.087377627, 4.472338586], \"yaxis\": \"y\", \"type\": \"scatter\"}, {\"hovertemplate\": \"<b>%{hovertext}</b><br><br>Race=Pacific Islander<br>Year=2017<br>Funding/Population=%{x}<br>Death Rate (10^-5)=%{y}<br>Count=%{marker.size}<extra></extra>\", \"hovertext\": [\"California\", \"Hawaii\", \"Washington\"], \"ids\": [\"California\", \"Hawaii\", \"Washington\"], \"legendgroup\": \"Pacific Islander\", \"marker\": {\"color\": \"#FFA15A\", \"size\": [197581, 144728, 56430], \"sizemode\": \"area\", \"sizeref\": 9427.747107438017, \"symbol\": \"circle\"}, \"mode\": \"markers\", \"name\": \"Pacific Islander\", \"orientation\": \"v\", \"showlegend\": true, \"x\": [0.19593888199999998, 0.138274912, 0.112998221], \"xaxis\": \"x\", \"y\": [1.01224308, 2.072853905, 1.772107035], \"yaxis\": \"y\", \"type\": \"scatter\"}], \"name\": \"2017\"}, {\"data\": [{\"hovertemplate\": \"<b>%{hovertext}</b><br><br>Race=White<br>Year=2018<br>Funding/Population=%{x}<br>Death Rate (10^-5)=%{y}<br>Count=%{marker.size}<extra></extra>\", \"hovertext\": [\"Alaska\", \"Alabama\", \"Arkansas\", \"Arizona\", \"California\", \"Colorado\", \"Connecticut\", \"Florida\", \"Georgia\", \"Hawaii\", \"Iowa\", \"Idaho\", \"Illinois\", \"Indiana\", \"Kansas\", \"Kentucky\", \"Massachusetts\", \"Maine\", \"Michigan\", \"Minnesota\", \"Missouri\", \"Mississippi\", \"Montana\", \"North Carolina\", \"North Dakota\", \"New Hampshire\", \"New Jersey\", \"New Mexico\", \"Nevada\", \"New York\", \"Ohio\", \"Oklahoma\", \"Oregon\", \"Pennsylvania\", \"South Carolina\", \"South Dakota\", \"Tennessee\", \"Texas\", \"Utah\", \"Virginia\", \"Vermont\", \"Washington\", \"Wisconsin\", \"West Virginia\", \"Wyoming\"], \"ids\": [\"Alaska\", \"Alabama\", \"Arkansas\", \"Arizona\", \"California\", \"Colorado\", \"Connecticut\", \"Florida\", \"Georgia\", \"Hawaii\", \"Iowa\", \"Idaho\", \"Illinois\", \"Indiana\", \"Kansas\", \"Kentucky\", \"Massachusetts\", \"Maine\", \"Michigan\", \"Minnesota\", \"Missouri\", \"Mississippi\", \"Montana\", \"North Carolina\", \"North Dakota\", \"New Hampshire\", \"New Jersey\", \"New Mexico\", \"Nevada\", \"New York\", \"Ohio\", \"Oklahoma\", \"Oregon\", \"Pennsylvania\", \"South Carolina\", \"South Dakota\", \"Tennessee\", \"Texas\", \"Utah\", \"Virginia\", \"Vermont\", \"Washington\", \"Wisconsin\", \"West Virginia\", \"Wyoming\"], \"legendgroup\": \"White\", \"marker\": {\"color\": \"#636efa\", \"size\": [481239, 3381642, 2381554, 5928410, 28497432, 4956931, 2859546, 16440418, 6361789, 365570, 2859067, 1630052, 9786941, 5696236, 2516174, 3910380, 5569881, 1266095, 7920697, 4713995, 5080690, 1762445, 943749, 7336997, 660720, 1262037, 6412643, 1716439, 2251090, 13634357, 9564938, 2922715, 3632626, 10475329, 3485105, 743263, 5315688, 22586138, 2863101, 5916393, 589147, 5940550, 5060128, 1687369, 534974], \"sizemode\": \"area\", \"sizeref\": 9427.747107438017, \"symbol\": \"circle\"}, \"mode\": \"markers\", \"name\": \"White\", \"orientation\": \"v\", \"showlegend\": true, \"x\": [0.230377217, 0.106935219, 0.092081927, 0.13325915800000002, 0.201672022, 0.13434913099999998, 0.136679079, 0.166412917, 0.106615943, 0.136572899, 0.106183975, 0.10422915099999999, 0.17625748100000002, 0.088811235, 0.119340802, 0.077491187, 0.156579802, 0.092483913, 0.107339907, 0.157254705, 0.12348398099999999, 0.10450574900000001, 0.123187092, 0.128706736, 0.11752151, 0.130618512, 0.158726465, 0.13625507, 0.17865286600000002, 0.220005459, 0.135442536, 0.106312928, 0.136129687, 0.12520736699999999, 0.104635495, 0.099215844, 0.122197729, 0.116304919, 0.104171792, 0.120248185, 0.147574958, 0.11698483400000001, 0.130528884, 0.088949591, 0.15341528599999998], \"xaxis\": \"x\", \"y\": [0.623390872, 0.29571433, 0.545862072, 0.438566159, 0.11579990800000001, 0.463996775, 0.034970586, 0.25546795699999997, 0.330095827, 0.273545422, 0.27981156100000004, 0.613477361, 0.081741578, 0.210665429, 0.158971518, 0.38359443299999996, 0.07181482, 0.157966029, 0.126251515, 0.14849400599999998, 0.21650602600000002, 0.340436155, 0.529801886, 0.218072871, 0.60540017, 0.158473959, 0.077970971, 0.233040615, 0.310960468, 0.044006475999999996, 0.230006718, 0.786939541, 0.385396129, 0.133647354, 0.22954832100000003, 0.269083756, 0.282183604, 0.12396984400000001, 0.314344482, 0.101413141, 0.339473849, 0.235668415, 0.118574076, 0.23705544, 0.5607749160000001], \"yaxis\": \"y\", \"type\": \"scatter\"}, {\"hovertemplate\": \"<b>%{hovertext}</b><br><br>Race=Asian<br>Year=2018<br>Funding/Population=%{x}<br>Death Rate (10^-5)=%{y}<br>Count=%{marker.size}<extra></extra>\", \"hovertext\": [\"California\", \"Colorado\", \"Hawaii\", \"Kentucky\", \"Michigan\", \"Oklahoma\", \"South Carolina\", \"Texas\", \"Wisconsin\"], \"ids\": [\"California\", \"Colorado\", \"Hawaii\", \"Kentucky\", \"Michigan\", \"Oklahoma\", \"South Carolina\", \"Texas\", \"Wisconsin\"], \"legendgroup\": \"Asian\", \"marker\": {\"color\": \"#EF553B\", \"size\": [6021008, 196679, 533488, 70374, 331021, 92013, 89707, 1464438, 172742], \"sizemode\": \"area\", \"sizeref\": 9427.747107438017, \"symbol\": \"circle\"}, \"mode\": \"markers\", \"name\": \"Asian\", \"orientation\": \"v\", \"showlegend\": true, \"x\": [0.201672022, 0.13434913099999998, 0.136572899, 0.077491187, 0.107339907, 0.106312928, 0.104635495, 0.116304919, 0.130528884], \"xaxis\": \"x\", \"y\": [0.066434059, 1.0168853820000001, 0.18744564100000002, 1.420979339, 0.302095637, 1.086802952, 1.11474021, 0.068285581, 0.57889801], \"yaxis\": \"y\", \"type\": \"scatter\"}, {\"hovertemplate\": \"<b>%{hovertext}</b><br><br>Race=Black<br>Year=2018<br>Funding/Population=%{x}<br>Death Rate (10^-5)=%{y}<br>Count=%{marker.size}<extra></extra>\", \"hovertext\": [\"Alaska\", \"Alabama\", \"Arkansas\", \"Arizona\", \"California\", \"Colorado\", \"District of Columbia\", \"Delaware\", \"Florida\", \"Georgia\", \"Iowa\", \"Idaho\", \"Illinois\", \"Indiana\", \"Kansas\", \"Kentucky\", \"Michigan\", \"Minnesota\", \"Missouri\", \"Mississippi\", \"North Carolina\", \"Nebraska\", \"New Jersey\", \"New Mexico\", \"Nevada\", \"New York\", \"Ohio\", \"Oklahoma\", \"Oregon\", \"Pennsylvania\", \"Rhode Island\", \"South Carolina\", \"Tennessee\", \"Texas\", \"Utah\", \"Virginia\", \"Wisconsin\", \"West Virginia\"], \"ids\": [\"Alaska\", \"Alabama\", \"Arkansas\", \"Arizona\", \"California\", \"Colorado\", \"District of Columbia\", \"Delaware\", \"Florida\", \"Georgia\", \"Iowa\", \"Idaho\", \"Illinois\", \"Indiana\", \"Kansas\", \"Kentucky\", \"Michigan\", \"Minnesota\", \"Missouri\", \"Mississippi\", \"North Carolina\", \"Nebraska\", \"New Jersey\", \"New Mexico\", \"Nevada\", \"New York\", \"Ohio\", \"Oklahoma\", \"Oregon\", \"Pennsylvania\", \"Rhode Island\", \"South Carolina\", \"Tennessee\", \"Texas\", \"Utah\", \"Virginia\", \"Wisconsin\", \"West Virginia\"], \"legendgroup\": \"Black\", \"marker\": {\"color\": \"#00cc96\", \"size\": [27652, 1309574, 471988, 364149, 2547988, 259806, 327219, 221874, 3589957, 3404951, 125033, 15782, 1858642, 660576, 178539, 375075, 1408262, 382612, 723809, 1126849, 2306627, 99264, 1331146, 53661, 305994, 3432310, 1516653, 306154, 91642, 1531273, 88378, 1378890, 1156454, 3665172, 45473, 1686884, 389652, 64776], \"sizemode\": \"area\", \"sizeref\": 9427.747107438017, \"symbol\": \"circle\"}, \"mode\": \"markers\", \"name\": \"Black\", \"orientation\": \"v\", \"showlegend\": true, \"x\": [0.230377217, 0.106935219, 0.092081927, 0.13325915800000002, 0.201672022, 0.13434913099999998, 0.35639022299999995, 0.151960166, 0.166412917, 0.106615943, 0.106183975, 0.10422915099999999, 0.17625748100000002, 0.088811235, 0.119340802, 0.077491187, 0.107339907, 0.157254705, 0.12348398099999999, 0.10450574900000001, 0.128706736, 0.10862498699999999, 0.158726465, 0.13625507, 0.17865286600000002, 0.220005459, 0.135442536, 0.106312928, 0.136129687, 0.12520736699999999, 0.179215825, 0.104635495, 0.122197729, 0.116304919, 0.104171792, 0.120248185, 0.130528884, 0.088949591], \"xaxis\": \"x\", \"y\": [3.616374946, 0.229082129, 1.4830885530000002, 1.3730643230000001, 0.7849330529999999, 1.154707743, 0.305605726, 0.45070625700000005, 0.640676198, 0.67548696, 0.7997888559999999, 6.336332531, 0.591829949, 0.605532142, 1.120203429, 0.799840032, 0.42605708299999995, 0.522722758, 1.243421952, 0.443715174, 0.433533467, 1.007414571, 0.525862678, 1.86355081, 1.307215174, 0.203944282, 0.593411941, 1.95979801, 3.2736081710000002, 0.653051415, 1.131503315, 0.29008840399999997, 0.864712302, 0.518393134, 6.597321487, 0.711370788, 0.769917773, 4.631344943], \"yaxis\": \"y\", \"type\": \"scatter\"}, {\"hovertemplate\": \"<b>%{hovertext}</b><br><br>Race=Native American<br>Year=2018<br>Funding/Population=%{x}<br>Death Rate (10^-5)=%{y}<br>Count=%{marker.size}<extra></extra>\", \"hovertext\": [\"Alaska\", \"Arizona\", \"Colorado\", \"Idaho\", \"Kentucky\", \"Minnesota\", \"Montana\", \"New Mexico\", \"Nevada\", \"Oklahoma\", \"Utah\", \"Wisconsin\"], \"ids\": [\"Alaska\", \"Arizona\", \"Colorado\", \"Idaho\", \"Kentucky\", \"Minnesota\", \"Montana\", \"New Mexico\", \"Nevada\", \"Oklahoma\", \"Utah\", \"Wisconsin\"], \"legendgroup\": \"Native American\", \"marker\": {\"color\": \"#ab63fa\", \"size\": [114006, 380930, 91444, 30517, 13330, 76983, 70876, 228967, 50847, 369808, 48665, 67794], \"sizemode\": \"area\", \"sizeref\": 9427.747107438017, \"symbol\": \"circle\"}, \"mode\": \"markers\", \"name\": \"Native American\", \"orientation\": \"v\", \"showlegend\": true, \"x\": [0.230377217, 0.13325915800000002, 0.13434913099999998, 0.10422915099999999, 0.077491187, 0.157254705, 0.123187092, 0.13625507, 0.17865286600000002, 0.106312928, 0.104171792, 0.130528884], \"xaxis\": \"x\", \"y\": [3.508587267, 0.7875462679999999, 1.0935654609999998, 3.276862077, 7.501875469, 2.597976177, 1.410914837, 0.43674416, 1.9666843669999998, 0.5408211829999999, 4.109729785, 2.950113579], \"yaxis\": \"y\", \"type\": \"scatter\"}, {\"hovertemplate\": \"<b>%{hovertext}</b><br><br>Race=Pacific Islander<br>Year=2018<br>Funding/Population=%{x}<br>Death Rate (10^-5)=%{y}<br>Count=%{marker.size}<extra></extra>\", \"hovertext\": [\"Hawaii\", \"Michigan\", \"Missouri\", \"Washington\"], \"ids\": [\"Hawaii\", \"Michigan\", \"Missouri\", \"Washington\"], \"legendgroup\": \"Pacific Islander\", \"marker\": {\"color\": \"#FFA15A\", \"size\": [144182, 4089, 9429, 58421], \"sizemode\": \"area\", \"sizeref\": 9427.747107438017, \"symbol\": \"circle\"}, \"mode\": \"markers\", \"name\": \"Pacific Islander\", \"orientation\": \"v\", \"showlegend\": true, \"x\": [0.136572899, 0.107339907, 0.12348398099999999, 0.11698483400000001], \"xaxis\": \"x\", \"y\": [4.854974962, 24.45585718, 10.60557853, 1.711713254], \"yaxis\": \"y\", \"type\": \"scatter\"}], \"name\": \"2018\"}]);\n",
       "                        }).then(function(){\n",
       "                            \n",
       "var gd = document.getElementById('c7a9ddd2-fce2-45b9-8520-6c46d650d77e');\n",
       "var x = new MutationObserver(function (mutations, observer) {{\n",
       "        var display = window.getComputedStyle(gd).display;\n",
       "        if (!display || display === 'none') {{\n",
       "            console.log([gd, 'removed!']);\n",
       "            Plotly.purge(gd);\n",
       "            observer.disconnect();\n",
       "        }}\n",
       "}});\n",
       "\n",
       "// Listen for the removal of the full notebook cells\n",
       "var notebookContainer = gd.closest('#notebook-container');\n",
       "if (notebookContainer) {{\n",
       "    x.observe(notebookContainer, {childList: true});\n",
       "}}\n",
       "\n",
       "// Listen for the clearing of the current output cell\n",
       "var outputEl = gd.closest('.output');\n",
       "if (outputEl) {{\n",
       "    x.observe(outputEl, {childList: true});\n",
       "}}\n",
       "\n",
       "                        })                };                });            </script>        </div>"
      ]
     },
     "metadata": {},
     "output_type": "display_data"
    }
   ],
   "source": [
    "import plotly.express as px\n",
    "import pandas as pd\n",
    "from IPython.display import display, HTML\n",
    "df = pd.read_csv(\"testing.csv\")\n",
    "# df2 = pd.read_csv(\"races.csv\")\n",
    "# df=pd.merge(df1,df2,how='right',on=['State','Year','Race'])\n",
    "# display(df)\n",
    "# df.to_csv(r'testing.csv', index = False)\n",
    "px.scatter(df, x=\"Funding/Population\", y=\"Death Rate (10^-5)\", animation_frame=\"Year\", animation_group=\"State\",\n",
    "           log_y=True,size=\"Count\", color=\"Race\", hover_name=\"State\", size_max=55, range_x=[0.06,.4], range_y=[0.01,12]).update_layout(transition = {'duration': 4000})"
   ]
  },
  {
   "cell_type": "code",
   "execution_count": 16,
   "metadata": {},
   "outputs": [
    {
     "data": {
      "application/vnd.plotly.v1+json": {
       "config": {
        "plotlyServerURL": "https://plot.ly"
       },
       "data": [
        {
         "mode": "lines",
         "name": "lines",
         "type": "scatter",
         "x": [
          2013,
          2013,
          2013,
          2013,
          2013,
          2013,
          2013,
          2013,
          2013,
          2013,
          2013,
          2013,
          2013,
          2013,
          2013,
          2013,
          2013,
          2013,
          2013,
          2013,
          2013,
          2013,
          2013,
          2013,
          2013,
          2013,
          2013,
          2013,
          2013,
          2013,
          2013,
          2013,
          2013,
          2013,
          2013,
          2013,
          2013,
          2013,
          2013,
          2013,
          2013,
          2013,
          2013,
          2013,
          2013,
          2013,
          2013,
          2013,
          2013,
          2013,
          2013,
          2013,
          2013,
          2013,
          2013,
          2013,
          2013,
          2013,
          2013,
          2013,
          2013,
          2013,
          2013,
          2013,
          2013,
          2013,
          2013,
          2013,
          2013,
          2013,
          2013,
          2013,
          2013,
          2013,
          2013,
          2013,
          2013,
          2013,
          2013,
          2013,
          2013,
          2013,
          2013,
          2013,
          2013,
          2013,
          2013,
          2013,
          2013,
          2013,
          2013,
          2013,
          2013,
          2013,
          2013,
          2013,
          2014,
          2014,
          2014,
          2014,
          2014,
          2014,
          2014,
          2014,
          2014,
          2014,
          2014,
          2014,
          2014,
          2014,
          2014,
          2014,
          2014,
          2014,
          2014,
          2014,
          2014,
          2014,
          2014,
          2014,
          2014,
          2014,
          2014,
          2014,
          2014,
          2014,
          2014,
          2014,
          2014,
          2014,
          2014,
          2014,
          2014,
          2014,
          2014,
          2014,
          2014,
          2014,
          2014,
          2014,
          2014,
          2014,
          2014,
          2014,
          2014,
          2014,
          2014,
          2014,
          2014,
          2014,
          2014,
          2014,
          2014,
          2014,
          2014,
          2014,
          2014,
          2014,
          2014,
          2014,
          2014,
          2014,
          2014,
          2014,
          2014,
          2014,
          2014,
          2014,
          2014,
          2014,
          2014,
          2014,
          2014,
          2014,
          2014,
          2014,
          2014,
          2014,
          2014,
          2014,
          2014,
          2014,
          2014,
          2014,
          2014,
          2014,
          2014,
          2014,
          2014,
          2014,
          2014,
          2014,
          2014,
          2014,
          2014,
          2014,
          2014,
          2014,
          2014,
          2015,
          2015,
          2015,
          2015,
          2015,
          2015,
          2015,
          2015,
          2015,
          2015,
          2015,
          2015,
          2015,
          2015,
          2015,
          2015,
          2015,
          2015,
          2015,
          2015,
          2015,
          2015,
          2015,
          2015,
          2015,
          2015,
          2015,
          2015,
          2015,
          2015,
          2015,
          2015,
          2015,
          2015,
          2015,
          2015,
          2015,
          2015,
          2015,
          2015,
          2015,
          2015,
          2015,
          2015,
          2015,
          2015,
          2015,
          2015,
          2015,
          2015,
          2015,
          2015,
          2015,
          2015,
          2015,
          2015,
          2015,
          2015,
          2015,
          2015,
          2015,
          2015,
          2015,
          2015,
          2015,
          2015,
          2015,
          2015,
          2015,
          2015,
          2015,
          2015,
          2015,
          2015,
          2015,
          2015,
          2015,
          2015,
          2015,
          2015,
          2015,
          2015,
          2015,
          2015,
          2015,
          2015,
          2015,
          2015,
          2015,
          2015,
          2015,
          2015,
          2015,
          2015,
          2015,
          2015,
          2015,
          2015,
          2015,
          2015,
          2015,
          2016,
          2016,
          2016,
          2016,
          2016,
          2016,
          2016,
          2016,
          2016,
          2016,
          2016,
          2016,
          2016,
          2016,
          2016,
          2016,
          2016,
          2016,
          2016,
          2016,
          2016,
          2016,
          2016,
          2016,
          2016,
          2016,
          2016,
          2016,
          2016,
          2016,
          2016,
          2016,
          2016,
          2016,
          2016,
          2016,
          2016,
          2016,
          2016,
          2016,
          2016,
          2016,
          2016,
          2016,
          2016,
          2016,
          2016,
          2016,
          2016,
          2016,
          2016,
          2016,
          2016,
          2016,
          2016,
          2016,
          2016,
          2016,
          2016,
          2016,
          2016,
          2016,
          2016,
          2016,
          2016,
          2016,
          2016,
          2016,
          2016,
          2016,
          2016,
          2016,
          2016,
          2016,
          2016,
          2016,
          2016,
          2016,
          2016,
          2016,
          2016,
          2016,
          2016,
          2016,
          2016,
          2016,
          2016,
          2016,
          2016,
          2016,
          2016,
          2016,
          2016,
          2016,
          2016,
          2016,
          2016,
          2016,
          2016,
          2016,
          2016,
          2016,
          2016,
          2016,
          2016,
          2017,
          2017,
          2017,
          2017,
          2017,
          2017,
          2017,
          2017,
          2017,
          2017,
          2017,
          2017,
          2017,
          2017,
          2017,
          2017,
          2017,
          2017,
          2017,
          2017,
          2017,
          2017,
          2017,
          2017,
          2017,
          2017,
          2017,
          2017,
          2017,
          2017,
          2017,
          2017,
          2017,
          2017,
          2017,
          2017,
          2017,
          2017,
          2017,
          2017,
          2017,
          2017,
          2017,
          2017,
          2017,
          2017,
          2017,
          2017,
          2017,
          2017,
          2017,
          2017,
          2017,
          2017,
          2017,
          2017,
          2017,
          2017,
          2017,
          2017,
          2017,
          2017,
          2017,
          2017,
          2017,
          2017,
          2017,
          2017,
          2017,
          2017,
          2017,
          2017,
          2017,
          2017,
          2017,
          2017,
          2017,
          2017,
          2017,
          2017,
          2017,
          2017,
          2017,
          2017,
          2017,
          2017,
          2017,
          2017,
          2017,
          2017,
          2017,
          2017,
          2017,
          2017,
          2017,
          2017,
          2017,
          2017,
          2017,
          2017,
          2017,
          2017,
          2017,
          2017,
          2017,
          2017,
          2017,
          2017,
          2017,
          2017,
          2018,
          2018,
          2018,
          2018,
          2018,
          2018,
          2018,
          2018,
          2018,
          2018,
          2018,
          2018,
          2018,
          2018,
          2018,
          2018,
          2018,
          2018,
          2018,
          2018,
          2018,
          2018,
          2018,
          2018,
          2018,
          2018,
          2018,
          2018,
          2018,
          2018,
          2018,
          2018,
          2018,
          2018,
          2018,
          2018,
          2018,
          2018,
          2018,
          2018,
          2018,
          2018,
          2018,
          2018,
          2018,
          2018,
          2018,
          2018,
          2018,
          2018,
          2018,
          2018,
          2018,
          2018,
          2018,
          2018,
          2018,
          2018,
          2018,
          2018,
          2018,
          2018,
          2018,
          2018,
          2018,
          2018,
          2018,
          2018,
          2018,
          2018,
          2018,
          2018,
          2018,
          2018,
          2018,
          2018,
          2018,
          2018,
          2018,
          2018,
          2018,
          2018,
          2018,
          2018,
          2018,
          2018,
          2018,
          2018,
          2018,
          2018,
          2018,
          2018,
          2018,
          2018,
          2018,
          2018,
          2018,
          2018,
          2018,
          2018,
          2018,
          2018,
          2018,
          2018,
          2018,
          2018,
          2018,
          2018
         ],
         "y": [
          0.21845995899999998,
          0.103387823,
          0.103387823,
          0.103387823,
          0.09287989199999999,
          0.09287989199999999,
          0.132248169,
          0.132248169,
          0.132248169,
          0.16931080399999998,
          0.16931080399999998,
          0.16931080399999998,
          0.13329386599999998,
          0.13329386599999998,
          0.13382672,
          0.13382672,
          0.369341918,
          0.15210908,
          0.157194714,
          0.157194714,
          0.101546481,
          0.101546481,
          0.11720292800000001,
          0.11720292800000001,
          0.09592312800000001,
          0.10672568,
          0.16134607,
          0.16134607,
          0.076508615,
          0.076508615,
          0.11813072699999999,
          0.076789685,
          0.076789685,
          0.143944066,
          0.143944066,
          0.082996359,
          0.109861705,
          0.109861705,
          0.13129821,
          0.13129821,
          0.13129821,
          0.116107435,
          0.116107435,
          0.096741912,
          0.096741912,
          0.126222062,
          0.11960342199999999,
          0.11960342199999999,
          0.093257958,
          0.09769111300000001,
          0.09769111300000001,
          0.11822516400000001,
          0.166849834,
          0.166849834,
          0.166849834,
          0.133732069,
          0.133732069,
          0.16836970899999998,
          0.16836970899999998,
          0.16836970899999998,
          0.20363440600000002,
          0.20363440600000002,
          0.120096501,
          0.120096501,
          0.098763284,
          0.098763284,
          0.098763284,
          0.098763284,
          0.122710796,
          0.122710796,
          0.11130225199999999,
          0.11130225199999999,
          0.150265775,
          0.097602075,
          0.097602075,
          0.097602075,
          0.089230435,
          0.089230435,
          0.114208854,
          0.114208854,
          0.107959175,
          0.107959175,
          0.107959175,
          0.100424796,
          0.112220347,
          0.112220347,
          0.112220347,
          0.137768711,
          0.10805635300000001,
          0.10805635300000001,
          0.10805635300000001,
          0.135139705,
          0.135139705,
          0.083514894,
          0.083514894,
          0.161234404,
          0.213306363,
          0.213306363,
          0.101986941,
          0.101986941,
          0.09188676900000001,
          0.09188676900000001,
          0.12821359400000001,
          0.12821359400000001,
          0.17406292399999998,
          0.17406292399999998,
          0.17406292399999998,
          0.17406292399999998,
          0.17406292399999998,
          0.13914547300000002,
          0.13914547300000002,
          0.133613923,
          0.133613923,
          0.385619914,
          0.155444149,
          0.155444149,
          0.15415763300000002,
          0.15415763300000002,
          0.15415763300000002,
          0.100835563,
          0.100835563,
          0.134723688,
          0.09867081300000001,
          0.106746225,
          0.106746225,
          0.161767663,
          0.161767663,
          0.161767663,
          0.076967409,
          0.076967409,
          0.11014308199999999,
          0.11014308199999999,
          0.076738746,
          0.076738746,
          0.15986465,
          0.15986465,
          0.083433783,
          0.102006358,
          0.102006358,
          0.134883921,
          0.134883921,
          0.134883921,
          0.119135101,
          0.119135101,
          0.119135101,
          0.097919853,
          0.097919853,
          0.097919853,
          0.128364647,
          0.128364647,
          0.119918803,
          0.119918803,
          0.119918803,
          0.094454145,
          0.099768278,
          0.099768278,
          0.126358066,
          0.163675129,
          0.163675129,
          0.136912048,
          0.136912048,
          0.136912048,
          0.136912048,
          0.167038566,
          0.167038566,
          0.167038566,
          0.201765296,
          0.201765296,
          0.119385529,
          0.119385529,
          0.10805925300000001,
          0.10805925300000001,
          0.12594781800000002,
          0.11710347800000001,
          0.11710347800000001,
          0.158581114,
          0.09658534199999999,
          0.09658534199999999,
          0.090066928,
          0.090066928,
          0.115209009,
          0.115209009,
          0.109374001,
          0.109374001,
          0.109374001,
          0.103426321,
          0.103426321,
          0.103426321,
          0.113807584,
          0.113807584,
          0.114750108,
          0.114750108,
          0.114750108,
          0.129590191,
          0.129590191,
          0.129590191,
          0.083793275,
          0.083793275,
          0.15679949199999998,
          0.226006857,
          0.226006857,
          0.107751339,
          0.107751339,
          0.095983271,
          0.095983271,
          0.130548688,
          0.130548688,
          0.130548688,
          0.179258433,
          0.179258433,
          0.179258433,
          0.179258433,
          0.137710917,
          0.137710917,
          0.137710917,
          0.137710917,
          0.137918458,
          0.365231333,
          0.16164355,
          0.16164355,
          0.157201804,
          0.157201804,
          0.157201804,
          0.10561139900000001,
          0.10561139900000001,
          0.135308508,
          0.135308508,
          0.100729792,
          0.103376174,
          0.164370965,
          0.164370965,
          0.076699648,
          0.076699648,
          0.114063675,
          0.07354488,
          0.07354488,
          0.150670582,
          0.150670582,
          0.084267655,
          0.10341351800000001,
          0.10341351800000001,
          0.141641094,
          0.141641094,
          0.141641094,
          0.141641094,
          0.11940161099999999,
          0.11940161099999999,
          0.10296936599999999,
          0.10296936599999999,
          0.131038273,
          0.125929006,
          0.125929006,
          0.106953385,
          0.103715482,
          0.103715482,
          0.12656309599999999,
          0.16166760000000002,
          0.16166760000000002,
          0.136758166,
          0.165379991,
          0.165379991,
          0.205418431,
          0.205418431,
          0.205418431,
          0.124167103,
          0.124167103,
          0.124167103,
          0.106508404,
          0.106508404,
          0.106508404,
          0.127760557,
          0.127760557,
          0.121988689,
          0.121988689,
          0.099220208,
          0.099220208,
          0.09653194699999999,
          0.09653194699999999,
          0.09653194699999999,
          0.1157984,
          0.1157984,
          0.1157984,
          0.112240433,
          0.112240433,
          0.112240433,
          0.097282815,
          0.097282815,
          0.117332609,
          0.117332609,
          0.146770812,
          0.117575123,
          0.117575123,
          0.117575123,
          0.117575123,
          0.133164844,
          0.133164844,
          0.085503991,
          0.085503991,
          0.160182724,
          0.160182724,
          0.206889812,
          0.206889812,
          0.10704851900000001,
          0.10704851900000001,
          0.09481561,
          0.09481561,
          0.13609232300000002,
          0.13609232300000002,
          0.13609232300000002,
          0.186778256,
          0.186778256,
          0.186778256,
          0.186778256,
          0.186778256,
          0.137602353,
          0.137602353,
          0.145477959,
          0.145477959,
          0.360476036,
          0.155619586,
          0.159068152,
          0.159068152,
          0.159068152,
          0.107874955,
          0.107874955,
          0.107874955,
          0.13362718199999998,
          0.13362718199999998,
          0.103645001,
          0.103645001,
          0.10668404199999999,
          0.16900837100000002,
          0.16900837100000002,
          0.07872965,
          0.07872965,
          0.112886932,
          0.112886932,
          0.071535276,
          0.071535276,
          0.153595529,
          0.153595529,
          0.09074396,
          0.105061091,
          0.105061091,
          0.143967484,
          0.143967484,
          0.143967484,
          0.123175319,
          0.123175319,
          0.1055463,
          0.1055463,
          0.11782952599999999,
          0.125495718,
          0.125495718,
          0.125495718,
          0.125495718,
          0.108122055,
          0.10783621800000001,
          0.10783621800000001,
          0.12223374699999999,
          0.16526735,
          0.16526735,
          0.136901993,
          0.136901993,
          0.168630115,
          0.168630115,
          0.21059131399999997,
          0.21059131399999997,
          0.131045925,
          0.131045925,
          0.131045925,
          0.10889492699999999,
          0.10889492699999999,
          0.10889492699999999,
          0.13401511300000002,
          0.13401511300000002,
          0.12201188800000001,
          0.12201188800000001,
          0.12201188800000001,
          0.173168866,
          0.103994882,
          0.103994882,
          0.097171235,
          0.097171235,
          0.11350608599999999,
          0.11350608599999999,
          0.11350608599999999,
          0.11483518699999999,
          0.11483518699999999,
          0.11483518699999999,
          0.11483518699999999,
          0.091112544,
          0.117333337,
          0.117333337,
          0.139099515,
          0.139099515,
          0.11962038300000001,
          0.11962038300000001,
          0.11962038300000001,
          0.11962038300000001,
          0.13673601400000002,
          0.13673601400000002,
          0.08823043400000001,
          0.08823043400000001,
          0.166527013,
          0.20147504,
          0.20147504,
          0.20147504,
          0.106767215,
          0.106767215,
          0.09144969800000001,
          0.09144969800000001,
          0.09144969800000001,
          0.142137512,
          0.142137512,
          0.19593888199999998,
          0.19593888199999998,
          0.19593888199999998,
          0.19593888199999998,
          0.19593888199999998,
          0.135307572,
          0.135307572,
          0.135307572,
          0.134695411,
          0.134695411,
          0.37531960799999997,
          0.37531960799999997,
          0.161577015,
          0.161577015,
          0.165598035,
          0.165598035,
          0.107364228,
          0.107364228,
          0.138274912,
          0.138274912,
          0.10515407,
          0.10515407,
          0.10771998199999999,
          0.16779415399999997,
          0.16779415399999997,
          0.082860952,
          0.082860952,
          0.121047295,
          0.121047295,
          0.075991172,
          0.075991172,
          0.153742959,
          0.153742959,
          0.09487800699999999,
          0.09487800699999999,
          0.10534835099999999,
          0.10534835099999999,
          0.10534835099999999,
          0.14635542,
          0.14635542,
          0.14635542,
          0.14635542,
          0.121189796,
          0.121189796,
          0.104757864,
          0.104757864,
          0.122422524,
          0.122422524,
          0.127598201,
          0.127598201,
          0.12551757,
          0.106996484,
          0.127136222,
          0.16355645,
          0.16355645,
          0.137709682,
          0.137709682,
          0.174307203,
          0.174307203,
          0.174307203,
          0.21619659100000002,
          0.21619659100000002,
          0.133650073,
          0.133650073,
          0.104561105,
          0.104561105,
          0.104561105,
          0.104561105,
          0.13512737800000002,
          0.13512737800000002,
          0.123412854,
          0.123412854,
          0.123412854,
          0.175405582,
          0.10665850699999999,
          0.10665850699999999,
          0.09828264699999999,
          0.09828264699999999,
          0.11902296400000001,
          0.11902296400000001,
          0.118331385,
          0.118331385,
          0.118331385,
          0.10304127800000001,
          0.10304127800000001,
          0.12152857199999999,
          0.12152857199999999,
          0.142815696,
          0.112998221,
          0.112998221,
          0.112998221,
          0.112998221,
          0.112998221,
          0.13039614800000002,
          0.13039614800000002,
          0.13039614800000002,
          0.13039614800000002,
          0.089403522,
          0.089403522,
          0.157855571,
          0.230377217,
          0.230377217,
          0.230377217,
          0.106935219,
          0.106935219,
          0.092081927,
          0.092081927,
          0.13325915800000002,
          0.13325915800000002,
          0.13325915800000002,
          0.201672022,
          0.201672022,
          0.201672022,
          0.13434913099999998,
          0.13434913099999998,
          0.13434913099999998,
          0.13434913099999998,
          0.136679079,
          0.35639022299999995,
          0.151960166,
          0.166412917,
          0.166412917,
          0.106615943,
          0.106615943,
          0.136572899,
          0.136572899,
          0.136572899,
          0.106183975,
          0.106183975,
          0.10422915099999999,
          0.10422915099999999,
          0.10422915099999999,
          0.17625748100000002,
          0.17625748100000002,
          0.088811235,
          0.088811235,
          0.119340802,
          0.119340802,
          0.077491187,
          0.077491187,
          0.077491187,
          0.077491187,
          0.156579802,
          0.092483913,
          0.107339907,
          0.107339907,
          0.107339907,
          0.107339907,
          0.157254705,
          0.157254705,
          0.157254705,
          0.12348398099999999,
          0.12348398099999999,
          0.12348398099999999,
          0.10450574900000001,
          0.10450574900000001,
          0.123187092,
          0.123187092,
          0.128706736,
          0.128706736,
          0.11752151,
          0.10862498699999999,
          0.130618512,
          0.158726465,
          0.158726465,
          0.13625507,
          0.13625507,
          0.13625507,
          0.17865286600000002,
          0.17865286600000002,
          0.17865286600000002,
          0.220005459,
          0.220005459,
          0.135442536,
          0.135442536,
          0.106312928,
          0.106312928,
          0.106312928,
          0.106312928,
          0.136129687,
          0.136129687,
          0.12520736699999999,
          0.12520736699999999,
          0.179215825,
          0.104635495,
          0.104635495,
          0.104635495,
          0.099215844,
          0.122197729,
          0.122197729,
          0.116304919,
          0.116304919,
          0.116304919,
          0.104171792,
          0.104171792,
          0.104171792,
          0.120248185,
          0.120248185,
          0.147574958,
          0.11698483400000001,
          0.11698483400000001,
          0.130528884,
          0.130528884,
          0.130528884,
          0.130528884,
          0.088949591,
          0.088949591,
          0.15341528599999998
         ]
        }
       ],
       "layout": {
        "template": {
         "data": {
          "bar": [
           {
            "error_x": {
             "color": "#2a3f5f"
            },
            "error_y": {
             "color": "#2a3f5f"
            },
            "marker": {
             "line": {
              "color": "#E5ECF6",
              "width": 0.5
             }
            },
            "type": "bar"
           }
          ],
          "barpolar": [
           {
            "marker": {
             "line": {
              "color": "#E5ECF6",
              "width": 0.5
             }
            },
            "type": "barpolar"
           }
          ],
          "carpet": [
           {
            "aaxis": {
             "endlinecolor": "#2a3f5f",
             "gridcolor": "white",
             "linecolor": "white",
             "minorgridcolor": "white",
             "startlinecolor": "#2a3f5f"
            },
            "baxis": {
             "endlinecolor": "#2a3f5f",
             "gridcolor": "white",
             "linecolor": "white",
             "minorgridcolor": "white",
             "startlinecolor": "#2a3f5f"
            },
            "type": "carpet"
           }
          ],
          "choropleth": [
           {
            "colorbar": {
             "outlinewidth": 0,
             "ticks": ""
            },
            "type": "choropleth"
           }
          ],
          "contour": [
           {
            "colorbar": {
             "outlinewidth": 0,
             "ticks": ""
            },
            "colorscale": [
             [
              0,
              "#0d0887"
             ],
             [
              0.1111111111111111,
              "#46039f"
             ],
             [
              0.2222222222222222,
              "#7201a8"
             ],
             [
              0.3333333333333333,
              "#9c179e"
             ],
             [
              0.4444444444444444,
              "#bd3786"
             ],
             [
              0.5555555555555556,
              "#d8576b"
             ],
             [
              0.6666666666666666,
              "#ed7953"
             ],
             [
              0.7777777777777778,
              "#fb9f3a"
             ],
             [
              0.8888888888888888,
              "#fdca26"
             ],
             [
              1,
              "#f0f921"
             ]
            ],
            "type": "contour"
           }
          ],
          "contourcarpet": [
           {
            "colorbar": {
             "outlinewidth": 0,
             "ticks": ""
            },
            "type": "contourcarpet"
           }
          ],
          "heatmap": [
           {
            "colorbar": {
             "outlinewidth": 0,
             "ticks": ""
            },
            "colorscale": [
             [
              0,
              "#0d0887"
             ],
             [
              0.1111111111111111,
              "#46039f"
             ],
             [
              0.2222222222222222,
              "#7201a8"
             ],
             [
              0.3333333333333333,
              "#9c179e"
             ],
             [
              0.4444444444444444,
              "#bd3786"
             ],
             [
              0.5555555555555556,
              "#d8576b"
             ],
             [
              0.6666666666666666,
              "#ed7953"
             ],
             [
              0.7777777777777778,
              "#fb9f3a"
             ],
             [
              0.8888888888888888,
              "#fdca26"
             ],
             [
              1,
              "#f0f921"
             ]
            ],
            "type": "heatmap"
           }
          ],
          "heatmapgl": [
           {
            "colorbar": {
             "outlinewidth": 0,
             "ticks": ""
            },
            "colorscale": [
             [
              0,
              "#0d0887"
             ],
             [
              0.1111111111111111,
              "#46039f"
             ],
             [
              0.2222222222222222,
              "#7201a8"
             ],
             [
              0.3333333333333333,
              "#9c179e"
             ],
             [
              0.4444444444444444,
              "#bd3786"
             ],
             [
              0.5555555555555556,
              "#d8576b"
             ],
             [
              0.6666666666666666,
              "#ed7953"
             ],
             [
              0.7777777777777778,
              "#fb9f3a"
             ],
             [
              0.8888888888888888,
              "#fdca26"
             ],
             [
              1,
              "#f0f921"
             ]
            ],
            "type": "heatmapgl"
           }
          ],
          "histogram": [
           {
            "marker": {
             "colorbar": {
              "outlinewidth": 0,
              "ticks": ""
             }
            },
            "type": "histogram"
           }
          ],
          "histogram2d": [
           {
            "colorbar": {
             "outlinewidth": 0,
             "ticks": ""
            },
            "colorscale": [
             [
              0,
              "#0d0887"
             ],
             [
              0.1111111111111111,
              "#46039f"
             ],
             [
              0.2222222222222222,
              "#7201a8"
             ],
             [
              0.3333333333333333,
              "#9c179e"
             ],
             [
              0.4444444444444444,
              "#bd3786"
             ],
             [
              0.5555555555555556,
              "#d8576b"
             ],
             [
              0.6666666666666666,
              "#ed7953"
             ],
             [
              0.7777777777777778,
              "#fb9f3a"
             ],
             [
              0.8888888888888888,
              "#fdca26"
             ],
             [
              1,
              "#f0f921"
             ]
            ],
            "type": "histogram2d"
           }
          ],
          "histogram2dcontour": [
           {
            "colorbar": {
             "outlinewidth": 0,
             "ticks": ""
            },
            "colorscale": [
             [
              0,
              "#0d0887"
             ],
             [
              0.1111111111111111,
              "#46039f"
             ],
             [
              0.2222222222222222,
              "#7201a8"
             ],
             [
              0.3333333333333333,
              "#9c179e"
             ],
             [
              0.4444444444444444,
              "#bd3786"
             ],
             [
              0.5555555555555556,
              "#d8576b"
             ],
             [
              0.6666666666666666,
              "#ed7953"
             ],
             [
              0.7777777777777778,
              "#fb9f3a"
             ],
             [
              0.8888888888888888,
              "#fdca26"
             ],
             [
              1,
              "#f0f921"
             ]
            ],
            "type": "histogram2dcontour"
           }
          ],
          "mesh3d": [
           {
            "colorbar": {
             "outlinewidth": 0,
             "ticks": ""
            },
            "type": "mesh3d"
           }
          ],
          "parcoords": [
           {
            "line": {
             "colorbar": {
              "outlinewidth": 0,
              "ticks": ""
             }
            },
            "type": "parcoords"
           }
          ],
          "pie": [
           {
            "automargin": true,
            "type": "pie"
           }
          ],
          "scatter": [
           {
            "marker": {
             "colorbar": {
              "outlinewidth": 0,
              "ticks": ""
             }
            },
            "type": "scatter"
           }
          ],
          "scatter3d": [
           {
            "line": {
             "colorbar": {
              "outlinewidth": 0,
              "ticks": ""
             }
            },
            "marker": {
             "colorbar": {
              "outlinewidth": 0,
              "ticks": ""
             }
            },
            "type": "scatter3d"
           }
          ],
          "scattercarpet": [
           {
            "marker": {
             "colorbar": {
              "outlinewidth": 0,
              "ticks": ""
             }
            },
            "type": "scattercarpet"
           }
          ],
          "scattergeo": [
           {
            "marker": {
             "colorbar": {
              "outlinewidth": 0,
              "ticks": ""
             }
            },
            "type": "scattergeo"
           }
          ],
          "scattergl": [
           {
            "marker": {
             "colorbar": {
              "outlinewidth": 0,
              "ticks": ""
             }
            },
            "type": "scattergl"
           }
          ],
          "scattermapbox": [
           {
            "marker": {
             "colorbar": {
              "outlinewidth": 0,
              "ticks": ""
             }
            },
            "type": "scattermapbox"
           }
          ],
          "scatterpolar": [
           {
            "marker": {
             "colorbar": {
              "outlinewidth": 0,
              "ticks": ""
             }
            },
            "type": "scatterpolar"
           }
          ],
          "scatterpolargl": [
           {
            "marker": {
             "colorbar": {
              "outlinewidth": 0,
              "ticks": ""
             }
            },
            "type": "scatterpolargl"
           }
          ],
          "scatterternary": [
           {
            "marker": {
             "colorbar": {
              "outlinewidth": 0,
              "ticks": ""
             }
            },
            "type": "scatterternary"
           }
          ],
          "surface": [
           {
            "colorbar": {
             "outlinewidth": 0,
             "ticks": ""
            },
            "colorscale": [
             [
              0,
              "#0d0887"
             ],
             [
              0.1111111111111111,
              "#46039f"
             ],
             [
              0.2222222222222222,
              "#7201a8"
             ],
             [
              0.3333333333333333,
              "#9c179e"
             ],
             [
              0.4444444444444444,
              "#bd3786"
             ],
             [
              0.5555555555555556,
              "#d8576b"
             ],
             [
              0.6666666666666666,
              "#ed7953"
             ],
             [
              0.7777777777777778,
              "#fb9f3a"
             ],
             [
              0.8888888888888888,
              "#fdca26"
             ],
             [
              1,
              "#f0f921"
             ]
            ],
            "type": "surface"
           }
          ],
          "table": [
           {
            "cells": {
             "fill": {
              "color": "#EBF0F8"
             },
             "line": {
              "color": "white"
             }
            },
            "header": {
             "fill": {
              "color": "#C8D4E3"
             },
             "line": {
              "color": "white"
             }
            },
            "type": "table"
           }
          ]
         },
         "layout": {
          "annotationdefaults": {
           "arrowcolor": "#2a3f5f",
           "arrowhead": 0,
           "arrowwidth": 1
          },
          "coloraxis": {
           "colorbar": {
            "outlinewidth": 0,
            "ticks": ""
           }
          },
          "colorscale": {
           "diverging": [
            [
             0,
             "#8e0152"
            ],
            [
             0.1,
             "#c51b7d"
            ],
            [
             0.2,
             "#de77ae"
            ],
            [
             0.3,
             "#f1b6da"
            ],
            [
             0.4,
             "#fde0ef"
            ],
            [
             0.5,
             "#f7f7f7"
            ],
            [
             0.6,
             "#e6f5d0"
            ],
            [
             0.7,
             "#b8e186"
            ],
            [
             0.8,
             "#7fbc41"
            ],
            [
             0.9,
             "#4d9221"
            ],
            [
             1,
             "#276419"
            ]
           ],
           "sequential": [
            [
             0,
             "#0d0887"
            ],
            [
             0.1111111111111111,
             "#46039f"
            ],
            [
             0.2222222222222222,
             "#7201a8"
            ],
            [
             0.3333333333333333,
             "#9c179e"
            ],
            [
             0.4444444444444444,
             "#bd3786"
            ],
            [
             0.5555555555555556,
             "#d8576b"
            ],
            [
             0.6666666666666666,
             "#ed7953"
            ],
            [
             0.7777777777777778,
             "#fb9f3a"
            ],
            [
             0.8888888888888888,
             "#fdca26"
            ],
            [
             1,
             "#f0f921"
            ]
           ],
           "sequentialminus": [
            [
             0,
             "#0d0887"
            ],
            [
             0.1111111111111111,
             "#46039f"
            ],
            [
             0.2222222222222222,
             "#7201a8"
            ],
            [
             0.3333333333333333,
             "#9c179e"
            ],
            [
             0.4444444444444444,
             "#bd3786"
            ],
            [
             0.5555555555555556,
             "#d8576b"
            ],
            [
             0.6666666666666666,
             "#ed7953"
            ],
            [
             0.7777777777777778,
             "#fb9f3a"
            ],
            [
             0.8888888888888888,
             "#fdca26"
            ],
            [
             1,
             "#f0f921"
            ]
           ]
          },
          "colorway": [
           "#636efa",
           "#EF553B",
           "#00cc96",
           "#ab63fa",
           "#FFA15A",
           "#19d3f3",
           "#FF6692",
           "#B6E880",
           "#FF97FF",
           "#FECB52"
          ],
          "font": {
           "color": "#2a3f5f"
          },
          "geo": {
           "bgcolor": "white",
           "lakecolor": "white",
           "landcolor": "#E5ECF6",
           "showlakes": true,
           "showland": true,
           "subunitcolor": "white"
          },
          "hoverlabel": {
           "align": "left"
          },
          "hovermode": "closest",
          "mapbox": {
           "style": "light"
          },
          "paper_bgcolor": "white",
          "plot_bgcolor": "#E5ECF6",
          "polar": {
           "angularaxis": {
            "gridcolor": "white",
            "linecolor": "white",
            "ticks": ""
           },
           "bgcolor": "#E5ECF6",
           "radialaxis": {
            "gridcolor": "white",
            "linecolor": "white",
            "ticks": ""
           }
          },
          "scene": {
           "xaxis": {
            "backgroundcolor": "#E5ECF6",
            "gridcolor": "white",
            "gridwidth": 2,
            "linecolor": "white",
            "showbackground": true,
            "ticks": "",
            "zerolinecolor": "white"
           },
           "yaxis": {
            "backgroundcolor": "#E5ECF6",
            "gridcolor": "white",
            "gridwidth": 2,
            "linecolor": "white",
            "showbackground": true,
            "ticks": "",
            "zerolinecolor": "white"
           },
           "zaxis": {
            "backgroundcolor": "#E5ECF6",
            "gridcolor": "white",
            "gridwidth": 2,
            "linecolor": "white",
            "showbackground": true,
            "ticks": "",
            "zerolinecolor": "white"
           }
          },
          "shapedefaults": {
           "line": {
            "color": "#2a3f5f"
           }
          },
          "ternary": {
           "aaxis": {
            "gridcolor": "white",
            "linecolor": "white",
            "ticks": ""
           },
           "baxis": {
            "gridcolor": "white",
            "linecolor": "white",
            "ticks": ""
           },
           "bgcolor": "#E5ECF6",
           "caxis": {
            "gridcolor": "white",
            "linecolor": "white",
            "ticks": ""
           }
          },
          "title": {
           "x": 0.05
          },
          "xaxis": {
           "automargin": true,
           "gridcolor": "white",
           "linecolor": "white",
           "ticks": "",
           "title": {
            "standoff": 15
           },
           "zerolinecolor": "white",
           "zerolinewidth": 2
          },
          "yaxis": {
           "automargin": true,
           "gridcolor": "white",
           "linecolor": "white",
           "ticks": "",
           "title": {
            "standoff": 15
           },
           "zerolinecolor": "white",
           "zerolinewidth": 2
          }
         }
        }
       }
      },
      "text/html": [
       "<div>                            <div id=\"b048ad52-56c8-46ca-ad7a-6c5b8d060a08\" class=\"plotly-graph-div\" style=\"height:525px; width:100%;\"></div>            <script type=\"text/javascript\">                require([\"plotly\"], function(Plotly) {                    window.PLOTLYENV=window.PLOTLYENV || {};                                    if (document.getElementById(\"b048ad52-56c8-46ca-ad7a-6c5b8d060a08\")) {                    Plotly.newPlot(                        \"b048ad52-56c8-46ca-ad7a-6c5b8d060a08\",                        [{\"mode\": \"lines\", \"name\": \"lines\", \"type\": \"scatter\", \"x\": [2013, 2013, 2013, 2013, 2013, 2013, 2013, 2013, 2013, 2013, 2013, 2013, 2013, 2013, 2013, 2013, 2013, 2013, 2013, 2013, 2013, 2013, 2013, 2013, 2013, 2013, 2013, 2013, 2013, 2013, 2013, 2013, 2013, 2013, 2013, 2013, 2013, 2013, 2013, 2013, 2013, 2013, 2013, 2013, 2013, 2013, 2013, 2013, 2013, 2013, 2013, 2013, 2013, 2013, 2013, 2013, 2013, 2013, 2013, 2013, 2013, 2013, 2013, 2013, 2013, 2013, 2013, 2013, 2013, 2013, 2013, 2013, 2013, 2013, 2013, 2013, 2013, 2013, 2013, 2013, 2013, 2013, 2013, 2013, 2013, 2013, 2013, 2013, 2013, 2013, 2013, 2013, 2013, 2013, 2013, 2013, 2014, 2014, 2014, 2014, 2014, 2014, 2014, 2014, 2014, 2014, 2014, 2014, 2014, 2014, 2014, 2014, 2014, 2014, 2014, 2014, 2014, 2014, 2014, 2014, 2014, 2014, 2014, 2014, 2014, 2014, 2014, 2014, 2014, 2014, 2014, 2014, 2014, 2014, 2014, 2014, 2014, 2014, 2014, 2014, 2014, 2014, 2014, 2014, 2014, 2014, 2014, 2014, 2014, 2014, 2014, 2014, 2014, 2014, 2014, 2014, 2014, 2014, 2014, 2014, 2014, 2014, 2014, 2014, 2014, 2014, 2014, 2014, 2014, 2014, 2014, 2014, 2014, 2014, 2014, 2014, 2014, 2014, 2014, 2014, 2014, 2014, 2014, 2014, 2014, 2014, 2014, 2014, 2014, 2014, 2014, 2014, 2014, 2014, 2014, 2014, 2014, 2014, 2014, 2015, 2015, 2015, 2015, 2015, 2015, 2015, 2015, 2015, 2015, 2015, 2015, 2015, 2015, 2015, 2015, 2015, 2015, 2015, 2015, 2015, 2015, 2015, 2015, 2015, 2015, 2015, 2015, 2015, 2015, 2015, 2015, 2015, 2015, 2015, 2015, 2015, 2015, 2015, 2015, 2015, 2015, 2015, 2015, 2015, 2015, 2015, 2015, 2015, 2015, 2015, 2015, 2015, 2015, 2015, 2015, 2015, 2015, 2015, 2015, 2015, 2015, 2015, 2015, 2015, 2015, 2015, 2015, 2015, 2015, 2015, 2015, 2015, 2015, 2015, 2015, 2015, 2015, 2015, 2015, 2015, 2015, 2015, 2015, 2015, 2015, 2015, 2015, 2015, 2015, 2015, 2015, 2015, 2015, 2015, 2015, 2015, 2015, 2015, 2015, 2015, 2016, 2016, 2016, 2016, 2016, 2016, 2016, 2016, 2016, 2016, 2016, 2016, 2016, 2016, 2016, 2016, 2016, 2016, 2016, 2016, 2016, 2016, 2016, 2016, 2016, 2016, 2016, 2016, 2016, 2016, 2016, 2016, 2016, 2016, 2016, 2016, 2016, 2016, 2016, 2016, 2016, 2016, 2016, 2016, 2016, 2016, 2016, 2016, 2016, 2016, 2016, 2016, 2016, 2016, 2016, 2016, 2016, 2016, 2016, 2016, 2016, 2016, 2016, 2016, 2016, 2016, 2016, 2016, 2016, 2016, 2016, 2016, 2016, 2016, 2016, 2016, 2016, 2016, 2016, 2016, 2016, 2016, 2016, 2016, 2016, 2016, 2016, 2016, 2016, 2016, 2016, 2016, 2016, 2016, 2016, 2016, 2016, 2016, 2016, 2016, 2016, 2016, 2016, 2016, 2016, 2017, 2017, 2017, 2017, 2017, 2017, 2017, 2017, 2017, 2017, 2017, 2017, 2017, 2017, 2017, 2017, 2017, 2017, 2017, 2017, 2017, 2017, 2017, 2017, 2017, 2017, 2017, 2017, 2017, 2017, 2017, 2017, 2017, 2017, 2017, 2017, 2017, 2017, 2017, 2017, 2017, 2017, 2017, 2017, 2017, 2017, 2017, 2017, 2017, 2017, 2017, 2017, 2017, 2017, 2017, 2017, 2017, 2017, 2017, 2017, 2017, 2017, 2017, 2017, 2017, 2017, 2017, 2017, 2017, 2017, 2017, 2017, 2017, 2017, 2017, 2017, 2017, 2017, 2017, 2017, 2017, 2017, 2017, 2017, 2017, 2017, 2017, 2017, 2017, 2017, 2017, 2017, 2017, 2017, 2017, 2017, 2017, 2017, 2017, 2017, 2017, 2017, 2017, 2017, 2017, 2017, 2017, 2017, 2017, 2017, 2018, 2018, 2018, 2018, 2018, 2018, 2018, 2018, 2018, 2018, 2018, 2018, 2018, 2018, 2018, 2018, 2018, 2018, 2018, 2018, 2018, 2018, 2018, 2018, 2018, 2018, 2018, 2018, 2018, 2018, 2018, 2018, 2018, 2018, 2018, 2018, 2018, 2018, 2018, 2018, 2018, 2018, 2018, 2018, 2018, 2018, 2018, 2018, 2018, 2018, 2018, 2018, 2018, 2018, 2018, 2018, 2018, 2018, 2018, 2018, 2018, 2018, 2018, 2018, 2018, 2018, 2018, 2018, 2018, 2018, 2018, 2018, 2018, 2018, 2018, 2018, 2018, 2018, 2018, 2018, 2018, 2018, 2018, 2018, 2018, 2018, 2018, 2018, 2018, 2018, 2018, 2018, 2018, 2018, 2018, 2018, 2018, 2018, 2018, 2018, 2018, 2018, 2018, 2018, 2018, 2018, 2018, 2018], \"y\": [0.21845995899999998, 0.103387823, 0.103387823, 0.103387823, 0.09287989199999999, 0.09287989199999999, 0.132248169, 0.132248169, 0.132248169, 0.16931080399999998, 0.16931080399999998, 0.16931080399999998, 0.13329386599999998, 0.13329386599999998, 0.13382672, 0.13382672, 0.369341918, 0.15210908, 0.157194714, 0.157194714, 0.101546481, 0.101546481, 0.11720292800000001, 0.11720292800000001, 0.09592312800000001, 0.10672568, 0.16134607, 0.16134607, 0.076508615, 0.076508615, 0.11813072699999999, 0.076789685, 0.076789685, 0.143944066, 0.143944066, 0.082996359, 0.109861705, 0.109861705, 0.13129821, 0.13129821, 0.13129821, 0.116107435, 0.116107435, 0.096741912, 0.096741912, 0.126222062, 0.11960342199999999, 0.11960342199999999, 0.093257958, 0.09769111300000001, 0.09769111300000001, 0.11822516400000001, 0.166849834, 0.166849834, 0.166849834, 0.133732069, 0.133732069, 0.16836970899999998, 0.16836970899999998, 0.16836970899999998, 0.20363440600000002, 0.20363440600000002, 0.120096501, 0.120096501, 0.098763284, 0.098763284, 0.098763284, 0.098763284, 0.122710796, 0.122710796, 0.11130225199999999, 0.11130225199999999, 0.150265775, 0.097602075, 0.097602075, 0.097602075, 0.089230435, 0.089230435, 0.114208854, 0.114208854, 0.107959175, 0.107959175, 0.107959175, 0.100424796, 0.112220347, 0.112220347, 0.112220347, 0.137768711, 0.10805635300000001, 0.10805635300000001, 0.10805635300000001, 0.135139705, 0.135139705, 0.083514894, 0.083514894, 0.161234404, 0.213306363, 0.213306363, 0.101986941, 0.101986941, 0.09188676900000001, 0.09188676900000001, 0.12821359400000001, 0.12821359400000001, 0.17406292399999998, 0.17406292399999998, 0.17406292399999998, 0.17406292399999998, 0.17406292399999998, 0.13914547300000002, 0.13914547300000002, 0.133613923, 0.133613923, 0.385619914, 0.155444149, 0.155444149, 0.15415763300000002, 0.15415763300000002, 0.15415763300000002, 0.100835563, 0.100835563, 0.134723688, 0.09867081300000001, 0.106746225, 0.106746225, 0.161767663, 0.161767663, 0.161767663, 0.076967409, 0.076967409, 0.11014308199999999, 0.11014308199999999, 0.076738746, 0.076738746, 0.15986465, 0.15986465, 0.083433783, 0.102006358, 0.102006358, 0.134883921, 0.134883921, 0.134883921, 0.119135101, 0.119135101, 0.119135101, 0.097919853, 0.097919853, 0.097919853, 0.128364647, 0.128364647, 0.119918803, 0.119918803, 0.119918803, 0.094454145, 0.099768278, 0.099768278, 0.126358066, 0.163675129, 0.163675129, 0.136912048, 0.136912048, 0.136912048, 0.136912048, 0.167038566, 0.167038566, 0.167038566, 0.201765296, 0.201765296, 0.119385529, 0.119385529, 0.10805925300000001, 0.10805925300000001, 0.12594781800000002, 0.11710347800000001, 0.11710347800000001, 0.158581114, 0.09658534199999999, 0.09658534199999999, 0.090066928, 0.090066928, 0.115209009, 0.115209009, 0.109374001, 0.109374001, 0.109374001, 0.103426321, 0.103426321, 0.103426321, 0.113807584, 0.113807584, 0.114750108, 0.114750108, 0.114750108, 0.129590191, 0.129590191, 0.129590191, 0.083793275, 0.083793275, 0.15679949199999998, 0.226006857, 0.226006857, 0.107751339, 0.107751339, 0.095983271, 0.095983271, 0.130548688, 0.130548688, 0.130548688, 0.179258433, 0.179258433, 0.179258433, 0.179258433, 0.137710917, 0.137710917, 0.137710917, 0.137710917, 0.137918458, 0.365231333, 0.16164355, 0.16164355, 0.157201804, 0.157201804, 0.157201804, 0.10561139900000001, 0.10561139900000001, 0.135308508, 0.135308508, 0.100729792, 0.103376174, 0.164370965, 0.164370965, 0.076699648, 0.076699648, 0.114063675, 0.07354488, 0.07354488, 0.150670582, 0.150670582, 0.084267655, 0.10341351800000001, 0.10341351800000001, 0.141641094, 0.141641094, 0.141641094, 0.141641094, 0.11940161099999999, 0.11940161099999999, 0.10296936599999999, 0.10296936599999999, 0.131038273, 0.125929006, 0.125929006, 0.106953385, 0.103715482, 0.103715482, 0.12656309599999999, 0.16166760000000002, 0.16166760000000002, 0.136758166, 0.165379991, 0.165379991, 0.205418431, 0.205418431, 0.205418431, 0.124167103, 0.124167103, 0.124167103, 0.106508404, 0.106508404, 0.106508404, 0.127760557, 0.127760557, 0.121988689, 0.121988689, 0.099220208, 0.099220208, 0.09653194699999999, 0.09653194699999999, 0.09653194699999999, 0.1157984, 0.1157984, 0.1157984, 0.112240433, 0.112240433, 0.112240433, 0.097282815, 0.097282815, 0.117332609, 0.117332609, 0.146770812, 0.117575123, 0.117575123, 0.117575123, 0.117575123, 0.133164844, 0.133164844, 0.085503991, 0.085503991, 0.160182724, 0.160182724, 0.206889812, 0.206889812, 0.10704851900000001, 0.10704851900000001, 0.09481561, 0.09481561, 0.13609232300000002, 0.13609232300000002, 0.13609232300000002, 0.186778256, 0.186778256, 0.186778256, 0.186778256, 0.186778256, 0.137602353, 0.137602353, 0.145477959, 0.145477959, 0.360476036, 0.155619586, 0.159068152, 0.159068152, 0.159068152, 0.107874955, 0.107874955, 0.107874955, 0.13362718199999998, 0.13362718199999998, 0.103645001, 0.103645001, 0.10668404199999999, 0.16900837100000002, 0.16900837100000002, 0.07872965, 0.07872965, 0.112886932, 0.112886932, 0.071535276, 0.071535276, 0.153595529, 0.153595529, 0.09074396, 0.105061091, 0.105061091, 0.143967484, 0.143967484, 0.143967484, 0.123175319, 0.123175319, 0.1055463, 0.1055463, 0.11782952599999999, 0.125495718, 0.125495718, 0.125495718, 0.125495718, 0.108122055, 0.10783621800000001, 0.10783621800000001, 0.12223374699999999, 0.16526735, 0.16526735, 0.136901993, 0.136901993, 0.168630115, 0.168630115, 0.21059131399999997, 0.21059131399999997, 0.131045925, 0.131045925, 0.131045925, 0.10889492699999999, 0.10889492699999999, 0.10889492699999999, 0.13401511300000002, 0.13401511300000002, 0.12201188800000001, 0.12201188800000001, 0.12201188800000001, 0.173168866, 0.103994882, 0.103994882, 0.097171235, 0.097171235, 0.11350608599999999, 0.11350608599999999, 0.11350608599999999, 0.11483518699999999, 0.11483518699999999, 0.11483518699999999, 0.11483518699999999, 0.091112544, 0.117333337, 0.117333337, 0.139099515, 0.139099515, 0.11962038300000001, 0.11962038300000001, 0.11962038300000001, 0.11962038300000001, 0.13673601400000002, 0.13673601400000002, 0.08823043400000001, 0.08823043400000001, 0.166527013, 0.20147504, 0.20147504, 0.20147504, 0.106767215, 0.106767215, 0.09144969800000001, 0.09144969800000001, 0.09144969800000001, 0.142137512, 0.142137512, 0.19593888199999998, 0.19593888199999998, 0.19593888199999998, 0.19593888199999998, 0.19593888199999998, 0.135307572, 0.135307572, 0.135307572, 0.134695411, 0.134695411, 0.37531960799999997, 0.37531960799999997, 0.161577015, 0.161577015, 0.165598035, 0.165598035, 0.107364228, 0.107364228, 0.138274912, 0.138274912, 0.10515407, 0.10515407, 0.10771998199999999, 0.16779415399999997, 0.16779415399999997, 0.082860952, 0.082860952, 0.121047295, 0.121047295, 0.075991172, 0.075991172, 0.153742959, 0.153742959, 0.09487800699999999, 0.09487800699999999, 0.10534835099999999, 0.10534835099999999, 0.10534835099999999, 0.14635542, 0.14635542, 0.14635542, 0.14635542, 0.121189796, 0.121189796, 0.104757864, 0.104757864, 0.122422524, 0.122422524, 0.127598201, 0.127598201, 0.12551757, 0.106996484, 0.127136222, 0.16355645, 0.16355645, 0.137709682, 0.137709682, 0.174307203, 0.174307203, 0.174307203, 0.21619659100000002, 0.21619659100000002, 0.133650073, 0.133650073, 0.104561105, 0.104561105, 0.104561105, 0.104561105, 0.13512737800000002, 0.13512737800000002, 0.123412854, 0.123412854, 0.123412854, 0.175405582, 0.10665850699999999, 0.10665850699999999, 0.09828264699999999, 0.09828264699999999, 0.11902296400000001, 0.11902296400000001, 0.118331385, 0.118331385, 0.118331385, 0.10304127800000001, 0.10304127800000001, 0.12152857199999999, 0.12152857199999999, 0.142815696, 0.112998221, 0.112998221, 0.112998221, 0.112998221, 0.112998221, 0.13039614800000002, 0.13039614800000002, 0.13039614800000002, 0.13039614800000002, 0.089403522, 0.089403522, 0.157855571, 0.230377217, 0.230377217, 0.230377217, 0.106935219, 0.106935219, 0.092081927, 0.092081927, 0.13325915800000002, 0.13325915800000002, 0.13325915800000002, 0.201672022, 0.201672022, 0.201672022, 0.13434913099999998, 0.13434913099999998, 0.13434913099999998, 0.13434913099999998, 0.136679079, 0.35639022299999995, 0.151960166, 0.166412917, 0.166412917, 0.106615943, 0.106615943, 0.136572899, 0.136572899, 0.136572899, 0.106183975, 0.106183975, 0.10422915099999999, 0.10422915099999999, 0.10422915099999999, 0.17625748100000002, 0.17625748100000002, 0.088811235, 0.088811235, 0.119340802, 0.119340802, 0.077491187, 0.077491187, 0.077491187, 0.077491187, 0.156579802, 0.092483913, 0.107339907, 0.107339907, 0.107339907, 0.107339907, 0.157254705, 0.157254705, 0.157254705, 0.12348398099999999, 0.12348398099999999, 0.12348398099999999, 0.10450574900000001, 0.10450574900000001, 0.123187092, 0.123187092, 0.128706736, 0.128706736, 0.11752151, 0.10862498699999999, 0.130618512, 0.158726465, 0.158726465, 0.13625507, 0.13625507, 0.13625507, 0.17865286600000002, 0.17865286600000002, 0.17865286600000002, 0.220005459, 0.220005459, 0.135442536, 0.135442536, 0.106312928, 0.106312928, 0.106312928, 0.106312928, 0.136129687, 0.136129687, 0.12520736699999999, 0.12520736699999999, 0.179215825, 0.104635495, 0.104635495, 0.104635495, 0.099215844, 0.122197729, 0.122197729, 0.116304919, 0.116304919, 0.116304919, 0.104171792, 0.104171792, 0.104171792, 0.120248185, 0.120248185, 0.147574958, 0.11698483400000001, 0.11698483400000001, 0.130528884, 0.130528884, 0.130528884, 0.130528884, 0.088949591, 0.088949591, 0.15341528599999998]}],                        {\"template\": {\"data\": {\"bar\": [{\"error_x\": {\"color\": \"#2a3f5f\"}, \"error_y\": {\"color\": \"#2a3f5f\"}, \"marker\": {\"line\": {\"color\": \"#E5ECF6\", \"width\": 0.5}}, \"type\": \"bar\"}], \"barpolar\": [{\"marker\": {\"line\": {\"color\": \"#E5ECF6\", \"width\": 0.5}}, \"type\": \"barpolar\"}], \"carpet\": [{\"aaxis\": {\"endlinecolor\": \"#2a3f5f\", \"gridcolor\": \"white\", \"linecolor\": \"white\", \"minorgridcolor\": \"white\", \"startlinecolor\": \"#2a3f5f\"}, \"baxis\": {\"endlinecolor\": \"#2a3f5f\", \"gridcolor\": \"white\", \"linecolor\": \"white\", \"minorgridcolor\": \"white\", \"startlinecolor\": \"#2a3f5f\"}, \"type\": \"carpet\"}], \"choropleth\": [{\"colorbar\": {\"outlinewidth\": 0, \"ticks\": \"\"}, \"type\": \"choropleth\"}], \"contour\": [{\"colorbar\": {\"outlinewidth\": 0, \"ticks\": \"\"}, \"colorscale\": [[0.0, \"#0d0887\"], [0.1111111111111111, \"#46039f\"], [0.2222222222222222, \"#7201a8\"], [0.3333333333333333, \"#9c179e\"], [0.4444444444444444, \"#bd3786\"], [0.5555555555555556, \"#d8576b\"], [0.6666666666666666, \"#ed7953\"], [0.7777777777777778, \"#fb9f3a\"], [0.8888888888888888, \"#fdca26\"], [1.0, \"#f0f921\"]], \"type\": \"contour\"}], \"contourcarpet\": [{\"colorbar\": {\"outlinewidth\": 0, \"ticks\": \"\"}, \"type\": \"contourcarpet\"}], \"heatmap\": [{\"colorbar\": {\"outlinewidth\": 0, \"ticks\": \"\"}, \"colorscale\": [[0.0, \"#0d0887\"], [0.1111111111111111, \"#46039f\"], [0.2222222222222222, \"#7201a8\"], [0.3333333333333333, \"#9c179e\"], [0.4444444444444444, \"#bd3786\"], [0.5555555555555556, \"#d8576b\"], [0.6666666666666666, \"#ed7953\"], [0.7777777777777778, \"#fb9f3a\"], [0.8888888888888888, \"#fdca26\"], [1.0, \"#f0f921\"]], \"type\": \"heatmap\"}], \"heatmapgl\": [{\"colorbar\": {\"outlinewidth\": 0, \"ticks\": \"\"}, \"colorscale\": [[0.0, \"#0d0887\"], [0.1111111111111111, \"#46039f\"], [0.2222222222222222, \"#7201a8\"], [0.3333333333333333, \"#9c179e\"], [0.4444444444444444, \"#bd3786\"], [0.5555555555555556, \"#d8576b\"], [0.6666666666666666, \"#ed7953\"], [0.7777777777777778, \"#fb9f3a\"], [0.8888888888888888, \"#fdca26\"], [1.0, \"#f0f921\"]], \"type\": \"heatmapgl\"}], \"histogram\": [{\"marker\": {\"colorbar\": {\"outlinewidth\": 0, \"ticks\": \"\"}}, \"type\": \"histogram\"}], \"histogram2d\": [{\"colorbar\": {\"outlinewidth\": 0, \"ticks\": \"\"}, \"colorscale\": [[0.0, \"#0d0887\"], [0.1111111111111111, \"#46039f\"], [0.2222222222222222, \"#7201a8\"], [0.3333333333333333, \"#9c179e\"], [0.4444444444444444, \"#bd3786\"], [0.5555555555555556, \"#d8576b\"], [0.6666666666666666, \"#ed7953\"], [0.7777777777777778, \"#fb9f3a\"], [0.8888888888888888, \"#fdca26\"], [1.0, \"#f0f921\"]], \"type\": \"histogram2d\"}], \"histogram2dcontour\": [{\"colorbar\": {\"outlinewidth\": 0, \"ticks\": \"\"}, \"colorscale\": [[0.0, \"#0d0887\"], [0.1111111111111111, \"#46039f\"], [0.2222222222222222, \"#7201a8\"], [0.3333333333333333, \"#9c179e\"], [0.4444444444444444, \"#bd3786\"], [0.5555555555555556, \"#d8576b\"], [0.6666666666666666, \"#ed7953\"], [0.7777777777777778, \"#fb9f3a\"], [0.8888888888888888, \"#fdca26\"], [1.0, \"#f0f921\"]], \"type\": \"histogram2dcontour\"}], \"mesh3d\": [{\"colorbar\": {\"outlinewidth\": 0, \"ticks\": \"\"}, \"type\": \"mesh3d\"}], \"parcoords\": [{\"line\": {\"colorbar\": {\"outlinewidth\": 0, \"ticks\": \"\"}}, \"type\": \"parcoords\"}], \"pie\": [{\"automargin\": true, \"type\": \"pie\"}], \"scatter\": [{\"marker\": {\"colorbar\": {\"outlinewidth\": 0, \"ticks\": \"\"}}, \"type\": \"scatter\"}], \"scatter3d\": [{\"line\": {\"colorbar\": {\"outlinewidth\": 0, \"ticks\": \"\"}}, \"marker\": {\"colorbar\": {\"outlinewidth\": 0, \"ticks\": \"\"}}, \"type\": \"scatter3d\"}], \"scattercarpet\": [{\"marker\": {\"colorbar\": {\"outlinewidth\": 0, \"ticks\": \"\"}}, \"type\": \"scattercarpet\"}], \"scattergeo\": [{\"marker\": {\"colorbar\": {\"outlinewidth\": 0, \"ticks\": \"\"}}, \"type\": \"scattergeo\"}], \"scattergl\": [{\"marker\": {\"colorbar\": {\"outlinewidth\": 0, \"ticks\": \"\"}}, \"type\": \"scattergl\"}], \"scattermapbox\": [{\"marker\": {\"colorbar\": {\"outlinewidth\": 0, \"ticks\": \"\"}}, \"type\": \"scattermapbox\"}], \"scatterpolar\": [{\"marker\": {\"colorbar\": {\"outlinewidth\": 0, \"ticks\": \"\"}}, \"type\": \"scatterpolar\"}], \"scatterpolargl\": [{\"marker\": {\"colorbar\": {\"outlinewidth\": 0, \"ticks\": \"\"}}, \"type\": \"scatterpolargl\"}], \"scatterternary\": [{\"marker\": {\"colorbar\": {\"outlinewidth\": 0, \"ticks\": \"\"}}, \"type\": \"scatterternary\"}], \"surface\": [{\"colorbar\": {\"outlinewidth\": 0, \"ticks\": \"\"}, \"colorscale\": [[0.0, \"#0d0887\"], [0.1111111111111111, \"#46039f\"], [0.2222222222222222, \"#7201a8\"], [0.3333333333333333, \"#9c179e\"], [0.4444444444444444, \"#bd3786\"], [0.5555555555555556, \"#d8576b\"], [0.6666666666666666, \"#ed7953\"], [0.7777777777777778, \"#fb9f3a\"], [0.8888888888888888, \"#fdca26\"], [1.0, \"#f0f921\"]], \"type\": \"surface\"}], \"table\": [{\"cells\": {\"fill\": {\"color\": \"#EBF0F8\"}, \"line\": {\"color\": \"white\"}}, \"header\": {\"fill\": {\"color\": \"#C8D4E3\"}, \"line\": {\"color\": \"white\"}}, \"type\": \"table\"}]}, \"layout\": {\"annotationdefaults\": {\"arrowcolor\": \"#2a3f5f\", \"arrowhead\": 0, \"arrowwidth\": 1}, \"coloraxis\": {\"colorbar\": {\"outlinewidth\": 0, \"ticks\": \"\"}}, \"colorscale\": {\"diverging\": [[0, \"#8e0152\"], [0.1, \"#c51b7d\"], [0.2, \"#de77ae\"], [0.3, \"#f1b6da\"], [0.4, \"#fde0ef\"], [0.5, \"#f7f7f7\"], [0.6, \"#e6f5d0\"], [0.7, \"#b8e186\"], [0.8, \"#7fbc41\"], [0.9, \"#4d9221\"], [1, \"#276419\"]], \"sequential\": [[0.0, \"#0d0887\"], [0.1111111111111111, \"#46039f\"], [0.2222222222222222, \"#7201a8\"], [0.3333333333333333, \"#9c179e\"], [0.4444444444444444, \"#bd3786\"], [0.5555555555555556, \"#d8576b\"], [0.6666666666666666, \"#ed7953\"], [0.7777777777777778, \"#fb9f3a\"], [0.8888888888888888, \"#fdca26\"], [1.0, \"#f0f921\"]], \"sequentialminus\": [[0.0, \"#0d0887\"], [0.1111111111111111, \"#46039f\"], [0.2222222222222222, \"#7201a8\"], [0.3333333333333333, \"#9c179e\"], [0.4444444444444444, \"#bd3786\"], [0.5555555555555556, \"#d8576b\"], [0.6666666666666666, \"#ed7953\"], [0.7777777777777778, \"#fb9f3a\"], [0.8888888888888888, \"#fdca26\"], [1.0, \"#f0f921\"]]}, \"colorway\": [\"#636efa\", \"#EF553B\", \"#00cc96\", \"#ab63fa\", \"#FFA15A\", \"#19d3f3\", \"#FF6692\", \"#B6E880\", \"#FF97FF\", \"#FECB52\"], \"font\": {\"color\": \"#2a3f5f\"}, \"geo\": {\"bgcolor\": \"white\", \"lakecolor\": \"white\", \"landcolor\": \"#E5ECF6\", \"showlakes\": true, \"showland\": true, \"subunitcolor\": \"white\"}, \"hoverlabel\": {\"align\": \"left\"}, \"hovermode\": \"closest\", \"mapbox\": {\"style\": \"light\"}, \"paper_bgcolor\": \"white\", \"plot_bgcolor\": \"#E5ECF6\", \"polar\": {\"angularaxis\": {\"gridcolor\": \"white\", \"linecolor\": \"white\", \"ticks\": \"\"}, \"bgcolor\": \"#E5ECF6\", \"radialaxis\": {\"gridcolor\": \"white\", \"linecolor\": \"white\", \"ticks\": \"\"}}, \"scene\": {\"xaxis\": {\"backgroundcolor\": \"#E5ECF6\", \"gridcolor\": \"white\", \"gridwidth\": 2, \"linecolor\": \"white\", \"showbackground\": true, \"ticks\": \"\", \"zerolinecolor\": \"white\"}, \"yaxis\": {\"backgroundcolor\": \"#E5ECF6\", \"gridcolor\": \"white\", \"gridwidth\": 2, \"linecolor\": \"white\", \"showbackground\": true, \"ticks\": \"\", \"zerolinecolor\": \"white\"}, \"zaxis\": {\"backgroundcolor\": \"#E5ECF6\", \"gridcolor\": \"white\", \"gridwidth\": 2, \"linecolor\": \"white\", \"showbackground\": true, \"ticks\": \"\", \"zerolinecolor\": \"white\"}}, \"shapedefaults\": {\"line\": {\"color\": \"#2a3f5f\"}}, \"ternary\": {\"aaxis\": {\"gridcolor\": \"white\", \"linecolor\": \"white\", \"ticks\": \"\"}, \"baxis\": {\"gridcolor\": \"white\", \"linecolor\": \"white\", \"ticks\": \"\"}, \"bgcolor\": \"#E5ECF6\", \"caxis\": {\"gridcolor\": \"white\", \"linecolor\": \"white\", \"ticks\": \"\"}}, \"title\": {\"x\": 0.05}, \"xaxis\": {\"automargin\": true, \"gridcolor\": \"white\", \"linecolor\": \"white\", \"ticks\": \"\", \"title\": {\"standoff\": 15}, \"zerolinecolor\": \"white\", \"zerolinewidth\": 2}, \"yaxis\": {\"automargin\": true, \"gridcolor\": \"white\", \"linecolor\": \"white\", \"ticks\": \"\", \"title\": {\"standoff\": 15}, \"zerolinecolor\": \"white\", \"zerolinewidth\": 2}}}},                        {\"responsive\": true}                    ).then(function(){\n",
       "                            \n",
       "var gd = document.getElementById('b048ad52-56c8-46ca-ad7a-6c5b8d060a08');\n",
       "var x = new MutationObserver(function (mutations, observer) {{\n",
       "        var display = window.getComputedStyle(gd).display;\n",
       "        if (!display || display === 'none') {{\n",
       "            console.log([gd, 'removed!']);\n",
       "            Plotly.purge(gd);\n",
       "            observer.disconnect();\n",
       "        }}\n",
       "}});\n",
       "\n",
       "// Listen for the removal of the full notebook cells\n",
       "var notebookContainer = gd.closest('#notebook-container');\n",
       "if (notebookContainer) {{\n",
       "    x.observe(notebookContainer, {childList: true});\n",
       "}}\n",
       "\n",
       "// Listen for the clearing of the current output cell\n",
       "var outputEl = gd.closest('.output');\n",
       "if (outputEl) {{\n",
       "    x.observe(outputEl, {childList: true});\n",
       "}}\n",
       "\n",
       "                        })                };                });            </script>        </div>"
      ]
     },
     "metadata": {},
     "output_type": "display_data"
    }
   ],
   "source": [
    "# fig = px.line(df, x=\"Funding/Population\", y=\"Death Rate (10^-5)\", color='Race')\n",
    "# fig.show()\n",
    "fig = go.Figure()\n",
    "fig.add_trace(go.Scatter(x=df['Year'], y=df['Funding/Population'],\n",
    "                    mode='lines',\n",
    "                    name='lines'))\n",
    "# fig.add_trace(go.Scatter(x=random_x, y=random_y1,\n",
    "#                     mode='lines+markers',\n",
    "#                     name='lines+markers'))\n",
    "# fig.add_trace(go.Scatter(x=random_x, y=random_y2,\n",
    "#                     mode='markers', name='markers'))\n",
    "\n",
    "fig.show()"
   ]
  },
  {
   "cell_type": "code",
   "execution_count": 17,
   "metadata": {},
   "outputs": [
    {
     "name": "stdout",
     "output_type": "stream",
     "text": [
      "No                    4924\n",
      "Yes                    593\n",
      "no                      16\n",
      "Surveillance Video       5\n",
      "Bystander Video          4\n",
      "Surveillance video       2\n",
      "Dashcam Video            2\n",
      "Dashcam video            1\n",
      "Name: Cam, dtype: int64\n",
      "0.10748595251042233\n"
     ]
    }
   ],
   "source": [
    "df=pd.read_csv('police_deaths.csv')\n",
    "# display(df)\n",
    "# s = df.drop_duplicates(['Body_cam']).groupby('Body_cam')['Count'].sum() #thanks @jez\n",
    "print(df.Cam.value_counts())\n",
    "print(593/(4924+593))"
   ]
  },
  {
   "cell_type": "code",
   "execution_count": 2,
   "metadata": {},
   "outputs": [
    {
     "data": {
      "application/vnd.plotly.v1+json": {
       "config": {
        "plotlyServerURL": "https://plot.ly"
       },
       "data": [
        {
         "name": "Death Rate",
         "type": "bar",
         "x": [
          "Black",
          "White",
          "Native American",
          "Asian",
          "Pacific Islander",
          "Hispanic"
         ],
         "y": [
          0.256655738,
          0.448131148,
          0.014557377,
          0.015737705,
          0.005508196999999999,
          0.17547541
         ]
        },
        {
         "name": "Population Rate",
         "type": "bar",
         "x": [
          "Black",
          "White",
          "Native American",
          "Asian",
          "Pacific Islander",
          "Hispanic"
         ],
         "y": [
          0.122996421,
          0.610651368,
          0.006613376,
          0.053784472,
          0.0016261910000000001,
          0.17812757899999998
         ]
        }
       ],
       "layout": {
        "barmode": "group",
        "template": {
         "data": {
          "bar": [
           {
            "error_x": {
             "color": "#2a3f5f"
            },
            "error_y": {
             "color": "#2a3f5f"
            },
            "marker": {
             "line": {
              "color": "#E5ECF6",
              "width": 0.5
             }
            },
            "type": "bar"
           }
          ],
          "barpolar": [
           {
            "marker": {
             "line": {
              "color": "#E5ECF6",
              "width": 0.5
             }
            },
            "type": "barpolar"
           }
          ],
          "carpet": [
           {
            "aaxis": {
             "endlinecolor": "#2a3f5f",
             "gridcolor": "white",
             "linecolor": "white",
             "minorgridcolor": "white",
             "startlinecolor": "#2a3f5f"
            },
            "baxis": {
             "endlinecolor": "#2a3f5f",
             "gridcolor": "white",
             "linecolor": "white",
             "minorgridcolor": "white",
             "startlinecolor": "#2a3f5f"
            },
            "type": "carpet"
           }
          ],
          "choropleth": [
           {
            "colorbar": {
             "outlinewidth": 0,
             "ticks": ""
            },
            "type": "choropleth"
           }
          ],
          "contour": [
           {
            "colorbar": {
             "outlinewidth": 0,
             "ticks": ""
            },
            "colorscale": [
             [
              0,
              "#0d0887"
             ],
             [
              0.1111111111111111,
              "#46039f"
             ],
             [
              0.2222222222222222,
              "#7201a8"
             ],
             [
              0.3333333333333333,
              "#9c179e"
             ],
             [
              0.4444444444444444,
              "#bd3786"
             ],
             [
              0.5555555555555556,
              "#d8576b"
             ],
             [
              0.6666666666666666,
              "#ed7953"
             ],
             [
              0.7777777777777778,
              "#fb9f3a"
             ],
             [
              0.8888888888888888,
              "#fdca26"
             ],
             [
              1,
              "#f0f921"
             ]
            ],
            "type": "contour"
           }
          ],
          "contourcarpet": [
           {
            "colorbar": {
             "outlinewidth": 0,
             "ticks": ""
            },
            "type": "contourcarpet"
           }
          ],
          "heatmap": [
           {
            "colorbar": {
             "outlinewidth": 0,
             "ticks": ""
            },
            "colorscale": [
             [
              0,
              "#0d0887"
             ],
             [
              0.1111111111111111,
              "#46039f"
             ],
             [
              0.2222222222222222,
              "#7201a8"
             ],
             [
              0.3333333333333333,
              "#9c179e"
             ],
             [
              0.4444444444444444,
              "#bd3786"
             ],
             [
              0.5555555555555556,
              "#d8576b"
             ],
             [
              0.6666666666666666,
              "#ed7953"
             ],
             [
              0.7777777777777778,
              "#fb9f3a"
             ],
             [
              0.8888888888888888,
              "#fdca26"
             ],
             [
              1,
              "#f0f921"
             ]
            ],
            "type": "heatmap"
           }
          ],
          "heatmapgl": [
           {
            "colorbar": {
             "outlinewidth": 0,
             "ticks": ""
            },
            "colorscale": [
             [
              0,
              "#0d0887"
             ],
             [
              0.1111111111111111,
              "#46039f"
             ],
             [
              0.2222222222222222,
              "#7201a8"
             ],
             [
              0.3333333333333333,
              "#9c179e"
             ],
             [
              0.4444444444444444,
              "#bd3786"
             ],
             [
              0.5555555555555556,
              "#d8576b"
             ],
             [
              0.6666666666666666,
              "#ed7953"
             ],
             [
              0.7777777777777778,
              "#fb9f3a"
             ],
             [
              0.8888888888888888,
              "#fdca26"
             ],
             [
              1,
              "#f0f921"
             ]
            ],
            "type": "heatmapgl"
           }
          ],
          "histogram": [
           {
            "marker": {
             "colorbar": {
              "outlinewidth": 0,
              "ticks": ""
             }
            },
            "type": "histogram"
           }
          ],
          "histogram2d": [
           {
            "colorbar": {
             "outlinewidth": 0,
             "ticks": ""
            },
            "colorscale": [
             [
              0,
              "#0d0887"
             ],
             [
              0.1111111111111111,
              "#46039f"
             ],
             [
              0.2222222222222222,
              "#7201a8"
             ],
             [
              0.3333333333333333,
              "#9c179e"
             ],
             [
              0.4444444444444444,
              "#bd3786"
             ],
             [
              0.5555555555555556,
              "#d8576b"
             ],
             [
              0.6666666666666666,
              "#ed7953"
             ],
             [
              0.7777777777777778,
              "#fb9f3a"
             ],
             [
              0.8888888888888888,
              "#fdca26"
             ],
             [
              1,
              "#f0f921"
             ]
            ],
            "type": "histogram2d"
           }
          ],
          "histogram2dcontour": [
           {
            "colorbar": {
             "outlinewidth": 0,
             "ticks": ""
            },
            "colorscale": [
             [
              0,
              "#0d0887"
             ],
             [
              0.1111111111111111,
              "#46039f"
             ],
             [
              0.2222222222222222,
              "#7201a8"
             ],
             [
              0.3333333333333333,
              "#9c179e"
             ],
             [
              0.4444444444444444,
              "#bd3786"
             ],
             [
              0.5555555555555556,
              "#d8576b"
             ],
             [
              0.6666666666666666,
              "#ed7953"
             ],
             [
              0.7777777777777778,
              "#fb9f3a"
             ],
             [
              0.8888888888888888,
              "#fdca26"
             ],
             [
              1,
              "#f0f921"
             ]
            ],
            "type": "histogram2dcontour"
           }
          ],
          "mesh3d": [
           {
            "colorbar": {
             "outlinewidth": 0,
             "ticks": ""
            },
            "type": "mesh3d"
           }
          ],
          "parcoords": [
           {
            "line": {
             "colorbar": {
              "outlinewidth": 0,
              "ticks": ""
             }
            },
            "type": "parcoords"
           }
          ],
          "pie": [
           {
            "automargin": true,
            "type": "pie"
           }
          ],
          "scatter": [
           {
            "marker": {
             "colorbar": {
              "outlinewidth": 0,
              "ticks": ""
             }
            },
            "type": "scatter"
           }
          ],
          "scatter3d": [
           {
            "line": {
             "colorbar": {
              "outlinewidth": 0,
              "ticks": ""
             }
            },
            "marker": {
             "colorbar": {
              "outlinewidth": 0,
              "ticks": ""
             }
            },
            "type": "scatter3d"
           }
          ],
          "scattercarpet": [
           {
            "marker": {
             "colorbar": {
              "outlinewidth": 0,
              "ticks": ""
             }
            },
            "type": "scattercarpet"
           }
          ],
          "scattergeo": [
           {
            "marker": {
             "colorbar": {
              "outlinewidth": 0,
              "ticks": ""
             }
            },
            "type": "scattergeo"
           }
          ],
          "scattergl": [
           {
            "marker": {
             "colorbar": {
              "outlinewidth": 0,
              "ticks": ""
             }
            },
            "type": "scattergl"
           }
          ],
          "scattermapbox": [
           {
            "marker": {
             "colorbar": {
              "outlinewidth": 0,
              "ticks": ""
             }
            },
            "type": "scattermapbox"
           }
          ],
          "scatterpolar": [
           {
            "marker": {
             "colorbar": {
              "outlinewidth": 0,
              "ticks": ""
             }
            },
            "type": "scatterpolar"
           }
          ],
          "scatterpolargl": [
           {
            "marker": {
             "colorbar": {
              "outlinewidth": 0,
              "ticks": ""
             }
            },
            "type": "scatterpolargl"
           }
          ],
          "scatterternary": [
           {
            "marker": {
             "colorbar": {
              "outlinewidth": 0,
              "ticks": ""
             }
            },
            "type": "scatterternary"
           }
          ],
          "surface": [
           {
            "colorbar": {
             "outlinewidth": 0,
             "ticks": ""
            },
            "colorscale": [
             [
              0,
              "#0d0887"
             ],
             [
              0.1111111111111111,
              "#46039f"
             ],
             [
              0.2222222222222222,
              "#7201a8"
             ],
             [
              0.3333333333333333,
              "#9c179e"
             ],
             [
              0.4444444444444444,
              "#bd3786"
             ],
             [
              0.5555555555555556,
              "#d8576b"
             ],
             [
              0.6666666666666666,
              "#ed7953"
             ],
             [
              0.7777777777777778,
              "#fb9f3a"
             ],
             [
              0.8888888888888888,
              "#fdca26"
             ],
             [
              1,
              "#f0f921"
             ]
            ],
            "type": "surface"
           }
          ],
          "table": [
           {
            "cells": {
             "fill": {
              "color": "#EBF0F8"
             },
             "line": {
              "color": "white"
             }
            },
            "header": {
             "fill": {
              "color": "#C8D4E3"
             },
             "line": {
              "color": "white"
             }
            },
            "type": "table"
           }
          ]
         },
         "layout": {
          "annotationdefaults": {
           "arrowcolor": "#2a3f5f",
           "arrowhead": 0,
           "arrowwidth": 1
          },
          "coloraxis": {
           "colorbar": {
            "outlinewidth": 0,
            "ticks": ""
           }
          },
          "colorscale": {
           "diverging": [
            [
             0,
             "#8e0152"
            ],
            [
             0.1,
             "#c51b7d"
            ],
            [
             0.2,
             "#de77ae"
            ],
            [
             0.3,
             "#f1b6da"
            ],
            [
             0.4,
             "#fde0ef"
            ],
            [
             0.5,
             "#f7f7f7"
            ],
            [
             0.6,
             "#e6f5d0"
            ],
            [
             0.7,
             "#b8e186"
            ],
            [
             0.8,
             "#7fbc41"
            ],
            [
             0.9,
             "#4d9221"
            ],
            [
             1,
             "#276419"
            ]
           ],
           "sequential": [
            [
             0,
             "#0d0887"
            ],
            [
             0.1111111111111111,
             "#46039f"
            ],
            [
             0.2222222222222222,
             "#7201a8"
            ],
            [
             0.3333333333333333,
             "#9c179e"
            ],
            [
             0.4444444444444444,
             "#bd3786"
            ],
            [
             0.5555555555555556,
             "#d8576b"
            ],
            [
             0.6666666666666666,
             "#ed7953"
            ],
            [
             0.7777777777777778,
             "#fb9f3a"
            ],
            [
             0.8888888888888888,
             "#fdca26"
            ],
            [
             1,
             "#f0f921"
            ]
           ],
           "sequentialminus": [
            [
             0,
             "#0d0887"
            ],
            [
             0.1111111111111111,
             "#46039f"
            ],
            [
             0.2222222222222222,
             "#7201a8"
            ],
            [
             0.3333333333333333,
             "#9c179e"
            ],
            [
             0.4444444444444444,
             "#bd3786"
            ],
            [
             0.5555555555555556,
             "#d8576b"
            ],
            [
             0.6666666666666666,
             "#ed7953"
            ],
            [
             0.7777777777777778,
             "#fb9f3a"
            ],
            [
             0.8888888888888888,
             "#fdca26"
            ],
            [
             1,
             "#f0f921"
            ]
           ]
          },
          "colorway": [
           "#636efa",
           "#EF553B",
           "#00cc96",
           "#ab63fa",
           "#FFA15A",
           "#19d3f3",
           "#FF6692",
           "#B6E880",
           "#FF97FF",
           "#FECB52"
          ],
          "font": {
           "color": "#2a3f5f"
          },
          "geo": {
           "bgcolor": "white",
           "lakecolor": "white",
           "landcolor": "#E5ECF6",
           "showlakes": true,
           "showland": true,
           "subunitcolor": "white"
          },
          "hoverlabel": {
           "align": "left"
          },
          "hovermode": "closest",
          "mapbox": {
           "style": "light"
          },
          "paper_bgcolor": "white",
          "plot_bgcolor": "#E5ECF6",
          "polar": {
           "angularaxis": {
            "gridcolor": "white",
            "linecolor": "white",
            "ticks": ""
           },
           "bgcolor": "#E5ECF6",
           "radialaxis": {
            "gridcolor": "white",
            "linecolor": "white",
            "ticks": ""
           }
          },
          "scene": {
           "xaxis": {
            "backgroundcolor": "#E5ECF6",
            "gridcolor": "white",
            "gridwidth": 2,
            "linecolor": "white",
            "showbackground": true,
            "ticks": "",
            "zerolinecolor": "white"
           },
           "yaxis": {
            "backgroundcolor": "#E5ECF6",
            "gridcolor": "white",
            "gridwidth": 2,
            "linecolor": "white",
            "showbackground": true,
            "ticks": "",
            "zerolinecolor": "white"
           },
           "zaxis": {
            "backgroundcolor": "#E5ECF6",
            "gridcolor": "white",
            "gridwidth": 2,
            "linecolor": "white",
            "showbackground": true,
            "ticks": "",
            "zerolinecolor": "white"
           }
          },
          "shapedefaults": {
           "line": {
            "color": "#2a3f5f"
           }
          },
          "ternary": {
           "aaxis": {
            "gridcolor": "white",
            "linecolor": "white",
            "ticks": ""
           },
           "baxis": {
            "gridcolor": "white",
            "linecolor": "white",
            "ticks": ""
           },
           "bgcolor": "#E5ECF6",
           "caxis": {
            "gridcolor": "white",
            "linecolor": "white",
            "ticks": ""
           }
          },
          "title": {
           "x": 0.05
          },
          "xaxis": {
           "automargin": true,
           "gridcolor": "white",
           "linecolor": "white",
           "ticks": "",
           "title": {
            "standoff": 15
           },
           "zerolinecolor": "white",
           "zerolinewidth": 2
          },
          "yaxis": {
           "automargin": true,
           "gridcolor": "white",
           "linecolor": "white",
           "ticks": "",
           "title": {
            "standoff": 15
           },
           "zerolinecolor": "white",
           "zerolinewidth": 2
          }
         }
        },
        "title": {
         "text": "Breakdown of Police Violence 2013-2019"
        },
        "xaxis": {
         "title": {
          "text": "Race"
         }
        },
        "yaxis": {
         "title": {
          "text": "Percentage"
         }
        }
       }
      },
      "text/html": [
       "<div>                            <div id=\"829e6739-2e47-4d16-b8af-b357ed1d7a82\" class=\"plotly-graph-div\" style=\"height:525px; width:100%;\"></div>            <script type=\"text/javascript\">                require([\"plotly\"], function(Plotly) {                    window.PLOTLYENV=window.PLOTLYENV || {};                                    if (document.getElementById(\"829e6739-2e47-4d16-b8af-b357ed1d7a82\")) {                    Plotly.newPlot(                        \"829e6739-2e47-4d16-b8af-b357ed1d7a82\",                        [{\"name\": \"Death Rate\", \"type\": \"bar\", \"x\": [\"Black\", \"White\", \"Native American\", \"Asian\", \"Pacific Islander\", \"Hispanic\"], \"y\": [0.256655738, 0.448131148, 0.014557377, 0.015737705, 0.005508196999999999, 0.17547541]}, {\"name\": \"Population Rate\", \"type\": \"bar\", \"x\": [\"Black\", \"White\", \"Native American\", \"Asian\", \"Pacific Islander\", \"Hispanic\"], \"y\": [0.122996421, 0.610651368, 0.006613376, 0.053784472, 0.0016261910000000001, 0.17812757899999998]}],                        {\"barmode\": \"group\", \"template\": {\"data\": {\"bar\": [{\"error_x\": {\"color\": \"#2a3f5f\"}, \"error_y\": {\"color\": \"#2a3f5f\"}, \"marker\": {\"line\": {\"color\": \"#E5ECF6\", \"width\": 0.5}}, \"type\": \"bar\"}], \"barpolar\": [{\"marker\": {\"line\": {\"color\": \"#E5ECF6\", \"width\": 0.5}}, \"type\": \"barpolar\"}], \"carpet\": [{\"aaxis\": {\"endlinecolor\": \"#2a3f5f\", \"gridcolor\": \"white\", \"linecolor\": \"white\", \"minorgridcolor\": \"white\", \"startlinecolor\": \"#2a3f5f\"}, \"baxis\": {\"endlinecolor\": \"#2a3f5f\", \"gridcolor\": \"white\", \"linecolor\": \"white\", \"minorgridcolor\": \"white\", \"startlinecolor\": \"#2a3f5f\"}, \"type\": \"carpet\"}], \"choropleth\": [{\"colorbar\": {\"outlinewidth\": 0, \"ticks\": \"\"}, \"type\": \"choropleth\"}], \"contour\": [{\"colorbar\": {\"outlinewidth\": 0, \"ticks\": \"\"}, \"colorscale\": [[0.0, \"#0d0887\"], [0.1111111111111111, \"#46039f\"], [0.2222222222222222, \"#7201a8\"], [0.3333333333333333, \"#9c179e\"], [0.4444444444444444, \"#bd3786\"], [0.5555555555555556, \"#d8576b\"], [0.6666666666666666, \"#ed7953\"], [0.7777777777777778, \"#fb9f3a\"], [0.8888888888888888, \"#fdca26\"], [1.0, \"#f0f921\"]], \"type\": \"contour\"}], \"contourcarpet\": [{\"colorbar\": {\"outlinewidth\": 0, \"ticks\": \"\"}, \"type\": \"contourcarpet\"}], \"heatmap\": [{\"colorbar\": {\"outlinewidth\": 0, \"ticks\": \"\"}, \"colorscale\": [[0.0, \"#0d0887\"], [0.1111111111111111, \"#46039f\"], [0.2222222222222222, \"#7201a8\"], [0.3333333333333333, \"#9c179e\"], [0.4444444444444444, \"#bd3786\"], [0.5555555555555556, \"#d8576b\"], [0.6666666666666666, \"#ed7953\"], [0.7777777777777778, \"#fb9f3a\"], [0.8888888888888888, \"#fdca26\"], [1.0, \"#f0f921\"]], \"type\": \"heatmap\"}], \"heatmapgl\": [{\"colorbar\": {\"outlinewidth\": 0, \"ticks\": \"\"}, \"colorscale\": [[0.0, \"#0d0887\"], [0.1111111111111111, \"#46039f\"], [0.2222222222222222, \"#7201a8\"], [0.3333333333333333, \"#9c179e\"], [0.4444444444444444, \"#bd3786\"], [0.5555555555555556, \"#d8576b\"], [0.6666666666666666, \"#ed7953\"], [0.7777777777777778, \"#fb9f3a\"], [0.8888888888888888, \"#fdca26\"], [1.0, \"#f0f921\"]], \"type\": \"heatmapgl\"}], \"histogram\": [{\"marker\": {\"colorbar\": {\"outlinewidth\": 0, \"ticks\": \"\"}}, \"type\": \"histogram\"}], \"histogram2d\": [{\"colorbar\": {\"outlinewidth\": 0, \"ticks\": \"\"}, \"colorscale\": [[0.0, \"#0d0887\"], [0.1111111111111111, \"#46039f\"], [0.2222222222222222, \"#7201a8\"], [0.3333333333333333, \"#9c179e\"], [0.4444444444444444, \"#bd3786\"], [0.5555555555555556, \"#d8576b\"], [0.6666666666666666, \"#ed7953\"], [0.7777777777777778, \"#fb9f3a\"], [0.8888888888888888, \"#fdca26\"], [1.0, \"#f0f921\"]], \"type\": \"histogram2d\"}], \"histogram2dcontour\": [{\"colorbar\": {\"outlinewidth\": 0, \"ticks\": \"\"}, \"colorscale\": [[0.0, \"#0d0887\"], [0.1111111111111111, \"#46039f\"], [0.2222222222222222, \"#7201a8\"], [0.3333333333333333, \"#9c179e\"], [0.4444444444444444, \"#bd3786\"], [0.5555555555555556, \"#d8576b\"], [0.6666666666666666, \"#ed7953\"], [0.7777777777777778, \"#fb9f3a\"], [0.8888888888888888, \"#fdca26\"], [1.0, \"#f0f921\"]], \"type\": \"histogram2dcontour\"}], \"mesh3d\": [{\"colorbar\": {\"outlinewidth\": 0, \"ticks\": \"\"}, \"type\": \"mesh3d\"}], \"parcoords\": [{\"line\": {\"colorbar\": {\"outlinewidth\": 0, \"ticks\": \"\"}}, \"type\": \"parcoords\"}], \"pie\": [{\"automargin\": true, \"type\": \"pie\"}], \"scatter\": [{\"marker\": {\"colorbar\": {\"outlinewidth\": 0, \"ticks\": \"\"}}, \"type\": \"scatter\"}], \"scatter3d\": [{\"line\": {\"colorbar\": {\"outlinewidth\": 0, \"ticks\": \"\"}}, \"marker\": {\"colorbar\": {\"outlinewidth\": 0, \"ticks\": \"\"}}, \"type\": \"scatter3d\"}], \"scattercarpet\": [{\"marker\": {\"colorbar\": {\"outlinewidth\": 0, \"ticks\": \"\"}}, \"type\": \"scattercarpet\"}], \"scattergeo\": [{\"marker\": {\"colorbar\": {\"outlinewidth\": 0, \"ticks\": \"\"}}, \"type\": \"scattergeo\"}], \"scattergl\": [{\"marker\": {\"colorbar\": {\"outlinewidth\": 0, \"ticks\": \"\"}}, \"type\": \"scattergl\"}], \"scattermapbox\": [{\"marker\": {\"colorbar\": {\"outlinewidth\": 0, \"ticks\": \"\"}}, \"type\": \"scattermapbox\"}], \"scatterpolar\": [{\"marker\": {\"colorbar\": {\"outlinewidth\": 0, \"ticks\": \"\"}}, \"type\": \"scatterpolar\"}], \"scatterpolargl\": [{\"marker\": {\"colorbar\": {\"outlinewidth\": 0, \"ticks\": \"\"}}, \"type\": \"scatterpolargl\"}], \"scatterternary\": [{\"marker\": {\"colorbar\": {\"outlinewidth\": 0, \"ticks\": \"\"}}, \"type\": \"scatterternary\"}], \"surface\": [{\"colorbar\": {\"outlinewidth\": 0, \"ticks\": \"\"}, \"colorscale\": [[0.0, \"#0d0887\"], [0.1111111111111111, \"#46039f\"], [0.2222222222222222, \"#7201a8\"], [0.3333333333333333, \"#9c179e\"], [0.4444444444444444, \"#bd3786\"], [0.5555555555555556, \"#d8576b\"], [0.6666666666666666, \"#ed7953\"], [0.7777777777777778, \"#fb9f3a\"], [0.8888888888888888, \"#fdca26\"], [1.0, \"#f0f921\"]], \"type\": \"surface\"}], \"table\": [{\"cells\": {\"fill\": {\"color\": \"#EBF0F8\"}, \"line\": {\"color\": \"white\"}}, \"header\": {\"fill\": {\"color\": \"#C8D4E3\"}, \"line\": {\"color\": \"white\"}}, \"type\": \"table\"}]}, \"layout\": {\"annotationdefaults\": {\"arrowcolor\": \"#2a3f5f\", \"arrowhead\": 0, \"arrowwidth\": 1}, \"coloraxis\": {\"colorbar\": {\"outlinewidth\": 0, \"ticks\": \"\"}}, \"colorscale\": {\"diverging\": [[0, \"#8e0152\"], [0.1, \"#c51b7d\"], [0.2, \"#de77ae\"], [0.3, \"#f1b6da\"], [0.4, \"#fde0ef\"], [0.5, \"#f7f7f7\"], [0.6, \"#e6f5d0\"], [0.7, \"#b8e186\"], [0.8, \"#7fbc41\"], [0.9, \"#4d9221\"], [1, \"#276419\"]], \"sequential\": [[0.0, \"#0d0887\"], [0.1111111111111111, \"#46039f\"], [0.2222222222222222, \"#7201a8\"], [0.3333333333333333, \"#9c179e\"], [0.4444444444444444, \"#bd3786\"], [0.5555555555555556, \"#d8576b\"], [0.6666666666666666, \"#ed7953\"], [0.7777777777777778, \"#fb9f3a\"], [0.8888888888888888, \"#fdca26\"], [1.0, \"#f0f921\"]], \"sequentialminus\": [[0.0, \"#0d0887\"], [0.1111111111111111, \"#46039f\"], [0.2222222222222222, \"#7201a8\"], [0.3333333333333333, \"#9c179e\"], [0.4444444444444444, \"#bd3786\"], [0.5555555555555556, \"#d8576b\"], [0.6666666666666666, \"#ed7953\"], [0.7777777777777778, \"#fb9f3a\"], [0.8888888888888888, \"#fdca26\"], [1.0, \"#f0f921\"]]}, \"colorway\": [\"#636efa\", \"#EF553B\", \"#00cc96\", \"#ab63fa\", \"#FFA15A\", \"#19d3f3\", \"#FF6692\", \"#B6E880\", \"#FF97FF\", \"#FECB52\"], \"font\": {\"color\": \"#2a3f5f\"}, \"geo\": {\"bgcolor\": \"white\", \"lakecolor\": \"white\", \"landcolor\": \"#E5ECF6\", \"showlakes\": true, \"showland\": true, \"subunitcolor\": \"white\"}, \"hoverlabel\": {\"align\": \"left\"}, \"hovermode\": \"closest\", \"mapbox\": {\"style\": \"light\"}, \"paper_bgcolor\": \"white\", \"plot_bgcolor\": \"#E5ECF6\", \"polar\": {\"angularaxis\": {\"gridcolor\": \"white\", \"linecolor\": \"white\", \"ticks\": \"\"}, \"bgcolor\": \"#E5ECF6\", \"radialaxis\": {\"gridcolor\": \"white\", \"linecolor\": \"white\", \"ticks\": \"\"}}, \"scene\": {\"xaxis\": {\"backgroundcolor\": \"#E5ECF6\", \"gridcolor\": \"white\", \"gridwidth\": 2, \"linecolor\": \"white\", \"showbackground\": true, \"ticks\": \"\", \"zerolinecolor\": \"white\"}, \"yaxis\": {\"backgroundcolor\": \"#E5ECF6\", \"gridcolor\": \"white\", \"gridwidth\": 2, \"linecolor\": \"white\", \"showbackground\": true, \"ticks\": \"\", \"zerolinecolor\": \"white\"}, \"zaxis\": {\"backgroundcolor\": \"#E5ECF6\", \"gridcolor\": \"white\", \"gridwidth\": 2, \"linecolor\": \"white\", \"showbackground\": true, \"ticks\": \"\", \"zerolinecolor\": \"white\"}}, \"shapedefaults\": {\"line\": {\"color\": \"#2a3f5f\"}}, \"ternary\": {\"aaxis\": {\"gridcolor\": \"white\", \"linecolor\": \"white\", \"ticks\": \"\"}, \"baxis\": {\"gridcolor\": \"white\", \"linecolor\": \"white\", \"ticks\": \"\"}, \"bgcolor\": \"#E5ECF6\", \"caxis\": {\"gridcolor\": \"white\", \"linecolor\": \"white\", \"ticks\": \"\"}}, \"title\": {\"x\": 0.05}, \"xaxis\": {\"automargin\": true, \"gridcolor\": \"white\", \"linecolor\": \"white\", \"ticks\": \"\", \"title\": {\"standoff\": 15}, \"zerolinecolor\": \"white\", \"zerolinewidth\": 2}, \"yaxis\": {\"automargin\": true, \"gridcolor\": \"white\", \"linecolor\": \"white\", \"ticks\": \"\", \"title\": {\"standoff\": 15}, \"zerolinecolor\": \"white\", \"zerolinewidth\": 2}}}, \"title\": {\"text\": \"Breakdown of Police Violence 2013-2019\"}, \"xaxis\": {\"title\": {\"text\": \"Race\"}}, \"yaxis\": {\"title\": {\"text\": \"Percentage\"}}},                        {\"responsive\": true}                    ).then(function(){\n",
       "                            \n",
       "var gd = document.getElementById('829e6739-2e47-4d16-b8af-b357ed1d7a82');\n",
       "var x = new MutationObserver(function (mutations, observer) {{\n",
       "        var display = window.getComputedStyle(gd).display;\n",
       "        if (!display || display === 'none') {{\n",
       "            console.log([gd, 'removed!']);\n",
       "            Plotly.purge(gd);\n",
       "            observer.disconnect();\n",
       "        }}\n",
       "}});\n",
       "\n",
       "// Listen for the removal of the full notebook cells\n",
       "var notebookContainer = gd.closest('#notebook-container');\n",
       "if (notebookContainer) {{\n",
       "    x.observe(notebookContainer, {childList: true});\n",
       "}}\n",
       "\n",
       "// Listen for the clearing of the current output cell\n",
       "var outputEl = gd.closest('.output');\n",
       "if (outputEl) {{\n",
       "    x.observe(outputEl, {childList: true});\n",
       "}}\n",
       "\n",
       "                        })                };                });            </script>        </div>"
      ]
     },
     "metadata": {},
     "output_type": "display_data"
    }
   ],
   "source": [
    "import plotly.graph_objects as go\n",
    "df=pd.read_csv('intro_vis.csv')\n",
    "races=df['Race'].tolist()[:6]\n",
    "deaths=df['Death Rate'].tolist()[:6]\n",
    "pop=df['Population Rate'].tolist()[:6]\n",
    "fig = go.Figure(data=[\n",
    "    go.Bar(name='Death Rate', x=races, y=deaths),\n",
    "    go.Bar(name='Population Rate', x=races, y=pop)\n",
    "])\n",
    "# Change the bar mode\n",
    "# fig.update_layout(barmode='group')\n",
    "fig.update_layout(\n",
    "    title=\"Breakdown of Police Violence 2013-2019\",\n",
    "    xaxis_title=\"Race\",\n",
    "    yaxis_title=\"Percentage\",\n",
    "#     legend_title=\"Legend Title\",\n",
    "#     font=dict(\n",
    "#         family=\"Courier New, monospace\",\n",
    "#         size=18,\n",
    "#         color=\"RebeccaPurple\"\n",
    "#     ),\n",
    "    barmode='group'\n",
    ")\n",
    "fig.show()"
   ]
  },
  {
   "cell_type": "code",
   "execution_count": 18,
   "metadata": {},
   "outputs": [
    {
     "data": {
      "application/vnd.plotly.v1+json": {
       "config": {
        "plotlyServerURL": "https://plot.ly"
       },
       "data": [
        {
         "customdata": [
          [
           17.89662729
          ],
          [
           11.82268048
          ],
          [
           10.96900377
          ],
          [
           10.79071998
          ],
          [
           10.25702743
          ],
          [
           9.866875296
          ],
          [
           9.84201022
          ],
          [
           9.668009348
          ],
          [
           8.880166592
          ],
          [
           8.699680504
          ],
          [
           8.374849907
          ],
          [
           8.325379331
          ],
          [
           8.134612875
          ],
          [
           7.690592099
          ],
          [
           7.417024358
          ],
          [
           7.140976686
          ],
          [
           7.1318028479999995
          ],
          [
           7.079027908
          ],
          [
           7.043195921000001
          ],
          [
           6.805183917000001
          ],
          [
           6.77967516
          ],
          [
           6.642301933
          ],
          [
           6.514736334
          ],
          [
           6.472031117999999
          ],
          [
           6.363870447
          ],
          [
           6.3010106189999995
          ],
          [
           6.224901973
          ],
          [
           5.836406687999999
          ],
          [
           5.783763169
          ],
          [
           5.773113743
          ],
          [
           5.670161547999999
          ],
          [
           5.5228550610000005
          ],
          [
           5.398275367999999
          ],
          [
           5.300092332
          ],
          [
           5.261447295
          ],
          [
           5.257295319
          ],
          [
           5.23979759
          ],
          [
           5.203874304
          ],
          [
           5.145817017
          ],
          [
           5.102004373
          ],
          [
           5.081964265
          ],
          [
           5.0680327080000005
          ],
          [
           5.058196706
          ],
          [
           5.037364652
          ],
          [
           4.985867144
          ],
          [
           4.9005704880000005
          ],
          [
           4.856951568
          ],
          [
           4.840748452
          ],
          [
           4.770587231
          ],
          [
           4.711713792
          ],
          [
           4.670954603
          ],
          [
           4.633056815
          ],
          [
           4.623422257
          ],
          [
           4.615795599
          ],
          [
           4.609123299
          ],
          [
           4.559014986
          ],
          [
           4.527159912
          ],
          [
           4.5108558489999995
          ],
          [
           4.404820636
          ],
          [
           4.37962598
          ],
          [
           4.156370843
          ],
          [
           4.101588135
          ],
          [
           4.082778576
          ],
          [
           4.027730714
          ],
          [
           3.981116035
          ],
          [
           3.9339117139999997
          ],
          [
           3.880044543
          ],
          [
           3.8298475339999998
          ],
          [
           3.760994445
          ],
          [
           3.600094322
          ],
          [
           3.5212453239999997
          ],
          [
           3.4817971639999996
          ],
          [
           3.322462839
          ],
          [
           3.290594603
          ],
          [
           3.278038649
          ],
          [
           3.2763789460000003
          ],
          [
           3.271138094
          ],
          [
           3.193388975
          ],
          [
           3.025057763
          ],
          [
           2.997403349
          ],
          [
           2.995681912
          ],
          [
           2.9872526460000004
          ],
          [
           2.7757486539999996
          ],
          [
           2.713787056
          ],
          [
           2.613724334
          ],
          [
           2.60185304
          ],
          [
           2.543424199
          ],
          [
           1.95697397
          ],
          [
           1.866819829
          ],
          [
           1.8664621019999998
          ],
          [
           1.6586929609999999
          ],
          [
           1.6400881269999998
          ],
          [
           1.58926757
          ],
          [
           1.44884071
          ],
          [
           1.4148053719999998
          ],
          [
           1.310594667
          ],
          [
           1.28579079
          ],
          [
           1.171363444
          ],
          [
           1.09957353
          ],
          [
           0
          ]
         ],
         "hovertemplate": "Type=Avg Annual Police Homicide Rate<br>City=%{x}<br>Rates=%{customdata[0]}<extra></extra>",
         "legendgroup": "Avg Annual Police Homicide Rate",
         "marker": {
          "color": "#636efa",
          "symbol": "circle"
         },
         "mode": "markers",
         "name": "Avg Annual Police Homicide Rate",
         "orientation": "v",
         "showlegend": true,
         "type": "scatter",
         "x": [
          "St. Louis",
          "Oklahoma City",
          "Phoenix",
          "Orlando",
          "Spokane",
          "Bakersfield",
          "Tulsa",
          "Aurora",
          "Reno",
          "Kansas City Missouri",
          "Albuquerque",
          "Stockton",
          "Mesa",
          "Tucson",
          "Long Beach",
          "Denver",
          "Baltimore",
          "Columbus",
          "Santa Ana",
          "San Bernardino",
          "Jacksonville",
          "Fresno",
          "St. Paul",
          "Norfolk",
          "Anchorage",
          "Glendale",
          "Baton Rouge",
          "St. Petersburg",
          "Austin",
          "Cincinnati",
          "Newark",
          "Anaheim",
          "Seattle",
          "Memphis",
          "Louisville",
          "Scottsdale",
          "Omaha",
          "Fort Worth",
          "Colorado Springs",
          "Atlanta",
          "Arlington",
          "Fort Wayne",
          "San Antonio",
          "Garland",
          "New Orleans",
          "Madison",
          "Wichita",
          "Laredo",
          "Dallas",
          "Birmingham",
          "Fremont",
          "Los Angeles",
          "Irving",
          "Jersey City",
          "North Las Vegas",
          "Houston",
          "Indianapolis",
          "Washington",
          "Portland",
          "Durham",
          "Las Vegas",
          "Charlotte",
          "Milwaukee",
          "Chicago",
          "Sacramento",
          "Miami",
          "Henderson",
          "Tampa",
          "Riverside",
          "Cleveland",
          "El Paso",
          "Toledo",
          "San Jose",
          "Oakland",
          "San Diego",
          "Corpus Christi",
          "Pittsburgh",
          "San Francisco",
          "Chandler",
          "Honolulu",
          "Philadelphia",
          "Minneapolis",
          "Boston",
          "Rochester",
          "Nashville",
          "Detroit",
          "Hialeah",
          "Virginia Beach",
          "Lubbock",
          "Winston-Salem",
          "Lincoln",
          "Buffalo",
          "Greensboro",
          "Lexington",
          "Raleigh",
          "New York",
          "Chesapeake",
          "Chula Vista",
          "Plano",
          "Irvine"
         ],
         "xaxis": "x",
         "y": [
          17.89662729,
          11.82268048,
          10.96900377,
          10.79071998,
          10.25702743,
          9.866875296,
          9.84201022,
          9.668009348,
          8.880166592,
          8.699680504,
          8.374849907,
          8.325379331,
          8.134612875,
          7.690592099,
          7.417024358,
          7.140976686,
          7.1318028479999995,
          7.079027908,
          7.043195921000001,
          6.805183917000001,
          6.77967516,
          6.642301933,
          6.514736334,
          6.472031117999999,
          6.363870447,
          6.3010106189999995,
          6.224901973,
          5.836406687999999,
          5.783763169,
          5.773113743,
          5.670161547999999,
          5.5228550610000005,
          5.398275367999999,
          5.300092332,
          5.261447295,
          5.257295319,
          5.23979759,
          5.203874304,
          5.145817017,
          5.102004373,
          5.081964265,
          5.0680327080000005,
          5.058196706,
          5.037364652,
          4.985867144,
          4.9005704880000005,
          4.856951568,
          4.840748452,
          4.770587231,
          4.711713792,
          4.670954603,
          4.633056815,
          4.623422257,
          4.615795599,
          4.609123299,
          4.559014986,
          4.527159912,
          4.5108558489999995,
          4.404820636,
          4.37962598,
          4.156370843,
          4.101588135,
          4.082778576,
          4.027730714,
          3.981116035,
          3.9339117139999997,
          3.880044543,
          3.8298475339999998,
          3.760994445,
          3.600094322,
          3.5212453239999997,
          3.4817971639999996,
          3.322462839,
          3.290594603,
          3.278038649,
          3.2763789460000003,
          3.271138094,
          3.193388975,
          3.025057763,
          2.997403349,
          2.995681912,
          2.9872526460000004,
          2.7757486539999996,
          2.713787056,
          2.613724334,
          2.60185304,
          2.543424199,
          1.95697397,
          1.866819829,
          1.8664621019999998,
          1.6586929609999999,
          1.6400881269999998,
          1.58926757,
          1.44884071,
          1.4148053719999998,
          1.310594667,
          1.28579079,
          1.171363444,
          1.09957353,
          0
         ],
         "yaxis": "y"
        },
        {
         "customdata": [
          [
           11.06588111
          ],
          [
           3.546805843
          ],
          [
           10.89461985
          ],
          [
           5.258894806
          ],
          [
           11.79991571
          ],
          [
           5.86423361
          ],
          [
           4.608695285
          ],
          [
           5.22231783
          ],
          [
           16.41353751
          ],
          [
           9.290769944
          ],
          [
           16.43563563
          ],
          [
           7.596414472999999
          ],
          [
           11.14257651
          ],
          [
           2.358940044
          ],
          [
           8.075799172
          ],
          [
           4.184498978
          ],
          [
           10.008230699999999
          ],
          [
           2.9046884989999997
          ],
          [
           9.188070887
          ],
          [
           14.52112445
          ],
          [
           5.327864588
          ],
          [
           4.999790352
          ],
          [
           7.237521092000001
          ],
          [
           7.887549785
          ],
          [
           12.37612656
          ],
          [
           7.581892324
          ],
          [
           18.90062769
          ],
          [
           8.800858407
          ],
          [
           3.9933489539999996
          ],
          [
           3.787415925
          ],
          [
           6.301217205
          ],
          [
           1.7492724990000001
          ],
          [
           5.7068925429999995
          ],
          [
           2.968581957
          ],
          [
           4.132832865
          ],
          [
           5.56490869
          ],
          [
           1.9717093019999998
          ],
          [
           2.899821515
          ],
          [
           2.795565701
          ],
          [
           11.0049405
          ],
          [
           13.62350107
          ],
          [
           0.673337257
          ],
          [
           2.381833033
          ],
          [
           6.744270189
          ],
          [
           5.582323965
          ],
          [
           15.42525851
          ],
          [
           3.984339372
          ],
          [
           5.931763473999999
          ],
          [
           3.50627501
          ],
          [
           3.8578986680000003
          ],
          [
           6.00207244
          ],
          [
           6.604974941
          ],
          [
           7.098170714
          ],
          [
           10.11442983
          ],
          [
           3.897076585
          ],
          [
           18.40604287
          ],
          [
           4.491987461
          ],
          [
           12.14775906
          ],
          [
           10.09537113
          ],
          [
           15.06445226
          ],
          [
           10.95942091
          ],
          [
           11.53092574
          ],
          [
           6.00817952
          ],
          [
           9.939380818
          ],
          [
           5.587520197999999
          ],
          [
           9.864292046000001
          ],
          [
           16.21135806
          ],
          [
           8.736221959
          ],
          [
           6.236989291
          ],
          [
           9.724436984
          ],
          [
           10.26808982
          ],
          [
           7.242852953
          ],
          [
           7.090737009
          ],
          [
           1.614448836
          ],
          [
           4.699862048
          ],
          [
           4.166955523
          ],
          [
           6.4729014320000005
          ],
          [
           5.064649144
          ],
          [
           8.740768884
          ],
          [
           7.1355890539999995
          ],
          [
           7.067161767000001
          ],
          [
           12.19727139
          ],
          [
           4.080866737
          ],
          [
           8.107364103
          ],
          [
           3.942454541
          ],
          [
           4.53479104
          ],
          [
           1.801412241
          ],
          [
           7.054294132000001
          ],
          [
           6.518409312999999
          ],
          [
           17.84666587
          ],
          [
           7.1304624389999995
          ],
          [
           7.949672276
          ],
          [
           14.21232035
          ],
          [
           5.840375643
          ],
          [
           10.290799699999999
          ],
          [
           7.425651201
          ],
          [
           10.04662683
          ],
          [
           1.47224239
          ],
          [
           10.283287300000001
          ],
          [
           6.798277131
          ]
         ],
         "hovertemplate": "Type=Violent Crime Rate<br>City=%{x}<br>Rates=%{customdata[0]}<extra></extra>",
         "legendgroup": "Violent Crime Rate",
         "marker": {
          "color": "#EF553B",
          "symbol": "diamond"
         },
         "mode": "markers",
         "name": "Violent Crime Rate",
         "orientation": "v",
         "showlegend": true,
         "type": "scatter",
         "x": [
          "Albuquerque",
          "Anaheim",
          "Anchorage",
          "Arlington",
          "Atlanta",
          "Aurora",
          "Austin",
          "Bakersfield",
          "Baltimore",
          "Baton Rouge",
          "Birmingham",
          "Boston",
          "Buffalo",
          "Chandler",
          "Charlotte",
          "Chesapeake",
          "Chicago",
          "Chula Vista",
          "Cincinnati",
          "Cleveland",
          "Colorado Springs",
          "Columbus",
          "Corpus Christi",
          "Dallas",
          "Washington",
          "Denver",
          "Detroit",
          "Durham",
          "El Paso",
          "Fort Wayne",
          "Fort Worth",
          "Fremont",
          "Fresno",
          "Garland",
          "Glendale",
          "Greensboro",
          "Henderson",
          "Hialeah",
          "Honolulu",
          "Houston",
          "Indianapolis",
          "Irvine",
          "Irving",
          "Jacksonville",
          "Jersey City",
          "Kansas City Missouri",
          "Laredo",
          "Las Vegas",
          "Lexington",
          "Lincoln",
          "Long Beach",
          "Los Angeles",
          "Louisville",
          "Lubbock",
          "Madison",
          "Memphis",
          "Mesa",
          "Nashville",
          "Miami",
          "Milwaukee",
          "Minneapolis",
          "New Orleans",
          "New York",
          "Newark",
          "Norfolk",
          "North Las Vegas",
          "Oakland",
          "Oklahoma City",
          "Omaha",
          "Orlando",
          "Philadelphia",
          "Phoenix",
          "Pittsburgh",
          "Plano",
          "Portland",
          "Raleigh",
          "Reno",
          "Riverside",
          "Rochester",
          "Sacramento",
          "San Antonio",
          "San Bernardino",
          "San Diego",
          "San Francisco",
          "San Jose",
          "Santa Ana",
          "Scottsdale",
          "Seattle",
          "Spokane",
          "St. Louis",
          "St. Paul",
          "St. Petersburg",
          "Stockton",
          "Tampa",
          "Toledo",
          "Tucson",
          "Tulsa",
          "Virginia Beach",
          "Wichita",
          "Winston-Salem"
         ],
         "xaxis": "x",
         "y": [
          11.06588111,
          3.546805843,
          10.89461985,
          5.258894806,
          11.79991571,
          5.86423361,
          4.608695285,
          5.22231783,
          16.41353751,
          9.290769944,
          16.43563563,
          7.596414472999999,
          11.14257651,
          2.358940044,
          8.075799172,
          4.184498978,
          10.008230699999999,
          2.9046884989999997,
          9.188070887,
          14.52112445,
          5.327864588,
          4.999790352,
          7.237521092000001,
          7.887549785,
          12.37612656,
          7.581892324,
          18.90062769,
          8.800858407,
          3.9933489539999996,
          3.787415925,
          6.301217205,
          1.7492724990000001,
          5.7068925429999995,
          2.968581957,
          4.132832865,
          5.56490869,
          1.9717093019999998,
          2.899821515,
          2.795565701,
          11.0049405,
          13.62350107,
          0.673337257,
          2.381833033,
          6.744270189,
          5.582323965,
          15.42525851,
          3.984339372,
          5.931763473999999,
          3.50627501,
          3.8578986680000003,
          6.00207244,
          6.604974941,
          7.098170714,
          10.11442983,
          3.897076585,
          18.40604287,
          4.491987461,
          12.14775906,
          10.09537113,
          15.06445226,
          10.95942091,
          11.53092574,
          6.00817952,
          9.939380818,
          5.587520197999999,
          9.864292046000001,
          16.21135806,
          8.736221959,
          6.236989291,
          9.724436984,
          10.26808982,
          7.242852953,
          7.090737009,
          1.614448836,
          4.699862048,
          4.166955523,
          6.4729014320000005,
          5.064649144,
          8.740768884,
          7.1355890539999995,
          7.067161767000001,
          12.19727139,
          4.080866737,
          8.107364103,
          3.942454541,
          4.53479104,
          1.801412241,
          7.054294132000001,
          6.518409312999999,
          17.84666587,
          7.1304624389999995,
          7.949672276,
          14.21232035,
          5.840375643,
          10.290799699999999,
          7.425651201,
          10.04662683,
          1.47224239,
          10.283287300000001,
          6.798277131
         ],
         "yaxis": "y"
        }
       ],
       "layout": {
        "legend": {
         "title": {
          "text": "Type"
         },
         "tracegroupgap": 0
        },
        "margin": {
         "t": 60
        },
        "template": {
         "data": {
          "bar": [
           {
            "error_x": {
             "color": "#2a3f5f"
            },
            "error_y": {
             "color": "#2a3f5f"
            },
            "marker": {
             "line": {
              "color": "#E5ECF6",
              "width": 0.5
             }
            },
            "type": "bar"
           }
          ],
          "barpolar": [
           {
            "marker": {
             "line": {
              "color": "#E5ECF6",
              "width": 0.5
             }
            },
            "type": "barpolar"
           }
          ],
          "carpet": [
           {
            "aaxis": {
             "endlinecolor": "#2a3f5f",
             "gridcolor": "white",
             "linecolor": "white",
             "minorgridcolor": "white",
             "startlinecolor": "#2a3f5f"
            },
            "baxis": {
             "endlinecolor": "#2a3f5f",
             "gridcolor": "white",
             "linecolor": "white",
             "minorgridcolor": "white",
             "startlinecolor": "#2a3f5f"
            },
            "type": "carpet"
           }
          ],
          "choropleth": [
           {
            "colorbar": {
             "outlinewidth": 0,
             "ticks": ""
            },
            "type": "choropleth"
           }
          ],
          "contour": [
           {
            "colorbar": {
             "outlinewidth": 0,
             "ticks": ""
            },
            "colorscale": [
             [
              0,
              "#0d0887"
             ],
             [
              0.1111111111111111,
              "#46039f"
             ],
             [
              0.2222222222222222,
              "#7201a8"
             ],
             [
              0.3333333333333333,
              "#9c179e"
             ],
             [
              0.4444444444444444,
              "#bd3786"
             ],
             [
              0.5555555555555556,
              "#d8576b"
             ],
             [
              0.6666666666666666,
              "#ed7953"
             ],
             [
              0.7777777777777778,
              "#fb9f3a"
             ],
             [
              0.8888888888888888,
              "#fdca26"
             ],
             [
              1,
              "#f0f921"
             ]
            ],
            "type": "contour"
           }
          ],
          "contourcarpet": [
           {
            "colorbar": {
             "outlinewidth": 0,
             "ticks": ""
            },
            "type": "contourcarpet"
           }
          ],
          "heatmap": [
           {
            "colorbar": {
             "outlinewidth": 0,
             "ticks": ""
            },
            "colorscale": [
             [
              0,
              "#0d0887"
             ],
             [
              0.1111111111111111,
              "#46039f"
             ],
             [
              0.2222222222222222,
              "#7201a8"
             ],
             [
              0.3333333333333333,
              "#9c179e"
             ],
             [
              0.4444444444444444,
              "#bd3786"
             ],
             [
              0.5555555555555556,
              "#d8576b"
             ],
             [
              0.6666666666666666,
              "#ed7953"
             ],
             [
              0.7777777777777778,
              "#fb9f3a"
             ],
             [
              0.8888888888888888,
              "#fdca26"
             ],
             [
              1,
              "#f0f921"
             ]
            ],
            "type": "heatmap"
           }
          ],
          "heatmapgl": [
           {
            "colorbar": {
             "outlinewidth": 0,
             "ticks": ""
            },
            "colorscale": [
             [
              0,
              "#0d0887"
             ],
             [
              0.1111111111111111,
              "#46039f"
             ],
             [
              0.2222222222222222,
              "#7201a8"
             ],
             [
              0.3333333333333333,
              "#9c179e"
             ],
             [
              0.4444444444444444,
              "#bd3786"
             ],
             [
              0.5555555555555556,
              "#d8576b"
             ],
             [
              0.6666666666666666,
              "#ed7953"
             ],
             [
              0.7777777777777778,
              "#fb9f3a"
             ],
             [
              0.8888888888888888,
              "#fdca26"
             ],
             [
              1,
              "#f0f921"
             ]
            ],
            "type": "heatmapgl"
           }
          ],
          "histogram": [
           {
            "marker": {
             "colorbar": {
              "outlinewidth": 0,
              "ticks": ""
             }
            },
            "type": "histogram"
           }
          ],
          "histogram2d": [
           {
            "colorbar": {
             "outlinewidth": 0,
             "ticks": ""
            },
            "colorscale": [
             [
              0,
              "#0d0887"
             ],
             [
              0.1111111111111111,
              "#46039f"
             ],
             [
              0.2222222222222222,
              "#7201a8"
             ],
             [
              0.3333333333333333,
              "#9c179e"
             ],
             [
              0.4444444444444444,
              "#bd3786"
             ],
             [
              0.5555555555555556,
              "#d8576b"
             ],
             [
              0.6666666666666666,
              "#ed7953"
             ],
             [
              0.7777777777777778,
              "#fb9f3a"
             ],
             [
              0.8888888888888888,
              "#fdca26"
             ],
             [
              1,
              "#f0f921"
             ]
            ],
            "type": "histogram2d"
           }
          ],
          "histogram2dcontour": [
           {
            "colorbar": {
             "outlinewidth": 0,
             "ticks": ""
            },
            "colorscale": [
             [
              0,
              "#0d0887"
             ],
             [
              0.1111111111111111,
              "#46039f"
             ],
             [
              0.2222222222222222,
              "#7201a8"
             ],
             [
              0.3333333333333333,
              "#9c179e"
             ],
             [
              0.4444444444444444,
              "#bd3786"
             ],
             [
              0.5555555555555556,
              "#d8576b"
             ],
             [
              0.6666666666666666,
              "#ed7953"
             ],
             [
              0.7777777777777778,
              "#fb9f3a"
             ],
             [
              0.8888888888888888,
              "#fdca26"
             ],
             [
              1,
              "#f0f921"
             ]
            ],
            "type": "histogram2dcontour"
           }
          ],
          "mesh3d": [
           {
            "colorbar": {
             "outlinewidth": 0,
             "ticks": ""
            },
            "type": "mesh3d"
           }
          ],
          "parcoords": [
           {
            "line": {
             "colorbar": {
              "outlinewidth": 0,
              "ticks": ""
             }
            },
            "type": "parcoords"
           }
          ],
          "pie": [
           {
            "automargin": true,
            "type": "pie"
           }
          ],
          "scatter": [
           {
            "marker": {
             "colorbar": {
              "outlinewidth": 0,
              "ticks": ""
             }
            },
            "type": "scatter"
           }
          ],
          "scatter3d": [
           {
            "line": {
             "colorbar": {
              "outlinewidth": 0,
              "ticks": ""
             }
            },
            "marker": {
             "colorbar": {
              "outlinewidth": 0,
              "ticks": ""
             }
            },
            "type": "scatter3d"
           }
          ],
          "scattercarpet": [
           {
            "marker": {
             "colorbar": {
              "outlinewidth": 0,
              "ticks": ""
             }
            },
            "type": "scattercarpet"
           }
          ],
          "scattergeo": [
           {
            "marker": {
             "colorbar": {
              "outlinewidth": 0,
              "ticks": ""
             }
            },
            "type": "scattergeo"
           }
          ],
          "scattergl": [
           {
            "marker": {
             "colorbar": {
              "outlinewidth": 0,
              "ticks": ""
             }
            },
            "type": "scattergl"
           }
          ],
          "scattermapbox": [
           {
            "marker": {
             "colorbar": {
              "outlinewidth": 0,
              "ticks": ""
             }
            },
            "type": "scattermapbox"
           }
          ],
          "scatterpolar": [
           {
            "marker": {
             "colorbar": {
              "outlinewidth": 0,
              "ticks": ""
             }
            },
            "type": "scatterpolar"
           }
          ],
          "scatterpolargl": [
           {
            "marker": {
             "colorbar": {
              "outlinewidth": 0,
              "ticks": ""
             }
            },
            "type": "scatterpolargl"
           }
          ],
          "scatterternary": [
           {
            "marker": {
             "colorbar": {
              "outlinewidth": 0,
              "ticks": ""
             }
            },
            "type": "scatterternary"
           }
          ],
          "surface": [
           {
            "colorbar": {
             "outlinewidth": 0,
             "ticks": ""
            },
            "colorscale": [
             [
              0,
              "#0d0887"
             ],
             [
              0.1111111111111111,
              "#46039f"
             ],
             [
              0.2222222222222222,
              "#7201a8"
             ],
             [
              0.3333333333333333,
              "#9c179e"
             ],
             [
              0.4444444444444444,
              "#bd3786"
             ],
             [
              0.5555555555555556,
              "#d8576b"
             ],
             [
              0.6666666666666666,
              "#ed7953"
             ],
             [
              0.7777777777777778,
              "#fb9f3a"
             ],
             [
              0.8888888888888888,
              "#fdca26"
             ],
             [
              1,
              "#f0f921"
             ]
            ],
            "type": "surface"
           }
          ],
          "table": [
           {
            "cells": {
             "fill": {
              "color": "#EBF0F8"
             },
             "line": {
              "color": "white"
             }
            },
            "header": {
             "fill": {
              "color": "#C8D4E3"
             },
             "line": {
              "color": "white"
             }
            },
            "type": "table"
           }
          ]
         },
         "layout": {
          "annotationdefaults": {
           "arrowcolor": "#2a3f5f",
           "arrowhead": 0,
           "arrowwidth": 1
          },
          "coloraxis": {
           "colorbar": {
            "outlinewidth": 0,
            "ticks": ""
           }
          },
          "colorscale": {
           "diverging": [
            [
             0,
             "#8e0152"
            ],
            [
             0.1,
             "#c51b7d"
            ],
            [
             0.2,
             "#de77ae"
            ],
            [
             0.3,
             "#f1b6da"
            ],
            [
             0.4,
             "#fde0ef"
            ],
            [
             0.5,
             "#f7f7f7"
            ],
            [
             0.6,
             "#e6f5d0"
            ],
            [
             0.7,
             "#b8e186"
            ],
            [
             0.8,
             "#7fbc41"
            ],
            [
             0.9,
             "#4d9221"
            ],
            [
             1,
             "#276419"
            ]
           ],
           "sequential": [
            [
             0,
             "#0d0887"
            ],
            [
             0.1111111111111111,
             "#46039f"
            ],
            [
             0.2222222222222222,
             "#7201a8"
            ],
            [
             0.3333333333333333,
             "#9c179e"
            ],
            [
             0.4444444444444444,
             "#bd3786"
            ],
            [
             0.5555555555555556,
             "#d8576b"
            ],
            [
             0.6666666666666666,
             "#ed7953"
            ],
            [
             0.7777777777777778,
             "#fb9f3a"
            ],
            [
             0.8888888888888888,
             "#fdca26"
            ],
            [
             1,
             "#f0f921"
            ]
           ],
           "sequentialminus": [
            [
             0,
             "#0d0887"
            ],
            [
             0.1111111111111111,
             "#46039f"
            ],
            [
             0.2222222222222222,
             "#7201a8"
            ],
            [
             0.3333333333333333,
             "#9c179e"
            ],
            [
             0.4444444444444444,
             "#bd3786"
            ],
            [
             0.5555555555555556,
             "#d8576b"
            ],
            [
             0.6666666666666666,
             "#ed7953"
            ],
            [
             0.7777777777777778,
             "#fb9f3a"
            ],
            [
             0.8888888888888888,
             "#fdca26"
            ],
            [
             1,
             "#f0f921"
            ]
           ]
          },
          "colorway": [
           "#636efa",
           "#EF553B",
           "#00cc96",
           "#ab63fa",
           "#FFA15A",
           "#19d3f3",
           "#FF6692",
           "#B6E880",
           "#FF97FF",
           "#FECB52"
          ],
          "font": {
           "color": "#2a3f5f"
          },
          "geo": {
           "bgcolor": "white",
           "lakecolor": "white",
           "landcolor": "#E5ECF6",
           "showlakes": true,
           "showland": true,
           "subunitcolor": "white"
          },
          "hoverlabel": {
           "align": "left"
          },
          "hovermode": "closest",
          "mapbox": {
           "style": "light"
          },
          "paper_bgcolor": "white",
          "plot_bgcolor": "#E5ECF6",
          "polar": {
           "angularaxis": {
            "gridcolor": "white",
            "linecolor": "white",
            "ticks": ""
           },
           "bgcolor": "#E5ECF6",
           "radialaxis": {
            "gridcolor": "white",
            "linecolor": "white",
            "ticks": ""
           }
          },
          "scene": {
           "xaxis": {
            "backgroundcolor": "#E5ECF6",
            "gridcolor": "white",
            "gridwidth": 2,
            "linecolor": "white",
            "showbackground": true,
            "ticks": "",
            "zerolinecolor": "white"
           },
           "yaxis": {
            "backgroundcolor": "#E5ECF6",
            "gridcolor": "white",
            "gridwidth": 2,
            "linecolor": "white",
            "showbackground": true,
            "ticks": "",
            "zerolinecolor": "white"
           },
           "zaxis": {
            "backgroundcolor": "#E5ECF6",
            "gridcolor": "white",
            "gridwidth": 2,
            "linecolor": "white",
            "showbackground": true,
            "ticks": "",
            "zerolinecolor": "white"
           }
          },
          "shapedefaults": {
           "line": {
            "color": "#2a3f5f"
           }
          },
          "ternary": {
           "aaxis": {
            "gridcolor": "white",
            "linecolor": "white",
            "ticks": ""
           },
           "baxis": {
            "gridcolor": "white",
            "linecolor": "white",
            "ticks": ""
           },
           "bgcolor": "#E5ECF6",
           "caxis": {
            "gridcolor": "white",
            "linecolor": "white",
            "ticks": ""
           }
          },
          "title": {
           "x": 0.05
          },
          "xaxis": {
           "automargin": true,
           "gridcolor": "white",
           "linecolor": "white",
           "ticks": "",
           "title": {
            "standoff": 15
           },
           "zerolinecolor": "white",
           "zerolinewidth": 2
          },
          "yaxis": {
           "automargin": true,
           "gridcolor": "white",
           "linecolor": "white",
           "ticks": "",
           "title": {
            "standoff": 15
           },
           "zerolinecolor": "white",
           "zerolinewidth": 2
          }
         }
        },
        "width": 1700,
        "xaxis": {
         "anchor": "y",
         "domain": [
          0,
          1
         ],
         "showticklabels": true,
         "tickmode": "linear",
         "title": {
          "text": "City"
         },
         "type": "category"
        },
        "yaxis": {
         "anchor": "x",
         "domain": [
          0,
          1
         ],
         "title": {
          "text": "Rates"
         }
        }
       }
      },
      "text/html": [
       "<div>                            <div id=\"48c9a699-fc65-4b85-bd8c-22063157abc7\" class=\"plotly-graph-div\" style=\"height:525px; width:1700px;\"></div>            <script type=\"text/javascript\">                require([\"plotly\"], function(Plotly) {                    window.PLOTLYENV=window.PLOTLYENV || {};                                    if (document.getElementById(\"48c9a699-fc65-4b85-bd8c-22063157abc7\")) {                    Plotly.newPlot(                        \"48c9a699-fc65-4b85-bd8c-22063157abc7\",                        [{\"customdata\": [[17.89662729], [11.82268048], [10.96900377], [10.79071998], [10.25702743], [9.866875296], [9.84201022], [9.668009348], [8.880166592], [8.699680504], [8.374849907], [8.325379331], [8.134612875], [7.690592099], [7.417024358], [7.140976686], [7.1318028479999995], [7.079027908], [7.043195921000001], [6.805183917000001], [6.77967516], [6.642301933], [6.514736334], [6.472031117999999], [6.363870447], [6.3010106189999995], [6.224901973], [5.836406687999999], [5.783763169], [5.773113743], [5.670161547999999], [5.5228550610000005], [5.398275367999999], [5.300092332], [5.261447295], [5.257295319], [5.23979759], [5.203874304], [5.145817017], [5.102004373], [5.081964265], [5.0680327080000005], [5.058196706], [5.037364652], [4.985867144], [4.9005704880000005], [4.856951568], [4.840748452], [4.770587231], [4.711713792], [4.670954603], [4.633056815], [4.623422257], [4.615795599], [4.609123299], [4.559014986], [4.527159912], [4.5108558489999995], [4.404820636], [4.37962598], [4.156370843], [4.101588135], [4.082778576], [4.027730714], [3.981116035], [3.9339117139999997], [3.880044543], [3.8298475339999998], [3.760994445], [3.600094322], [3.5212453239999997], [3.4817971639999996], [3.322462839], [3.290594603], [3.278038649], [3.2763789460000003], [3.271138094], [3.193388975], [3.025057763], [2.997403349], [2.995681912], [2.9872526460000004], [2.7757486539999996], [2.713787056], [2.613724334], [2.60185304], [2.543424199], [1.95697397], [1.866819829], [1.8664621019999998], [1.6586929609999999], [1.6400881269999998], [1.58926757], [1.44884071], [1.4148053719999998], [1.310594667], [1.28579079], [1.171363444], [1.09957353], [0.0]], \"hovertemplate\": \"Type=Avg Annual Police Homicide Rate<br>City=%{x}<br>Rates=%{customdata[0]}<extra></extra>\", \"legendgroup\": \"Avg Annual Police Homicide Rate\", \"marker\": {\"color\": \"#636efa\", \"symbol\": \"circle\"}, \"mode\": \"markers\", \"name\": \"Avg Annual Police Homicide Rate\", \"orientation\": \"v\", \"showlegend\": true, \"type\": \"scatter\", \"x\": [\"St. Louis\", \"Oklahoma City\", \"Phoenix\", \"Orlando\", \"Spokane\", \"Bakersfield\", \"Tulsa\", \"Aurora\", \"Reno\", \"Kansas City Missouri\", \"Albuquerque\", \"Stockton\", \"Mesa\", \"Tucson\", \"Long Beach\", \"Denver\", \"Baltimore\", \"Columbus\", \"Santa Ana\", \"San Bernardino\", \"Jacksonville\", \"Fresno\", \"St. Paul\", \"Norfolk\", \"Anchorage\", \"Glendale\", \"Baton Rouge\", \"St. Petersburg\", \"Austin\", \"Cincinnati\", \"Newark\", \"Anaheim\", \"Seattle\", \"Memphis\", \"Louisville\", \"Scottsdale\", \"Omaha\", \"Fort Worth\", \"Colorado Springs\", \"Atlanta\", \"Arlington\", \"Fort Wayne\", \"San Antonio\", \"Garland\", \"New Orleans\", \"Madison\", \"Wichita\", \"Laredo\", \"Dallas\", \"Birmingham\", \"Fremont\", \"Los Angeles\", \"Irving\", \"Jersey City\", \"North Las Vegas\", \"Houston\", \"Indianapolis\", \"Washington\", \"Portland\", \"Durham\", \"Las Vegas\", \"Charlotte\", \"Milwaukee\", \"Chicago\", \"Sacramento\", \"Miami\", \"Henderson\", \"Tampa\", \"Riverside\", \"Cleveland\", \"El Paso\", \"Toledo\", \"San Jose\", \"Oakland\", \"San Diego\", \"Corpus Christi\", \"Pittsburgh\", \"San Francisco\", \"Chandler\", \"Honolulu\", \"Philadelphia\", \"Minneapolis\", \"Boston\", \"Rochester\", \"Nashville\", \"Detroit\", \"Hialeah\", \"Virginia Beach\", \"Lubbock\", \"Winston-Salem\", \"Lincoln\", \"Buffalo\", \"Greensboro\", \"Lexington\", \"Raleigh\", \"New York\", \"Chesapeake\", \"Chula Vista\", \"Plano\", \"Irvine\"], \"xaxis\": \"x\", \"y\": [17.89662729, 11.82268048, 10.96900377, 10.79071998, 10.25702743, 9.866875296, 9.84201022, 9.668009348, 8.880166592, 8.699680504, 8.374849907, 8.325379331, 8.134612875, 7.690592099, 7.417024358, 7.140976686, 7.1318028479999995, 7.079027908, 7.043195921000001, 6.805183917000001, 6.77967516, 6.642301933, 6.514736334, 6.472031117999999, 6.363870447, 6.3010106189999995, 6.224901973, 5.836406687999999, 5.783763169, 5.773113743, 5.670161547999999, 5.5228550610000005, 5.398275367999999, 5.300092332, 5.261447295, 5.257295319, 5.23979759, 5.203874304, 5.145817017, 5.102004373, 5.081964265, 5.0680327080000005, 5.058196706, 5.037364652, 4.985867144, 4.9005704880000005, 4.856951568, 4.840748452, 4.770587231, 4.711713792, 4.670954603, 4.633056815, 4.623422257, 4.615795599, 4.609123299, 4.559014986, 4.527159912, 4.5108558489999995, 4.404820636, 4.37962598, 4.156370843, 4.101588135, 4.082778576, 4.027730714, 3.981116035, 3.9339117139999997, 3.880044543, 3.8298475339999998, 3.760994445, 3.600094322, 3.5212453239999997, 3.4817971639999996, 3.322462839, 3.290594603, 3.278038649, 3.2763789460000003, 3.271138094, 3.193388975, 3.025057763, 2.997403349, 2.995681912, 2.9872526460000004, 2.7757486539999996, 2.713787056, 2.613724334, 2.60185304, 2.543424199, 1.95697397, 1.866819829, 1.8664621019999998, 1.6586929609999999, 1.6400881269999998, 1.58926757, 1.44884071, 1.4148053719999998, 1.310594667, 1.28579079, 1.171363444, 1.09957353, 0.0], \"yaxis\": \"y\"}, {\"customdata\": [[11.06588111], [3.546805843], [10.89461985], [5.258894806], [11.79991571], [5.86423361], [4.608695285], [5.22231783], [16.41353751], [9.290769944], [16.43563563], [7.596414472999999], [11.14257651], [2.358940044], [8.075799172], [4.184498978], [10.008230699999999], [2.9046884989999997], [9.188070887], [14.52112445], [5.327864588], [4.999790352], [7.237521092000001], [7.887549785], [12.37612656], [7.581892324], [18.90062769], [8.800858407], [3.9933489539999996], [3.787415925], [6.301217205], [1.7492724990000001], [5.7068925429999995], [2.968581957], [4.132832865], [5.56490869], [1.9717093019999998], [2.899821515], [2.795565701], [11.0049405], [13.62350107], [0.673337257], [2.381833033], [6.744270189], [5.582323965], [15.42525851], [3.984339372], [5.931763473999999], [3.50627501], [3.8578986680000003], [6.00207244], [6.604974941], [7.098170714], [10.11442983], [3.897076585], [18.40604287], [4.491987461], [12.14775906], [10.09537113], [15.06445226], [10.95942091], [11.53092574], [6.00817952], [9.939380818], [5.587520197999999], [9.864292046000001], [16.21135806], [8.736221959], [6.236989291], [9.724436984], [10.26808982], [7.242852953], [7.090737009], [1.614448836], [4.699862048], [4.166955523], [6.4729014320000005], [5.064649144], [8.740768884], [7.1355890539999995], [7.067161767000001], [12.19727139], [4.080866737], [8.107364103], [3.942454541], [4.53479104], [1.801412241], [7.054294132000001], [6.518409312999999], [17.84666587], [7.1304624389999995], [7.949672276], [14.21232035], [5.840375643], [10.290799699999999], [7.425651201], [10.04662683], [1.47224239], [10.283287300000001], [6.798277131]], \"hovertemplate\": \"Type=Violent Crime Rate<br>City=%{x}<br>Rates=%{customdata[0]}<extra></extra>\", \"legendgroup\": \"Violent Crime Rate\", \"marker\": {\"color\": \"#EF553B\", \"symbol\": \"diamond\"}, \"mode\": \"markers\", \"name\": \"Violent Crime Rate\", \"orientation\": \"v\", \"showlegend\": true, \"type\": \"scatter\", \"x\": [\"Albuquerque\", \"Anaheim\", \"Anchorage\", \"Arlington\", \"Atlanta\", \"Aurora\", \"Austin\", \"Bakersfield\", \"Baltimore\", \"Baton Rouge\", \"Birmingham\", \"Boston\", \"Buffalo\", \"Chandler\", \"Charlotte\", \"Chesapeake\", \"Chicago\", \"Chula Vista\", \"Cincinnati\", \"Cleveland\", \"Colorado Springs\", \"Columbus\", \"Corpus Christi\", \"Dallas\", \"Washington\", \"Denver\", \"Detroit\", \"Durham\", \"El Paso\", \"Fort Wayne\", \"Fort Worth\", \"Fremont\", \"Fresno\", \"Garland\", \"Glendale\", \"Greensboro\", \"Henderson\", \"Hialeah\", \"Honolulu\", \"Houston\", \"Indianapolis\", \"Irvine\", \"Irving\", \"Jacksonville\", \"Jersey City\", \"Kansas City Missouri\", \"Laredo\", \"Las Vegas\", \"Lexington\", \"Lincoln\", \"Long Beach\", \"Los Angeles\", \"Louisville\", \"Lubbock\", \"Madison\", \"Memphis\", \"Mesa\", \"Nashville\", \"Miami\", \"Milwaukee\", \"Minneapolis\", \"New Orleans\", \"New York\", \"Newark\", \"Norfolk\", \"North Las Vegas\", \"Oakland\", \"Oklahoma City\", \"Omaha\", \"Orlando\", \"Philadelphia\", \"Phoenix\", \"Pittsburgh\", \"Plano\", \"Portland\", \"Raleigh\", \"Reno\", \"Riverside\", \"Rochester\", \"Sacramento\", \"San Antonio\", \"San Bernardino\", \"San Diego\", \"San Francisco\", \"San Jose\", \"Santa Ana\", \"Scottsdale\", \"Seattle\", \"Spokane\", \"St. Louis\", \"St. Paul\", \"St. Petersburg\", \"Stockton\", \"Tampa\", \"Toledo\", \"Tucson\", \"Tulsa\", \"Virginia Beach\", \"Wichita\", \"Winston-Salem\"], \"xaxis\": \"x\", \"y\": [11.06588111, 3.546805843, 10.89461985, 5.258894806, 11.79991571, 5.86423361, 4.608695285, 5.22231783, 16.41353751, 9.290769944, 16.43563563, 7.596414472999999, 11.14257651, 2.358940044, 8.075799172, 4.184498978, 10.008230699999999, 2.9046884989999997, 9.188070887, 14.52112445, 5.327864588, 4.999790352, 7.237521092000001, 7.887549785, 12.37612656, 7.581892324, 18.90062769, 8.800858407, 3.9933489539999996, 3.787415925, 6.301217205, 1.7492724990000001, 5.7068925429999995, 2.968581957, 4.132832865, 5.56490869, 1.9717093019999998, 2.899821515, 2.795565701, 11.0049405, 13.62350107, 0.673337257, 2.381833033, 6.744270189, 5.582323965, 15.42525851, 3.984339372, 5.931763473999999, 3.50627501, 3.8578986680000003, 6.00207244, 6.604974941, 7.098170714, 10.11442983, 3.897076585, 18.40604287, 4.491987461, 12.14775906, 10.09537113, 15.06445226, 10.95942091, 11.53092574, 6.00817952, 9.939380818, 5.587520197999999, 9.864292046000001, 16.21135806, 8.736221959, 6.236989291, 9.724436984, 10.26808982, 7.242852953, 7.090737009, 1.614448836, 4.699862048, 4.166955523, 6.4729014320000005, 5.064649144, 8.740768884, 7.1355890539999995, 7.067161767000001, 12.19727139, 4.080866737, 8.107364103, 3.942454541, 4.53479104, 1.801412241, 7.054294132000001, 6.518409312999999, 17.84666587, 7.1304624389999995, 7.949672276, 14.21232035, 5.840375643, 10.290799699999999, 7.425651201, 10.04662683, 1.47224239, 10.283287300000001, 6.798277131], \"yaxis\": \"y\"}],                        {\"legend\": {\"title\": {\"text\": \"Type\"}, \"tracegroupgap\": 0}, \"margin\": {\"t\": 60}, \"template\": {\"data\": {\"bar\": [{\"error_x\": {\"color\": \"#2a3f5f\"}, \"error_y\": {\"color\": \"#2a3f5f\"}, \"marker\": {\"line\": {\"color\": \"#E5ECF6\", \"width\": 0.5}}, \"type\": \"bar\"}], \"barpolar\": [{\"marker\": {\"line\": {\"color\": \"#E5ECF6\", \"width\": 0.5}}, \"type\": \"barpolar\"}], \"carpet\": [{\"aaxis\": {\"endlinecolor\": \"#2a3f5f\", \"gridcolor\": \"white\", \"linecolor\": \"white\", \"minorgridcolor\": \"white\", \"startlinecolor\": \"#2a3f5f\"}, \"baxis\": {\"endlinecolor\": \"#2a3f5f\", \"gridcolor\": \"white\", \"linecolor\": \"white\", \"minorgridcolor\": \"white\", \"startlinecolor\": \"#2a3f5f\"}, \"type\": \"carpet\"}], \"choropleth\": [{\"colorbar\": {\"outlinewidth\": 0, \"ticks\": \"\"}, \"type\": \"choropleth\"}], \"contour\": [{\"colorbar\": {\"outlinewidth\": 0, \"ticks\": \"\"}, \"colorscale\": [[0.0, \"#0d0887\"], [0.1111111111111111, \"#46039f\"], [0.2222222222222222, \"#7201a8\"], [0.3333333333333333, \"#9c179e\"], [0.4444444444444444, \"#bd3786\"], [0.5555555555555556, \"#d8576b\"], [0.6666666666666666, \"#ed7953\"], [0.7777777777777778, \"#fb9f3a\"], [0.8888888888888888, \"#fdca26\"], [1.0, \"#f0f921\"]], \"type\": \"contour\"}], \"contourcarpet\": [{\"colorbar\": {\"outlinewidth\": 0, \"ticks\": \"\"}, \"type\": \"contourcarpet\"}], \"heatmap\": [{\"colorbar\": {\"outlinewidth\": 0, \"ticks\": \"\"}, \"colorscale\": [[0.0, \"#0d0887\"], [0.1111111111111111, \"#46039f\"], [0.2222222222222222, \"#7201a8\"], [0.3333333333333333, \"#9c179e\"], [0.4444444444444444, \"#bd3786\"], [0.5555555555555556, \"#d8576b\"], [0.6666666666666666, \"#ed7953\"], [0.7777777777777778, \"#fb9f3a\"], [0.8888888888888888, \"#fdca26\"], [1.0, \"#f0f921\"]], \"type\": \"heatmap\"}], \"heatmapgl\": [{\"colorbar\": {\"outlinewidth\": 0, \"ticks\": \"\"}, \"colorscale\": [[0.0, \"#0d0887\"], [0.1111111111111111, \"#46039f\"], [0.2222222222222222, \"#7201a8\"], [0.3333333333333333, \"#9c179e\"], [0.4444444444444444, \"#bd3786\"], [0.5555555555555556, \"#d8576b\"], [0.6666666666666666, \"#ed7953\"], [0.7777777777777778, \"#fb9f3a\"], [0.8888888888888888, \"#fdca26\"], [1.0, \"#f0f921\"]], \"type\": \"heatmapgl\"}], \"histogram\": [{\"marker\": {\"colorbar\": {\"outlinewidth\": 0, \"ticks\": \"\"}}, \"type\": \"histogram\"}], \"histogram2d\": [{\"colorbar\": {\"outlinewidth\": 0, \"ticks\": \"\"}, \"colorscale\": [[0.0, \"#0d0887\"], [0.1111111111111111, \"#46039f\"], [0.2222222222222222, \"#7201a8\"], [0.3333333333333333, \"#9c179e\"], [0.4444444444444444, \"#bd3786\"], [0.5555555555555556, \"#d8576b\"], [0.6666666666666666, \"#ed7953\"], [0.7777777777777778, \"#fb9f3a\"], [0.8888888888888888, \"#fdca26\"], [1.0, \"#f0f921\"]], \"type\": \"histogram2d\"}], \"histogram2dcontour\": [{\"colorbar\": {\"outlinewidth\": 0, \"ticks\": \"\"}, \"colorscale\": [[0.0, \"#0d0887\"], [0.1111111111111111, \"#46039f\"], [0.2222222222222222, \"#7201a8\"], [0.3333333333333333, \"#9c179e\"], [0.4444444444444444, \"#bd3786\"], [0.5555555555555556, \"#d8576b\"], [0.6666666666666666, \"#ed7953\"], [0.7777777777777778, \"#fb9f3a\"], [0.8888888888888888, \"#fdca26\"], [1.0, \"#f0f921\"]], \"type\": \"histogram2dcontour\"}], \"mesh3d\": [{\"colorbar\": {\"outlinewidth\": 0, \"ticks\": \"\"}, \"type\": \"mesh3d\"}], \"parcoords\": [{\"line\": {\"colorbar\": {\"outlinewidth\": 0, \"ticks\": \"\"}}, \"type\": \"parcoords\"}], \"pie\": [{\"automargin\": true, \"type\": \"pie\"}], \"scatter\": [{\"marker\": {\"colorbar\": {\"outlinewidth\": 0, \"ticks\": \"\"}}, \"type\": \"scatter\"}], \"scatter3d\": [{\"line\": {\"colorbar\": {\"outlinewidth\": 0, \"ticks\": \"\"}}, \"marker\": {\"colorbar\": {\"outlinewidth\": 0, \"ticks\": \"\"}}, \"type\": \"scatter3d\"}], \"scattercarpet\": [{\"marker\": {\"colorbar\": {\"outlinewidth\": 0, \"ticks\": \"\"}}, \"type\": \"scattercarpet\"}], \"scattergeo\": [{\"marker\": {\"colorbar\": {\"outlinewidth\": 0, \"ticks\": \"\"}}, \"type\": \"scattergeo\"}], \"scattergl\": [{\"marker\": {\"colorbar\": {\"outlinewidth\": 0, \"ticks\": \"\"}}, \"type\": \"scattergl\"}], \"scattermapbox\": [{\"marker\": {\"colorbar\": {\"outlinewidth\": 0, \"ticks\": \"\"}}, \"type\": \"scattermapbox\"}], \"scatterpolar\": [{\"marker\": {\"colorbar\": {\"outlinewidth\": 0, \"ticks\": \"\"}}, \"type\": \"scatterpolar\"}], \"scatterpolargl\": [{\"marker\": {\"colorbar\": {\"outlinewidth\": 0, \"ticks\": \"\"}}, \"type\": \"scatterpolargl\"}], \"scatterternary\": [{\"marker\": {\"colorbar\": {\"outlinewidth\": 0, \"ticks\": \"\"}}, \"type\": \"scatterternary\"}], \"surface\": [{\"colorbar\": {\"outlinewidth\": 0, \"ticks\": \"\"}, \"colorscale\": [[0.0, \"#0d0887\"], [0.1111111111111111, \"#46039f\"], [0.2222222222222222, \"#7201a8\"], [0.3333333333333333, \"#9c179e\"], [0.4444444444444444, \"#bd3786\"], [0.5555555555555556, \"#d8576b\"], [0.6666666666666666, \"#ed7953\"], [0.7777777777777778, \"#fb9f3a\"], [0.8888888888888888, \"#fdca26\"], [1.0, \"#f0f921\"]], \"type\": \"surface\"}], \"table\": [{\"cells\": {\"fill\": {\"color\": \"#EBF0F8\"}, \"line\": {\"color\": \"white\"}}, \"header\": {\"fill\": {\"color\": \"#C8D4E3\"}, \"line\": {\"color\": \"white\"}}, \"type\": \"table\"}]}, \"layout\": {\"annotationdefaults\": {\"arrowcolor\": \"#2a3f5f\", \"arrowhead\": 0, \"arrowwidth\": 1}, \"coloraxis\": {\"colorbar\": {\"outlinewidth\": 0, \"ticks\": \"\"}}, \"colorscale\": {\"diverging\": [[0, \"#8e0152\"], [0.1, \"#c51b7d\"], [0.2, \"#de77ae\"], [0.3, \"#f1b6da\"], [0.4, \"#fde0ef\"], [0.5, \"#f7f7f7\"], [0.6, \"#e6f5d0\"], [0.7, \"#b8e186\"], [0.8, \"#7fbc41\"], [0.9, \"#4d9221\"], [1, \"#276419\"]], \"sequential\": [[0.0, \"#0d0887\"], [0.1111111111111111, \"#46039f\"], [0.2222222222222222, \"#7201a8\"], [0.3333333333333333, \"#9c179e\"], [0.4444444444444444, \"#bd3786\"], [0.5555555555555556, \"#d8576b\"], [0.6666666666666666, \"#ed7953\"], [0.7777777777777778, \"#fb9f3a\"], [0.8888888888888888, \"#fdca26\"], [1.0, \"#f0f921\"]], \"sequentialminus\": [[0.0, \"#0d0887\"], [0.1111111111111111, \"#46039f\"], [0.2222222222222222, \"#7201a8\"], [0.3333333333333333, \"#9c179e\"], [0.4444444444444444, \"#bd3786\"], [0.5555555555555556, \"#d8576b\"], [0.6666666666666666, \"#ed7953\"], [0.7777777777777778, \"#fb9f3a\"], [0.8888888888888888, \"#fdca26\"], [1.0, \"#f0f921\"]]}, \"colorway\": [\"#636efa\", \"#EF553B\", \"#00cc96\", \"#ab63fa\", \"#FFA15A\", \"#19d3f3\", \"#FF6692\", \"#B6E880\", \"#FF97FF\", \"#FECB52\"], \"font\": {\"color\": \"#2a3f5f\"}, \"geo\": {\"bgcolor\": \"white\", \"lakecolor\": \"white\", \"landcolor\": \"#E5ECF6\", \"showlakes\": true, \"showland\": true, \"subunitcolor\": \"white\"}, \"hoverlabel\": {\"align\": \"left\"}, \"hovermode\": \"closest\", \"mapbox\": {\"style\": \"light\"}, \"paper_bgcolor\": \"white\", \"plot_bgcolor\": \"#E5ECF6\", \"polar\": {\"angularaxis\": {\"gridcolor\": \"white\", \"linecolor\": \"white\", \"ticks\": \"\"}, \"bgcolor\": \"#E5ECF6\", \"radialaxis\": {\"gridcolor\": \"white\", \"linecolor\": \"white\", \"ticks\": \"\"}}, \"scene\": {\"xaxis\": {\"backgroundcolor\": \"#E5ECF6\", \"gridcolor\": \"white\", \"gridwidth\": 2, \"linecolor\": \"white\", \"showbackground\": true, \"ticks\": \"\", \"zerolinecolor\": \"white\"}, \"yaxis\": {\"backgroundcolor\": \"#E5ECF6\", \"gridcolor\": \"white\", \"gridwidth\": 2, \"linecolor\": \"white\", \"showbackground\": true, \"ticks\": \"\", \"zerolinecolor\": \"white\"}, \"zaxis\": {\"backgroundcolor\": \"#E5ECF6\", \"gridcolor\": \"white\", \"gridwidth\": 2, \"linecolor\": \"white\", \"showbackground\": true, \"ticks\": \"\", \"zerolinecolor\": \"white\"}}, \"shapedefaults\": {\"line\": {\"color\": \"#2a3f5f\"}}, \"ternary\": {\"aaxis\": {\"gridcolor\": \"white\", \"linecolor\": \"white\", \"ticks\": \"\"}, \"baxis\": {\"gridcolor\": \"white\", \"linecolor\": \"white\", \"ticks\": \"\"}, \"bgcolor\": \"#E5ECF6\", \"caxis\": {\"gridcolor\": \"white\", \"linecolor\": \"white\", \"ticks\": \"\"}}, \"title\": {\"x\": 0.05}, \"xaxis\": {\"automargin\": true, \"gridcolor\": \"white\", \"linecolor\": \"white\", \"ticks\": \"\", \"title\": {\"standoff\": 15}, \"zerolinecolor\": \"white\", \"zerolinewidth\": 2}, \"yaxis\": {\"automargin\": true, \"gridcolor\": \"white\", \"linecolor\": \"white\", \"ticks\": \"\", \"title\": {\"standoff\": 15}, \"zerolinecolor\": \"white\", \"zerolinewidth\": 2}}}, \"width\": 1700, \"xaxis\": {\"anchor\": \"y\", \"domain\": [0.0, 1.0], \"showticklabels\": true, \"tickmode\": \"linear\", \"title\": {\"text\": \"City\"}, \"type\": \"category\"}, \"yaxis\": {\"anchor\": \"x\", \"domain\": [0.0, 1.0], \"title\": {\"text\": \"Rates\"}}},                        {\"responsive\": true}                    ).then(function(){\n",
       "                            \n",
       "var gd = document.getElementById('48c9a699-fc65-4b85-bd8c-22063157abc7');\n",
       "var x = new MutationObserver(function (mutations, observer) {{\n",
       "        var display = window.getComputedStyle(gd).display;\n",
       "        if (!display || display === 'none') {{\n",
       "            console.log([gd, 'removed!']);\n",
       "            Plotly.purge(gd);\n",
       "            observer.disconnect();\n",
       "        }}\n",
       "}});\n",
       "\n",
       "// Listen for the removal of the full notebook cells\n",
       "var notebookContainer = gd.closest('#notebook-container');\n",
       "if (notebookContainer) {{\n",
       "    x.observe(notebookContainer, {childList: true});\n",
       "}}\n",
       "\n",
       "// Listen for the clearing of the current output cell\n",
       "var outputEl = gd.closest('.output');\n",
       "if (outputEl) {{\n",
       "    x.observe(outputEl, {childList: true});\n",
       "}}\n",
       "\n",
       "                        })                };                });            </script>        </div>"
      ]
     },
     "metadata": {},
     "output_type": "display_data"
    }
   ],
   "source": [
    "df=pd.read_csv('police_crime.csv')\n",
    "df=df.truncate(after=199)\n",
    "fig = px.scatter(df, x=\"City\", y=\"Rates\", symbol=\"Type\", color=\"Type\", hover_data=['Rates'],width=1700)\n",
    "# fig.update_xaxes(type='category')\n",
    "fig.update_xaxes(showticklabels = True, tickmode='linear',type = 'category') \n",
    "fig.show()\n",
    "##violent crime rate=avg # violent crime/population*10^3\n",
    "##annual police homicide rate=#people killed by police/population/(#years=7) * 10^6"
   ]
  },
  {
   "cell_type": "code",
   "execution_count": 5,
   "metadata": {},
   "outputs": [
    {
     "data": {
      "text/html": [
       "<div>\n",
       "<style scoped>\n",
       "    .dataframe tbody tr th:only-of-type {\n",
       "        vertical-align: middle;\n",
       "    }\n",
       "\n",
       "    .dataframe tbody tr th {\n",
       "        vertical-align: top;\n",
       "    }\n",
       "\n",
       "    .dataframe thead th {\n",
       "        text-align: right;\n",
       "    }\n",
       "</style>\n",
       "<table border=\"1\" class=\"dataframe\">\n",
       "  <thead>\n",
       "    <tr style=\"text-align: right;\">\n",
       "      <th></th>\n",
       "      <th>Race</th>\n",
       "      <th>State</th>\n",
       "      <th>Police Funding</th>\n",
       "      <th>Year</th>\n",
       "      <th>Number of Deaths</th>\n",
       "      <th>Population</th>\n",
       "      <th>Funding/Person</th>\n",
       "      <th>Count</th>\n",
       "      <th>Death Rate</th>\n",
       "      <th>Death Rate (10^-5)</th>\n",
       "      <th>CPI</th>\n",
       "    </tr>\n",
       "  </thead>\n",
       "  <tbody>\n",
       "    <tr>\n",
       "      <th>0</th>\n",
       "      <td>White</td>\n",
       "      <td>Alaska</td>\n",
       "      <td>375107</td>\n",
       "      <td>2013</td>\n",
       "      <td>1</td>\n",
       "      <td>737068</td>\n",
       "      <td>0.508918</td>\n",
       "      <td>494783</td>\n",
       "      <td>0.000002</td>\n",
       "      <td>0.202109</td>\n",
       "      <td>232.957</td>\n",
       "    </tr>\n",
       "    <tr>\n",
       "      <th>1</th>\n",
       "      <td>Asian</td>\n",
       "      <td>Alabama</td>\n",
       "      <td>1163321</td>\n",
       "      <td>2013</td>\n",
       "      <td>1</td>\n",
       "      <td>4830081</td>\n",
       "      <td>0.240849</td>\n",
       "      <td>63011</td>\n",
       "      <td>0.000016</td>\n",
       "      <td>1.587024</td>\n",
       "      <td>232.957</td>\n",
       "    </tr>\n",
       "    <tr>\n",
       "      <th>2</th>\n",
       "      <td>Black</td>\n",
       "      <td>Alabama</td>\n",
       "      <td>1163321</td>\n",
       "      <td>2013</td>\n",
       "      <td>12</td>\n",
       "      <td>4830081</td>\n",
       "      <td>0.240849</td>\n",
       "      <td>1284340</td>\n",
       "      <td>0.000009</td>\n",
       "      <td>0.934332</td>\n",
       "      <td>232.957</td>\n",
       "    </tr>\n",
       "    <tr>\n",
       "      <th>3</th>\n",
       "      <td>White</td>\n",
       "      <td>Alabama</td>\n",
       "      <td>1163321</td>\n",
       "      <td>2013</td>\n",
       "      <td>4</td>\n",
       "      <td>4830081</td>\n",
       "      <td>0.240849</td>\n",
       "      <td>3372203</td>\n",
       "      <td>0.000001</td>\n",
       "      <td>0.118617</td>\n",
       "      <td>232.957</td>\n",
       "    </tr>\n",
       "    <tr>\n",
       "      <th>4</th>\n",
       "      <td>Black</td>\n",
       "      <td>Arkansas</td>\n",
       "      <td>640326</td>\n",
       "      <td>2013</td>\n",
       "      <td>6</td>\n",
       "      <td>2959400</td>\n",
       "      <td>0.216370</td>\n",
       "      <td>461473</td>\n",
       "      <td>0.000013</td>\n",
       "      <td>1.300184</td>\n",
       "      <td>232.957</td>\n",
       "    </tr>\n",
       "    <tr>\n",
       "      <th>...</th>\n",
       "      <td>...</td>\n",
       "      <td>...</td>\n",
       "      <td>...</td>\n",
       "      <td>...</td>\n",
       "      <td>...</td>\n",
       "      <td>...</td>\n",
       "      <td>...</td>\n",
       "      <td>...</td>\n",
       "      <td>...</td>\n",
       "      <td>...</td>\n",
       "      <td>...</td>\n",
       "    </tr>\n",
       "    <tr>\n",
       "      <th>618</th>\n",
       "      <td>Native American</td>\n",
       "      <td>Wisconsin</td>\n",
       "      <td>1903477</td>\n",
       "      <td>2018</td>\n",
       "      <td>2</td>\n",
       "      <td>5807406</td>\n",
       "      <td>0.327767</td>\n",
       "      <td>67794</td>\n",
       "      <td>0.000030</td>\n",
       "      <td>2.950114</td>\n",
       "      <td>251.107</td>\n",
       "    </tr>\n",
       "    <tr>\n",
       "      <th>619</th>\n",
       "      <td>White</td>\n",
       "      <td>Wisconsin</td>\n",
       "      <td>1903477</td>\n",
       "      <td>2018</td>\n",
       "      <td>6</td>\n",
       "      <td>5807406</td>\n",
       "      <td>0.327767</td>\n",
       "      <td>5060128</td>\n",
       "      <td>0.000001</td>\n",
       "      <td>0.118574</td>\n",
       "      <td>251.107</td>\n",
       "    </tr>\n",
       "    <tr>\n",
       "      <th>620</th>\n",
       "      <td>Black</td>\n",
       "      <td>West Virginia</td>\n",
       "      <td>403004</td>\n",
       "      <td>2018</td>\n",
       "      <td>3</td>\n",
       "      <td>1804291</td>\n",
       "      <td>0.223359</td>\n",
       "      <td>64776</td>\n",
       "      <td>0.000046</td>\n",
       "      <td>4.631345</td>\n",
       "      <td>251.107</td>\n",
       "    </tr>\n",
       "    <tr>\n",
       "      <th>621</th>\n",
       "      <td>White</td>\n",
       "      <td>West Virginia</td>\n",
       "      <td>403004</td>\n",
       "      <td>2018</td>\n",
       "      <td>4</td>\n",
       "      <td>1804291</td>\n",
       "      <td>0.223359</td>\n",
       "      <td>1687369</td>\n",
       "      <td>0.000002</td>\n",
       "      <td>0.237055</td>\n",
       "      <td>251.107</td>\n",
       "    </tr>\n",
       "    <tr>\n",
       "      <th>622</th>\n",
       "      <td>White</td>\n",
       "      <td>Wyoming</td>\n",
       "      <td>222513</td>\n",
       "      <td>2018</td>\n",
       "      <td>3</td>\n",
       "      <td>577601</td>\n",
       "      <td>0.385237</td>\n",
       "      <td>534974</td>\n",
       "      <td>0.000006</td>\n",
       "      <td>0.560775</td>\n",
       "      <td>251.107</td>\n",
       "    </tr>\n",
       "  </tbody>\n",
       "</table>\n",
       "<p>623 rows × 11 columns</p>\n",
       "</div>"
      ],
      "text/plain": [
       "                Race          State  Police Funding  Year  Number of Deaths  \\\n",
       "0              White         Alaska          375107  2013                 1   \n",
       "1              Asian        Alabama         1163321  2013                 1   \n",
       "2              Black        Alabama         1163321  2013                12   \n",
       "3              White        Alabama         1163321  2013                 4   \n",
       "4              Black       Arkansas          640326  2013                 6   \n",
       "..               ...            ...             ...   ...               ...   \n",
       "618  Native American      Wisconsin         1903477  2018                 2   \n",
       "619            White      Wisconsin         1903477  2018                 6   \n",
       "620            Black  West Virginia          403004  2018                 3   \n",
       "621            White  West Virginia          403004  2018                 4   \n",
       "622            White        Wyoming          222513  2018                 3   \n",
       "\n",
       "     Population  Funding/Person    Count  Death Rate  Death Rate (10^-5)  \\\n",
       "0        737068        0.508918   494783    0.000002            0.202109   \n",
       "1       4830081        0.240849    63011    0.000016            1.587024   \n",
       "2       4830081        0.240849  1284340    0.000009            0.934332   \n",
       "3       4830081        0.240849  3372203    0.000001            0.118617   \n",
       "4       2959400        0.216370   461473    0.000013            1.300184   \n",
       "..          ...             ...      ...         ...                 ...   \n",
       "618     5807406        0.327767    67794    0.000030            2.950114   \n",
       "619     5807406        0.327767  5060128    0.000001            0.118574   \n",
       "620     1804291        0.223359    64776    0.000046            4.631345   \n",
       "621     1804291        0.223359  1687369    0.000002            0.237055   \n",
       "622      577601        0.385237   534974    0.000006            0.560775   \n",
       "\n",
       "         CPI  \n",
       "0    232.957  \n",
       "1    232.957  \n",
       "2    232.957  \n",
       "3    232.957  \n",
       "4    232.957  \n",
       "..       ...  \n",
       "618  251.107  \n",
       "619  251.107  \n",
       "620  251.107  \n",
       "621  251.107  \n",
       "622  251.107  \n",
       "\n",
       "[623 rows x 11 columns]"
      ]
     },
     "metadata": {},
     "output_type": "display_data"
    }
   ],
   "source": [
    "df1=pd.read_csv('police_funding.csv')\n",
    "df2=pd.read_csv('cpis.csv')\n",
    "df=pd.merge(df1,df2,how='right',on=['Year'])\n",
    "display(df)\n",
    "# df.to_csv(r'testing.csv', index = False)"
   ]
  }
 ],
 "metadata": {
  "kernelspec": {
   "display_name": "Python 3",
   "language": "python",
   "name": "python3"
  },
  "language_info": {
   "codemirror_mode": {
    "name": "ipython",
    "version": 3
   },
   "file_extension": ".py",
   "mimetype": "text/x-python",
   "name": "python",
   "nbconvert_exporter": "python",
   "pygments_lexer": "ipython3",
   "version": "3.8.3"
  }
 },
 "nbformat": 4,
 "nbformat_minor": 4
}
